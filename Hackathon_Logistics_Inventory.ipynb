{
  "nbformat": 4,
  "nbformat_minor": 0,
  "metadata": {
    "colab": {
      "name": "Hackathon_Logistics_Inventory.ipynb",
      "provenance": [],
      "collapsed_sections": []
    },
    "kernelspec": {
      "name": "python3",
      "display_name": "Python 3"
    },
    "language_info": {
      "name": "python"
    }
  },
  "cells": [
    {
      "cell_type": "code",
      "metadata": {
        "colab": {
          "base_uri": "https://localhost:8080/"
        },
        "id": "ij-7LuwV9Ts0",
        "outputId": "153f60f4-7479-44e9-8488-37ce7b093ae6"
      },
      "source": [
        "pip install category_encoders"
      ],
      "execution_count": 52,
      "outputs": [
        {
          "output_type": "stream",
          "name": "stdout",
          "text": [
            "Collecting category_encoders\n",
            "  Downloading category_encoders-2.3.0-py2.py3-none-any.whl (82 kB)\n",
            "\u001b[?25l\r\u001b[K     |████                            | 10 kB 21.6 MB/s eta 0:00:01\r\u001b[K     |████████                        | 20 kB 27.2 MB/s eta 0:00:01\r\u001b[K     |████████████                    | 30 kB 28.9 MB/s eta 0:00:01\r\u001b[K     |████████████████                | 40 kB 30.8 MB/s eta 0:00:01\r\u001b[K     |████████████████████            | 51 kB 31.7 MB/s eta 0:00:01\r\u001b[K     |████████████████████████        | 61 kB 34.3 MB/s eta 0:00:01\r\u001b[K     |████████████████████████████    | 71 kB 26.1 MB/s eta 0:00:01\r\u001b[K     |███████████████████████████████▉| 81 kB 27.3 MB/s eta 0:00:01\r\u001b[K     |████████████████████████████████| 82 kB 350 kB/s \n",
            "\u001b[?25hRequirement already satisfied: numpy>=1.14.0 in /usr/local/lib/python3.7/dist-packages (from category_encoders) (1.19.5)\n",
            "Requirement already satisfied: scipy>=1.0.0 in /usr/local/lib/python3.7/dist-packages (from category_encoders) (1.4.1)\n",
            "Requirement already satisfied: scikit-learn>=0.20.0 in /usr/local/lib/python3.7/dist-packages (from category_encoders) (0.22.2.post1)\n",
            "Requirement already satisfied: statsmodels>=0.9.0 in /usr/local/lib/python3.7/dist-packages (from category_encoders) (0.10.2)\n",
            "Requirement already satisfied: pandas>=0.21.1 in /usr/local/lib/python3.7/dist-packages (from category_encoders) (1.1.5)\n",
            "Requirement already satisfied: patsy>=0.5.1 in /usr/local/lib/python3.7/dist-packages (from category_encoders) (0.5.2)\n",
            "Requirement already satisfied: pytz>=2017.2 in /usr/local/lib/python3.7/dist-packages (from pandas>=0.21.1->category_encoders) (2018.9)\n",
            "Requirement already satisfied: python-dateutil>=2.7.3 in /usr/local/lib/python3.7/dist-packages (from pandas>=0.21.1->category_encoders) (2.8.2)\n",
            "Requirement already satisfied: six in /usr/local/lib/python3.7/dist-packages (from patsy>=0.5.1->category_encoders) (1.15.0)\n",
            "Requirement already satisfied: joblib>=0.11 in /usr/local/lib/python3.7/dist-packages (from scikit-learn>=0.20.0->category_encoders) (1.0.1)\n",
            "Installing collected packages: category-encoders\n",
            "Successfully installed category-encoders-2.3.0\n"
          ]
        }
      ]
    },
    {
      "cell_type": "code",
      "metadata": {
        "colab": {
          "base_uri": "https://localhost:8080/"
        },
        "id": "-kXvbqhpRcVP",
        "outputId": "e8400f3b-6d02-4747-c2b2-fde82104b56d"
      },
      "source": [
        "#import the required libraries\n",
        "import numpy as np\n",
        "import pandas as pd\n",
        "import matplotlib.pyplot as plt\n",
        "import seaborn as sns\n",
        "%matplotlib inline\n",
        "from sklearn.model_selection import train_test_split, GridSearchCV, KFold, cross_val_score\n",
        "from sklearn.ensemble import RandomForestClassifier, AdaBoostClassifier\n",
        "from xgboost import XGBClassifier\n",
        "from sklearn.feature_selection import SelectFromModel\n",
        "from sklearn.metrics import confusion_matrix, classification_report, f1_score\n",
        "import category_encoders as ce"
      ],
      "execution_count": 53,
      "outputs": [
        {
          "output_type": "stream",
          "name": "stderr",
          "text": [
            "/usr/local/lib/python3.7/dist-packages/statsmodels/tools/_testing.py:19: FutureWarning: pandas.util.testing is deprecated. Use the functions in the public API at pandas.testing instead.\n",
            "  import pandas.util.testing as tm\n"
          ]
        }
      ]
    },
    {
      "cell_type": "code",
      "metadata": {
        "colab": {
          "resources": {
            "http://localhost:8080/nbextensions/google.colab/files.js": {
              "data": "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",
              "ok": true,
              "headers": [
                [
                  "content-type",
                  "application/javascript"
                ]
              ],
              "status": 200,
              "status_text": ""
            }
          },
          "base_uri": "https://localhost:8080/",
          "height": 72
        },
        "id": "fcsrHs4bv0cT",
        "outputId": "20a84830-c638-44c9-dbcb-1560fece0284"
      },
      "source": [
        "#importing the required datasets into colab\n",
        "from google.colab import files\n",
        "uploaded = files.upload()"
      ],
      "execution_count": 3,
      "outputs": [
        {
          "output_type": "display_data",
          "data": {
            "text/html": [
              "\n",
              "     <input type=\"file\" id=\"files-88c25cad-cac0-4e87-b99f-e5710798641a\" name=\"files[]\" multiple disabled\n",
              "        style=\"border:none\" />\n",
              "     <output id=\"result-88c25cad-cac0-4e87-b99f-e5710798641a\">\n",
              "      Upload widget is only available when the cell has been executed in the\n",
              "      current browser session. Please rerun this cell to enable.\n",
              "      </output>\n",
              "      <script src=\"/nbextensions/google.colab/files.js\"></script> "
            ],
            "text/plain": [
              "<IPython.core.display.HTML object>"
            ]
          },
          "metadata": {}
        },
        {
          "output_type": "stream",
          "name": "stdout",
          "text": [
            "Saving Train_Set.csv to Train_Set.csv\n"
          ]
        }
      ]
    },
    {
      "cell_type": "code",
      "metadata": {
        "colab": {
          "base_uri": "https://localhost:8080/",
          "height": 224
        },
        "id": "oVg5wJe4wNm6",
        "outputId": "e48070f6-5d43-4ae6-9d3a-2ba288a3105c"
      },
      "source": [
        "df_train = pd.read_csv('Train_Set.csv')\n",
        "df_train.head()"
      ],
      "execution_count": 4,
      "outputs": [
        {
          "output_type": "execute_result",
          "data": {
            "text/html": [
              "<div>\n",
              "<style scoped>\n",
              "    .dataframe tbody tr th:only-of-type {\n",
              "        vertical-align: middle;\n",
              "    }\n",
              "\n",
              "    .dataframe tbody tr th {\n",
              "        vertical-align: top;\n",
              "    }\n",
              "\n",
              "    .dataframe thead th {\n",
              "        text-align: right;\n",
              "    }\n",
              "</style>\n",
              "<table border=\"1\" class=\"dataframe\">\n",
              "  <thead>\n",
              "    <tr style=\"text-align: right;\">\n",
              "      <th></th>\n",
              "      <th>OrderId</th>\n",
              "      <th>Customer_Id</th>\n",
              "      <th>Customer_Category</th>\n",
              "      <th>Cust_State</th>\n",
              "      <th>Zipcode</th>\n",
              "      <th>Sales</th>\n",
              "      <th>Order_zone</th>\n",
              "      <th>Price</th>\n",
              "      <th>CategoryName</th>\n",
              "      <th>Transcation</th>\n",
              "      <th>Dept_Id</th>\n",
              "      <th>Dept_Name</th>\n",
              "      <th>Profit_Ratio</th>\n",
              "      <th>Discount</th>\n",
              "      <th>Quantity</th>\n",
              "      <th>Order_Profit</th>\n",
              "      <th>Product_type</th>\n",
              "      <th>Prod_Category_Id</th>\n",
              "      <th>ProductLength</th>\n",
              "      <th>ProductWeight</th>\n",
              "      <th>Dispatched</th>\n",
              "      <th>Shipping_Class</th>\n",
              "      <th>Scheduled_Shipping</th>\n",
              "      <th>Warehouse_Region</th>\n",
              "      <th>Delivery_Review</th>\n",
              "      <th>Session_Ordered</th>\n",
              "      <th>WeekdayOrder</th>\n",
              "      <th>Delivery_Status</th>\n",
              "    </tr>\n",
              "  </thead>\n",
              "  <tbody>\n",
              "    <tr>\n",
              "      <th>0</th>\n",
              "      <td>2477882</td>\n",
              "      <td>12386</td>\n",
              "      <td>Consumer</td>\n",
              "      <td>AR</td>\n",
              "      <td>19120</td>\n",
              "      <td>150.0</td>\n",
              "      <td>Central</td>\n",
              "      <td>4383.39</td>\n",
              "      <td>Cat-2</td>\n",
              "      <td>UPI</td>\n",
              "      <td>4</td>\n",
              "      <td>Apparel</td>\n",
              "      <td>0.08</td>\n",
              "      <td>0.10</td>\n",
              "      <td>3</td>\n",
              "      <td>352.78</td>\n",
              "      <td>Fragile</td>\n",
              "      <td>17</td>\n",
              "      <td>191.0</td>\n",
              "      <td>1592.0</td>\n",
              "      <td>0</td>\n",
              "      <td>Standard</td>\n",
              "      <td>4</td>\n",
              "      <td>NORTH</td>\n",
              "      <td>5.0</td>\n",
              "      <td>2.0</td>\n",
              "      <td>0</td>\n",
              "      <td>0</td>\n",
              "    </tr>\n",
              "    <tr>\n",
              "      <th>1</th>\n",
              "      <td>2477895</td>\n",
              "      <td>2630</td>\n",
              "      <td>Consumer</td>\n",
              "      <td>BR</td>\n",
              "      <td>2907</td>\n",
              "      <td>165.0</td>\n",
              "      <td>East</td>\n",
              "      <td>4295.72</td>\n",
              "      <td>Cat-2</td>\n",
              "      <td>UPI</td>\n",
              "      <td>4</td>\n",
              "      <td>Apparel</td>\n",
              "      <td>0.47</td>\n",
              "      <td>0.16</td>\n",
              "      <td>3</td>\n",
              "      <td>2018.10</td>\n",
              "      <td>Fragile</td>\n",
              "      <td>17</td>\n",
              "      <td>79.0</td>\n",
              "      <td>1420.0</td>\n",
              "      <td>0</td>\n",
              "      <td>Standard</td>\n",
              "      <td>6</td>\n",
              "      <td>NORTH</td>\n",
              "      <td>2.0</td>\n",
              "      <td>2.0</td>\n",
              "      <td>1</td>\n",
              "      <td>0</td>\n",
              "    </tr>\n",
              "    <tr>\n",
              "      <th>2</th>\n",
              "      <td>2473260</td>\n",
              "      <td>1752</td>\n",
              "      <td>Corporate</td>\n",
              "      <td>RJ</td>\n",
              "      <td>90214</td>\n",
              "      <td>171.0</td>\n",
              "      <td>South</td>\n",
              "      <td>3616.65</td>\n",
              "      <td>Cat-50</td>\n",
              "      <td>Cash</td>\n",
              "      <td>7</td>\n",
              "      <td>Fan Shop</td>\n",
              "      <td>0.26</td>\n",
              "      <td>0.07</td>\n",
              "      <td>4</td>\n",
              "      <td>939.63</td>\n",
              "      <td>Not Fragile</td>\n",
              "      <td>46</td>\n",
              "      <td>67.0</td>\n",
              "      <td>1231.0</td>\n",
              "      <td>0</td>\n",
              "      <td>Standard</td>\n",
              "      <td>6</td>\n",
              "      <td>SOUTH</td>\n",
              "      <td>4.0</td>\n",
              "      <td>2.0</td>\n",
              "      <td>0</td>\n",
              "      <td>1</td>\n",
              "    </tr>\n",
              "    <tr>\n",
              "      <th>3</th>\n",
              "      <td>2466916</td>\n",
              "      <td>9268</td>\n",
              "      <td>Consumer</td>\n",
              "      <td>UP</td>\n",
              "      <td>745</td>\n",
              "      <td>132.0</td>\n",
              "      <td>East</td>\n",
              "      <td>9175.86</td>\n",
              "      <td>Cat-12</td>\n",
              "      <td>Credit</td>\n",
              "      <td>4</td>\n",
              "      <td>Apparel</td>\n",
              "      <td>0.48</td>\n",
              "      <td>0.18</td>\n",
              "      <td>1</td>\n",
              "      <td>4401.74</td>\n",
              "      <td>Not Fragile</td>\n",
              "      <td>18</td>\n",
              "      <td>45.0</td>\n",
              "      <td>NaN</td>\n",
              "      <td>1</td>\n",
              "      <td>2A</td>\n",
              "      <td>4</td>\n",
              "      <td>NORTH</td>\n",
              "      <td>4.0</td>\n",
              "      <td>3.0</td>\n",
              "      <td>1</td>\n",
              "      <td>1</td>\n",
              "    </tr>\n",
              "    <tr>\n",
              "      <th>4</th>\n",
              "      <td>2351480</td>\n",
              "      <td>2888</td>\n",
              "      <td>Corporate</td>\n",
              "      <td>UP</td>\n",
              "      <td>92427</td>\n",
              "      <td>NaN</td>\n",
              "      <td>North</td>\n",
              "      <td>2779.29</td>\n",
              "      <td>Cat-3</td>\n",
              "      <td>UPI</td>\n",
              "      <td>5</td>\n",
              "      <td>Golf</td>\n",
              "      <td>0.13</td>\n",
              "      <td>0.16</td>\n",
              "      <td>4</td>\n",
              "      <td>361.70</td>\n",
              "      <td>Not Fragile</td>\n",
              "      <td>29</td>\n",
              "      <td>43.0</td>\n",
              "      <td>1018.0</td>\n",
              "      <td>1</td>\n",
              "      <td>Standard</td>\n",
              "      <td>5</td>\n",
              "      <td>CENTRAL</td>\n",
              "      <td>2.0</td>\n",
              "      <td>1.0</td>\n",
              "      <td>0</td>\n",
              "      <td>1</td>\n",
              "    </tr>\n",
              "  </tbody>\n",
              "</table>\n",
              "</div>"
            ],
            "text/plain": [
              "   OrderId  Customer_Id  ... WeekdayOrder Delivery_Status\n",
              "0  2477882        12386  ...            0               0\n",
              "1  2477895         2630  ...            1               0\n",
              "2  2473260         1752  ...            0               1\n",
              "3  2466916         9268  ...            1               1\n",
              "4  2351480         2888  ...            0               1\n",
              "\n",
              "[5 rows x 28 columns]"
            ]
          },
          "metadata": {},
          "execution_count": 4
        }
      ]
    },
    {
      "cell_type": "code",
      "metadata": {
        "colab": {
          "resources": {
            "http://localhost:8080/nbextensions/google.colab/files.js": {
              "data": "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",
              "ok": true,
              "headers": [
                [
                  "content-type",
                  "application/javascript"
                ]
              ],
              "status": 200,
              "status_text": ""
            }
          },
          "base_uri": "https://localhost:8080/",
          "height": 72
        },
        "id": "Q1uWMVw4x-jG",
        "outputId": "8ab0788f-54d2-457b-f732-450bdb2bb09b"
      },
      "source": [
        "#importing the required datasets (test file) into colab\n",
        "from google.colab import files\n",
        "uploaded = files.upload()"
      ],
      "execution_count": 5,
      "outputs": [
        {
          "output_type": "display_data",
          "data": {
            "text/html": [
              "\n",
              "     <input type=\"file\" id=\"files-51db7213-3bba-4b0c-bd4e-7816cab3aeef\" name=\"files[]\" multiple disabled\n",
              "        style=\"border:none\" />\n",
              "     <output id=\"result-51db7213-3bba-4b0c-bd4e-7816cab3aeef\">\n",
              "      Upload widget is only available when the cell has been executed in the\n",
              "      current browser session. Please rerun this cell to enable.\n",
              "      </output>\n",
              "      <script src=\"/nbextensions/google.colab/files.js\"></script> "
            ],
            "text/plain": [
              "<IPython.core.display.HTML object>"
            ]
          },
          "metadata": {}
        },
        {
          "output_type": "stream",
          "name": "stdout",
          "text": [
            "Saving Test_Set.csv to Test_Set.csv\n"
          ]
        }
      ]
    },
    {
      "cell_type": "code",
      "metadata": {
        "colab": {
          "base_uri": "https://localhost:8080/",
          "height": 224
        },
        "id": "Z86ahchKyQWa",
        "outputId": "d50cfd95-4cfd-4b54-d722-28cea0f1c356"
      },
      "source": [
        "df_test = pd.read_csv('Test_Set.csv')\n",
        "df_test.head()"
      ],
      "execution_count": 6,
      "outputs": [
        {
          "output_type": "execute_result",
          "data": {
            "text/html": [
              "<div>\n",
              "<style scoped>\n",
              "    .dataframe tbody tr th:only-of-type {\n",
              "        vertical-align: middle;\n",
              "    }\n",
              "\n",
              "    .dataframe tbody tr th {\n",
              "        vertical-align: top;\n",
              "    }\n",
              "\n",
              "    .dataframe thead th {\n",
              "        text-align: right;\n",
              "    }\n",
              "</style>\n",
              "<table border=\"1\" class=\"dataframe\">\n",
              "  <thead>\n",
              "    <tr style=\"text-align: right;\">\n",
              "      <th></th>\n",
              "      <th>OrderId</th>\n",
              "      <th>Customer_Id</th>\n",
              "      <th>Customer_Category</th>\n",
              "      <th>Cust_State</th>\n",
              "      <th>Zipcode</th>\n",
              "      <th>Sales</th>\n",
              "      <th>Order_zone</th>\n",
              "      <th>Price</th>\n",
              "      <th>CategoryName</th>\n",
              "      <th>Transcation</th>\n",
              "      <th>Dept_Id</th>\n",
              "      <th>Dept_Name</th>\n",
              "      <th>Profit_Ratio</th>\n",
              "      <th>Discount</th>\n",
              "      <th>Quantity</th>\n",
              "      <th>Order_Profit</th>\n",
              "      <th>Product_type</th>\n",
              "      <th>Prod_Category_Id</th>\n",
              "      <th>ProductLength</th>\n",
              "      <th>ProductWeight</th>\n",
              "      <th>Dispatched</th>\n",
              "      <th>Shipping_Class</th>\n",
              "      <th>Scheduled_Shipping</th>\n",
              "      <th>Warehouse_Region</th>\n",
              "      <th>Delivery_Review</th>\n",
              "      <th>Session_Ordered</th>\n",
              "      <th>WeekdayOrder</th>\n",
              "    </tr>\n",
              "  </thead>\n",
              "  <tbody>\n",
              "    <tr>\n",
              "      <th>0</th>\n",
              "      <td>2372881</td>\n",
              "      <td>2989</td>\n",
              "      <td>others</td>\n",
              "      <td>HR</td>\n",
              "      <td>735</td>\n",
              "      <td>NaN</td>\n",
              "      <td>West</td>\n",
              "      <td>2833.08</td>\n",
              "      <td>Cat-3</td>\n",
              "      <td>UPI</td>\n",
              "      <td>5</td>\n",
              "      <td>Golf</td>\n",
              "      <td>-0.68</td>\n",
              "      <td>0.07</td>\n",
              "      <td>5</td>\n",
              "      <td>-1920.91</td>\n",
              "      <td>Fragile</td>\n",
              "      <td>29</td>\n",
              "      <td>25.0</td>\n",
              "      <td>1720.0</td>\n",
              "      <td>0</td>\n",
              "      <td>Standard</td>\n",
              "      <td>6</td>\n",
              "      <td>NORTH</td>\n",
              "      <td>5.0</td>\n",
              "      <td>2.0</td>\n",
              "      <td>1</td>\n",
              "    </tr>\n",
              "    <tr>\n",
              "      <th>1</th>\n",
              "      <td>2445349</td>\n",
              "      <td>5359</td>\n",
              "      <td>Consumer</td>\n",
              "      <td>MA</td>\n",
              "      <td>737</td>\n",
              "      <td>222.0</td>\n",
              "      <td>Central</td>\n",
              "      <td>14133.42</td>\n",
              "      <td>Cat-49</td>\n",
              "      <td>Debit</td>\n",
              "      <td>7</td>\n",
              "      <td>Fan Shop</td>\n",
              "      <td>0.08</td>\n",
              "      <td>0.06</td>\n",
              "      <td>1</td>\n",
              "      <td>1132.14</td>\n",
              "      <td>Fragile</td>\n",
              "      <td>48</td>\n",
              "      <td>29.0</td>\n",
              "      <td>964.0</td>\n",
              "      <td>1</td>\n",
              "      <td>Standard</td>\n",
              "      <td>4</td>\n",
              "      <td>CENTRAL</td>\n",
              "      <td>3.0</td>\n",
              "      <td>3.0</td>\n",
              "      <td>0</td>\n",
              "    </tr>\n",
              "    <tr>\n",
              "      <th>2</th>\n",
              "      <td>2441537</td>\n",
              "      <td>4111</td>\n",
              "      <td>Corporate</td>\n",
              "      <td>GJ</td>\n",
              "      <td>91350</td>\n",
              "      <td>149.0</td>\n",
              "      <td>East</td>\n",
              "      <td>3545.31</td>\n",
              "      <td>Cat-50</td>\n",
              "      <td>Credit</td>\n",
              "      <td>7</td>\n",
              "      <td>Fan Shop</td>\n",
              "      <td>0.34</td>\n",
              "      <td>0.06</td>\n",
              "      <td>3</td>\n",
              "      <td>1204.39</td>\n",
              "      <td>Fragile</td>\n",
              "      <td>46</td>\n",
              "      <td>121.0</td>\n",
              "      <td>2994.0</td>\n",
              "      <td>0</td>\n",
              "      <td>Standard</td>\n",
              "      <td>6</td>\n",
              "      <td>WEST</td>\n",
              "      <td>3.0</td>\n",
              "      <td>1.0</td>\n",
              "      <td>1</td>\n",
              "    </tr>\n",
              "    <tr>\n",
              "      <th>3</th>\n",
              "      <td>2461867</td>\n",
              "      <td>5377</td>\n",
              "      <td>Consumer</td>\n",
              "      <td>RJ</td>\n",
              "      <td>77860</td>\n",
              "      <td>162.0</td>\n",
              "      <td>North</td>\n",
              "      <td>9234.05</td>\n",
              "      <td>Cat-12</td>\n",
              "      <td>UPI</td>\n",
              "      <td>4</td>\n",
              "      <td>Apparel</td>\n",
              "      <td>0.39</td>\n",
              "      <td>0.03</td>\n",
              "      <td>1</td>\n",
              "      <td>3600.48</td>\n",
              "      <td>Not Fragile</td>\n",
              "      <td>18</td>\n",
              "      <td>156.0</td>\n",
              "      <td>1008.0</td>\n",
              "      <td>0</td>\n",
              "      <td>Standard</td>\n",
              "      <td>5</td>\n",
              "      <td>CENTRAL</td>\n",
              "      <td>3.0</td>\n",
              "      <td>3.0</td>\n",
              "      <td>1</td>\n",
              "    </tr>\n",
              "    <tr>\n",
              "      <th>4</th>\n",
              "      <td>2461659</td>\n",
              "      <td>10563</td>\n",
              "      <td>Consumer</td>\n",
              "      <td>WB</td>\n",
              "      <td>47922</td>\n",
              "      <td>115.0</td>\n",
              "      <td>North</td>\n",
              "      <td>9174.76</td>\n",
              "      <td>Cat-12</td>\n",
              "      <td>UPI</td>\n",
              "      <td>4</td>\n",
              "      <td>Apparel</td>\n",
              "      <td>0.50</td>\n",
              "      <td>0.06</td>\n",
              "      <td>1</td>\n",
              "      <td>4586.33</td>\n",
              "      <td>Fragile</td>\n",
              "      <td>18</td>\n",
              "      <td>114.0</td>\n",
              "      <td>1354.0</td>\n",
              "      <td>0</td>\n",
              "      <td>Standard</td>\n",
              "      <td>2</td>\n",
              "      <td>NE</td>\n",
              "      <td>3.0</td>\n",
              "      <td>2.0</td>\n",
              "      <td>1</td>\n",
              "    </tr>\n",
              "  </tbody>\n",
              "</table>\n",
              "</div>"
            ],
            "text/plain": [
              "   OrderId  Customer_Id  ... Session_Ordered WeekdayOrder\n",
              "0  2372881         2989  ...             2.0            1\n",
              "1  2445349         5359  ...             3.0            0\n",
              "2  2441537         4111  ...             1.0            1\n",
              "3  2461867         5377  ...             3.0            1\n",
              "4  2461659        10563  ...             2.0            1\n",
              "\n",
              "[5 rows x 27 columns]"
            ]
          },
          "metadata": {},
          "execution_count": 6
        }
      ]
    },
    {
      "cell_type": "code",
      "metadata": {
        "colab": {
          "base_uri": "https://localhost:8080/"
        },
        "id": "GKBx17MOy47X",
        "outputId": "31133d9a-2a5f-4f08-8fbf-b42ff2394eaf"
      },
      "source": [
        "#check shape of the datasets\n",
        "print(df_train.shape)\n",
        "print(df_test.shape)"
      ],
      "execution_count": 7,
      "outputs": [
        {
          "output_type": "stream",
          "name": "stdout",
          "text": [
            "(126363, 28)\n",
            "(54156, 27)\n"
          ]
        }
      ]
    },
    {
      "cell_type": "code",
      "metadata": {
        "colab": {
          "base_uri": "https://localhost:8080/"
        },
        "id": "RwUQJuQfzGvZ",
        "outputId": "82257560-769d-4b38-bd59-ae7c0cef193f"
      },
      "source": [
        "#check the info of both datasets\n",
        "df_train.info()"
      ],
      "execution_count": 8,
      "outputs": [
        {
          "output_type": "stream",
          "name": "stdout",
          "text": [
            "<class 'pandas.core.frame.DataFrame'>\n",
            "RangeIndex: 126363 entries, 0 to 126362\n",
            "Data columns (total 28 columns):\n",
            " #   Column              Non-Null Count   Dtype  \n",
            "---  ------              --------------   -----  \n",
            " 0   OrderId             126363 non-null  int64  \n",
            " 1   Customer_Id         126363 non-null  int64  \n",
            " 2   Customer_Category   126363 non-null  object \n",
            " 3   Cust_State          126363 non-null  object \n",
            " 4   Zipcode             126363 non-null  int64  \n",
            " 5   Sales               122749 non-null  float64\n",
            " 6   Order_zone          126363 non-null  object \n",
            " 7   Price               126363 non-null  float64\n",
            " 8   CategoryName        126363 non-null  object \n",
            " 9   Transcation         126363 non-null  object \n",
            " 10  Dept_Id             126363 non-null  int64  \n",
            " 11  Dept_Name           126363 non-null  object \n",
            " 12  Profit_Ratio        126363 non-null  float64\n",
            " 13  Discount            121313 non-null  float64\n",
            " 14  Quantity            126363 non-null  int64  \n",
            " 15  Order_Profit        126363 non-null  float64\n",
            " 16  Product_type        126363 non-null  object \n",
            " 17  Prod_Category_Id    126363 non-null  int64  \n",
            " 18  ProductLength       123417 non-null  float64\n",
            " 19  ProductWeight       125668 non-null  float64\n",
            " 20  Dispatched          126363 non-null  int64  \n",
            " 21  Shipping_Class      126363 non-null  object \n",
            " 22  Scheduled_Shipping  126363 non-null  int64  \n",
            " 23  Warehouse_Region    126363 non-null  object \n",
            " 24  Delivery_Review     117298 non-null  float64\n",
            " 25  Session_Ordered     121571 non-null  float64\n",
            " 26  WeekdayOrder        126363 non-null  int64  \n",
            " 27  Delivery_Status     126363 non-null  int64  \n",
            "dtypes: float64(9), int64(10), object(9)\n",
            "memory usage: 27.0+ MB\n"
          ]
        }
      ]
    },
    {
      "cell_type": "code",
      "metadata": {
        "colab": {
          "base_uri": "https://localhost:8080/"
        },
        "id": "aGYrGRgHzQmc",
        "outputId": "c0a2128b-176f-41df-9ce6-1637cfcc25b4"
      },
      "source": [
        "df_test.info()"
      ],
      "execution_count": 9,
      "outputs": [
        {
          "output_type": "stream",
          "name": "stdout",
          "text": [
            "<class 'pandas.core.frame.DataFrame'>\n",
            "RangeIndex: 54156 entries, 0 to 54155\n",
            "Data columns (total 27 columns):\n",
            " #   Column              Non-Null Count  Dtype  \n",
            "---  ------              --------------  -----  \n",
            " 0   OrderId             54156 non-null  int64  \n",
            " 1   Customer_Id         54156 non-null  int64  \n",
            " 2   Customer_Category   54156 non-null  object \n",
            " 3   Cust_State          54156 non-null  object \n",
            " 4   Zipcode             54156 non-null  int64  \n",
            " 5   Sales               52696 non-null  float64\n",
            " 6   Order_zone          54156 non-null  object \n",
            " 7   Price               54156 non-null  float64\n",
            " 8   CategoryName        54156 non-null  object \n",
            " 9   Transcation         54156 non-null  object \n",
            " 10  Dept_Id             54156 non-null  int64  \n",
            " 11  Dept_Name           54156 non-null  object \n",
            " 12  Profit_Ratio        54156 non-null  float64\n",
            " 13  Discount            51982 non-null  float64\n",
            " 14  Quantity            54156 non-null  int64  \n",
            " 15  Order_Profit        54156 non-null  float64\n",
            " 16  Product_type        54156 non-null  object \n",
            " 17  Prod_Category_Id    54156 non-null  int64  \n",
            " 18  ProductLength       52852 non-null  float64\n",
            " 19  ProductWeight       53849 non-null  float64\n",
            " 20  Dispatched          54156 non-null  int64  \n",
            " 21  Shipping_Class      54156 non-null  object \n",
            " 22  Scheduled_Shipping  54156 non-null  int64  \n",
            " 23  Warehouse_Region    54156 non-null  object \n",
            " 24  Delivery_Review     50260 non-null  float64\n",
            " 25  Session_Ordered     52125 non-null  float64\n",
            " 26  WeekdayOrder        54156 non-null  int64  \n",
            "dtypes: float64(9), int64(9), object(9)\n",
            "memory usage: 11.2+ MB\n"
          ]
        }
      ]
    },
    {
      "cell_type": "code",
      "metadata": {
        "colab": {
          "base_uri": "https://localhost:8080/",
          "height": 317
        },
        "id": "RD2gUm920DrR",
        "outputId": "943a8217-a7a0-473f-dce1-a917efafba47"
      },
      "source": [
        "#get summary statistics on the train set\n",
        "df_train.describe()"
      ],
      "execution_count": null,
      "outputs": [
        {
          "output_type": "execute_result",
          "data": {
            "text/html": [
              "<div>\n",
              "<style scoped>\n",
              "    .dataframe tbody tr th:only-of-type {\n",
              "        vertical-align: middle;\n",
              "    }\n",
              "\n",
              "    .dataframe tbody tr th {\n",
              "        vertical-align: top;\n",
              "    }\n",
              "\n",
              "    .dataframe thead th {\n",
              "        text-align: right;\n",
              "    }\n",
              "</style>\n",
              "<table border=\"1\" class=\"dataframe\">\n",
              "  <thead>\n",
              "    <tr style=\"text-align: right;\">\n",
              "      <th></th>\n",
              "      <th>OrderId</th>\n",
              "      <th>Customer_Id</th>\n",
              "      <th>Zipcode</th>\n",
              "      <th>Sales</th>\n",
              "      <th>Price</th>\n",
              "      <th>Dept_Id</th>\n",
              "      <th>Profit_Ratio</th>\n",
              "      <th>Discount</th>\n",
              "      <th>Quantity</th>\n",
              "      <th>Order_Profit</th>\n",
              "      <th>Prod_Category_Id</th>\n",
              "      <th>ProductLength</th>\n",
              "      <th>ProductWeight</th>\n",
              "      <th>Dispatched</th>\n",
              "      <th>Scheduled_Shipping</th>\n",
              "      <th>Delivery_Review</th>\n",
              "      <th>Session_Ordered</th>\n",
              "      <th>WeekdayOrder</th>\n",
              "      <th>Delivery_Status</th>\n",
              "    </tr>\n",
              "  </thead>\n",
              "  <tbody>\n",
              "    <tr>\n",
              "      <th>count</th>\n",
              "      <td>1.263630e+05</td>\n",
              "      <td>126363.000000</td>\n",
              "      <td>126363.000000</td>\n",
              "      <td>122749.000000</td>\n",
              "      <td>126363.000000</td>\n",
              "      <td>126363.000000</td>\n",
              "      <td>126363.000000</td>\n",
              "      <td>121313.000000</td>\n",
              "      <td>126363.000000</td>\n",
              "      <td>126363.000000</td>\n",
              "      <td>126363.000000</td>\n",
              "      <td>123417.000000</td>\n",
              "      <td>125668.000000</td>\n",
              "      <td>126363.000000</td>\n",
              "      <td>126363.000000</td>\n",
              "      <td>117298.000000</td>\n",
              "      <td>121571.000000</td>\n",
              "      <td>126363.000000</td>\n",
              "      <td>126363.000000</td>\n",
              "    </tr>\n",
              "    <tr>\n",
              "      <th>mean</th>\n",
              "      <td>2.431880e+06</td>\n",
              "      <td>6808.571552</td>\n",
              "      <td>35961.067029</td>\n",
              "      <td>196.119952</td>\n",
              "      <td>10064.758724</td>\n",
              "      <td>5.443682</td>\n",
              "      <td>0.124273</td>\n",
              "      <td>0.105450</td>\n",
              "      <td>2.129255</td>\n",
              "      <td>1257.016748</td>\n",
              "      <td>31.863030</td>\n",
              "      <td>95.976178</td>\n",
              "      <td>3747.630431</td>\n",
              "      <td>0.394261</td>\n",
              "      <td>3.727199</td>\n",
              "      <td>3.363843</td>\n",
              "      <td>2.001497</td>\n",
              "      <td>0.497923</td>\n",
              "      <td>0.328031</td>\n",
              "    </tr>\n",
              "    <tr>\n",
              "      <th>std</th>\n",
              "      <td>5.212524e+04</td>\n",
              "      <td>4164.592992</td>\n",
              "      <td>37550.046447</td>\n",
              "      <td>121.448700</td>\n",
              "      <td>9923.788862</td>\n",
              "      <td>1.627874</td>\n",
              "      <td>0.467546</td>\n",
              "      <td>0.072329</td>\n",
              "      <td>1.454968</td>\n",
              "      <td>6690.787375</td>\n",
              "      <td>15.652067</td>\n",
              "      <td>55.362442</td>\n",
              "      <td>7619.837283</td>\n",
              "      <td>0.488693</td>\n",
              "      <td>1.497517</td>\n",
              "      <td>0.928320</td>\n",
              "      <td>0.814737</td>\n",
              "      <td>0.499998</td>\n",
              "      <td>0.469498</td>\n",
              "    </tr>\n",
              "    <tr>\n",
              "      <th>min</th>\n",
              "      <td>2.341525e+06</td>\n",
              "      <td>103.000000</td>\n",
              "      <td>12.000000</td>\n",
              "      <td>28.000000</td>\n",
              "      <td>617.310000</td>\n",
              "      <td>2.000000</td>\n",
              "      <td>-2.750000</td>\n",
              "      <td>0.000000</td>\n",
              "      <td>1.000000</td>\n",
              "      <td>-271606.420000</td>\n",
              "      <td>2.000000</td>\n",
              "      <td>10.000000</td>\n",
              "      <td>10.000000</td>\n",
              "      <td>0.000000</td>\n",
              "      <td>0.000000</td>\n",
              "      <td>1.000000</td>\n",
              "      <td>1.000000</td>\n",
              "      <td>0.000000</td>\n",
              "      <td>0.000000</td>\n",
              "    </tr>\n",
              "    <tr>\n",
              "      <th>25%</th>\n",
              "      <td>2.386692e+06</td>\n",
              "      <td>3375.000000</td>\n",
              "      <td>742.000000</td>\n",
              "      <td>113.000000</td>\n",
              "      <td>3587.760000</td>\n",
              "      <td>4.000000</td>\n",
              "      <td>0.080000</td>\n",
              "      <td>0.040000</td>\n",
              "      <td>1.000000</td>\n",
              "      <td>314.080000</td>\n",
              "      <td>18.000000</td>\n",
              "      <td>51.000000</td>\n",
              "      <td>756.000000</td>\n",
              "      <td>0.000000</td>\n",
              "      <td>3.000000</td>\n",
              "      <td>3.000000</td>\n",
              "      <td>1.000000</td>\n",
              "      <td>0.000000</td>\n",
              "      <td>0.000000</td>\n",
              "    </tr>\n",
              "    <tr>\n",
              "      <th>50%</th>\n",
              "      <td>2.432005e+06</td>\n",
              "      <td>6582.000000</td>\n",
              "      <td>19168.000000</td>\n",
              "      <td>173.000000</td>\n",
              "      <td>4415.280000</td>\n",
              "      <td>5.000000</td>\n",
              "      <td>0.280000</td>\n",
              "      <td>0.100000</td>\n",
              "      <td>1.000000</td>\n",
              "      <td>1258.740000</td>\n",
              "      <td>29.000000</td>\n",
              "      <td>84.000000</td>\n",
              "      <td>1640.000000</td>\n",
              "      <td>0.000000</td>\n",
              "      <td>4.000000</td>\n",
              "      <td>3.000000</td>\n",
              "      <td>2.000000</td>\n",
              "      <td>0.000000</td>\n",
              "      <td>0.000000</td>\n",
              "    </tr>\n",
              "    <tr>\n",
              "      <th>75%</th>\n",
              "      <td>2.477044e+06</td>\n",
              "      <td>9888.000000</td>\n",
              "      <td>78219.000000</td>\n",
              "      <td>261.000000</td>\n",
              "      <td>14222.400000</td>\n",
              "      <td>7.000000</td>\n",
              "      <td>0.370000</td>\n",
              "      <td>0.160000</td>\n",
              "      <td>3.000000</td>\n",
              "      <td>3119.900000</td>\n",
              "      <td>45.000000</td>\n",
              "      <td>141.000000</td>\n",
              "      <td>2717.000000</td>\n",
              "      <td>1.000000</td>\n",
              "      <td>5.000000</td>\n",
              "      <td>4.000000</td>\n",
              "      <td>3.000000</td>\n",
              "      <td>1.000000</td>\n",
              "      <td>1.000000</td>\n",
              "    </tr>\n",
              "    <tr>\n",
              "      <th>max</th>\n",
              "      <td>2.522043e+06</td>\n",
              "      <td>20874.000000</td>\n",
              "      <td>99225.000000</td>\n",
              "      <td>1969.000000</td>\n",
              "      <td>142151.340000</td>\n",
              "      <td>12.000000</td>\n",
              "      <td>0.500000</td>\n",
              "      <td>0.250000</td>\n",
              "      <td>5.000000</td>\n",
              "      <td>68156.670000</td>\n",
              "      <td>76.000000</td>\n",
              "      <td>210.000000</td>\n",
              "      <td>43999.000000</td>\n",
              "      <td>1.000000</td>\n",
              "      <td>6.000000</td>\n",
              "      <td>5.000000</td>\n",
              "      <td>3.000000</td>\n",
              "      <td>1.000000</td>\n",
              "      <td>1.000000</td>\n",
              "    </tr>\n",
              "  </tbody>\n",
              "</table>\n",
              "</div>"
            ],
            "text/plain": [
              "            OrderId    Customer_Id  ...   WeekdayOrder  Delivery_Status\n",
              "count  1.263630e+05  126363.000000  ...  126363.000000    126363.000000\n",
              "mean   2.431880e+06    6808.571552  ...       0.497923         0.328031\n",
              "std    5.212524e+04    4164.592992  ...       0.499998         0.469498\n",
              "min    2.341525e+06     103.000000  ...       0.000000         0.000000\n",
              "25%    2.386692e+06    3375.000000  ...       0.000000         0.000000\n",
              "50%    2.432005e+06    6582.000000  ...       0.000000         0.000000\n",
              "75%    2.477044e+06    9888.000000  ...       1.000000         1.000000\n",
              "max    2.522043e+06   20874.000000  ...       1.000000         1.000000\n",
              "\n",
              "[8 rows x 19 columns]"
            ]
          },
          "metadata": {},
          "execution_count": 10
        }
      ]
    },
    {
      "cell_type": "code",
      "metadata": {
        "colab": {
          "base_uri": "https://localhost:8080/",
          "height": 317
        },
        "id": "n_eW2piJ0SAe",
        "outputId": "738287dd-db4b-43a5-c7c8-ee414863483f"
      },
      "source": [
        "#get summary statistics on test set\n",
        "df_test.describe()"
      ],
      "execution_count": null,
      "outputs": [
        {
          "output_type": "execute_result",
          "data": {
            "text/html": [
              "<div>\n",
              "<style scoped>\n",
              "    .dataframe tbody tr th:only-of-type {\n",
              "        vertical-align: middle;\n",
              "    }\n",
              "\n",
              "    .dataframe tbody tr th {\n",
              "        vertical-align: top;\n",
              "    }\n",
              "\n",
              "    .dataframe thead th {\n",
              "        text-align: right;\n",
              "    }\n",
              "</style>\n",
              "<table border=\"1\" class=\"dataframe\">\n",
              "  <thead>\n",
              "    <tr style=\"text-align: right;\">\n",
              "      <th></th>\n",
              "      <th>OrderId</th>\n",
              "      <th>Customer_Id</th>\n",
              "      <th>Zipcode</th>\n",
              "      <th>Sales</th>\n",
              "      <th>Price</th>\n",
              "      <th>Dept_Id</th>\n",
              "      <th>Profit_Ratio</th>\n",
              "      <th>Discount</th>\n",
              "      <th>Quantity</th>\n",
              "      <th>Order_Profit</th>\n",
              "      <th>Prod_Category_Id</th>\n",
              "      <th>ProductLength</th>\n",
              "      <th>ProductWeight</th>\n",
              "      <th>Dispatched</th>\n",
              "      <th>Scheduled_Shipping</th>\n",
              "      <th>Delivery_Review</th>\n",
              "      <th>Session_Ordered</th>\n",
              "      <th>WeekdayOrder</th>\n",
              "    </tr>\n",
              "  </thead>\n",
              "  <tbody>\n",
              "    <tr>\n",
              "      <th>count</th>\n",
              "      <td>5.415600e+04</td>\n",
              "      <td>54156.000000</td>\n",
              "      <td>54156.000000</td>\n",
              "      <td>52696.000000</td>\n",
              "      <td>54156.000000</td>\n",
              "      <td>54156.000000</td>\n",
              "      <td>54156.000000</td>\n",
              "      <td>51982.000000</td>\n",
              "      <td>54156.000000</td>\n",
              "      <td>54156.000000</td>\n",
              "      <td>54156.000000</td>\n",
              "      <td>52852.000000</td>\n",
              "      <td>53849.000000</td>\n",
              "      <td>54156.000000</td>\n",
              "      <td>54156.000000</td>\n",
              "      <td>50260.000000</td>\n",
              "      <td>52125.000000</td>\n",
              "      <td>54156.000000</td>\n",
              "    </tr>\n",
              "    <tr>\n",
              "      <th>mean</th>\n",
              "      <td>2.431560e+06</td>\n",
              "      <td>6784.596499</td>\n",
              "      <td>35875.939730</td>\n",
              "      <td>195.444948</td>\n",
              "      <td>10050.243450</td>\n",
              "      <td>5.442943</td>\n",
              "      <td>0.121224</td>\n",
              "      <td>0.105585</td>\n",
              "      <td>2.123864</td>\n",
              "      <td>1176.239837</td>\n",
              "      <td>31.824433</td>\n",
              "      <td>95.988591</td>\n",
              "      <td>3777.908355</td>\n",
              "      <td>0.393105</td>\n",
              "      <td>3.720825</td>\n",
              "      <td>3.365718</td>\n",
              "      <td>1.995223</td>\n",
              "      <td>0.501274</td>\n",
              "    </tr>\n",
              "    <tr>\n",
              "      <th>std</th>\n",
              "      <td>5.207919e+04</td>\n",
              "      <td>4159.045163</td>\n",
              "      <td>37524.909493</td>\n",
              "      <td>121.930117</td>\n",
              "      <td>9915.684627</td>\n",
              "      <td>1.632458</td>\n",
              "      <td>0.474142</td>\n",
              "      <td>0.072426</td>\n",
              "      <td>1.449912</td>\n",
              "      <td>7213.806452</td>\n",
              "      <td>15.612132</td>\n",
              "      <td>55.494076</td>\n",
              "      <td>7659.787731</td>\n",
              "      <td>0.488444</td>\n",
              "      <td>1.495644</td>\n",
              "      <td>0.927619</td>\n",
              "      <td>0.819457</td>\n",
              "      <td>0.500003</td>\n",
              "    </tr>\n",
              "    <tr>\n",
              "      <th>min</th>\n",
              "      <td>2.341536e+06</td>\n",
              "      <td>103.000000</td>\n",
              "      <td>613.000000</td>\n",
              "      <td>28.000000</td>\n",
              "      <td>615.430000</td>\n",
              "      <td>2.000000</td>\n",
              "      <td>-2.750000</td>\n",
              "      <td>0.000000</td>\n",
              "      <td>1.000000</td>\n",
              "      <td>-319688.600000</td>\n",
              "      <td>2.000000</td>\n",
              "      <td>10.000000</td>\n",
              "      <td>10.000000</td>\n",
              "      <td>0.000000</td>\n",
              "      <td>0.000000</td>\n",
              "      <td>1.000000</td>\n",
              "      <td>1.000000</td>\n",
              "      <td>0.000000</td>\n",
              "    </tr>\n",
              "    <tr>\n",
              "      <th>25%</th>\n",
              "      <td>2.386580e+06</td>\n",
              "      <td>3353.000000</td>\n",
              "      <td>742.000000</td>\n",
              "      <td>112.000000</td>\n",
              "      <td>3586.707500</td>\n",
              "      <td>4.000000</td>\n",
              "      <td>0.080000</td>\n",
              "      <td>0.040000</td>\n",
              "      <td>1.000000</td>\n",
              "      <td>308.595000</td>\n",
              "      <td>18.000000</td>\n",
              "      <td>51.000000</td>\n",
              "      <td>780.000000</td>\n",
              "      <td>0.000000</td>\n",
              "      <td>3.000000</td>\n",
              "      <td>3.000000</td>\n",
              "      <td>1.000000</td>\n",
              "      <td>0.000000</td>\n",
              "    </tr>\n",
              "    <tr>\n",
              "      <th>50%</th>\n",
              "      <td>2.431320e+06</td>\n",
              "      <td>6528.000000</td>\n",
              "      <td>19394.000000</td>\n",
              "      <td>173.000000</td>\n",
              "      <td>4715.580000</td>\n",
              "      <td>5.000000</td>\n",
              "      <td>0.280000</td>\n",
              "      <td>0.110000</td>\n",
              "      <td>1.000000</td>\n",
              "      <td>1255.300000</td>\n",
              "      <td>29.000000</td>\n",
              "      <td>84.000000</td>\n",
              "      <td>1654.000000</td>\n",
              "      <td>0.000000</td>\n",
              "      <td>4.000000</td>\n",
              "      <td>3.000000</td>\n",
              "      <td>2.000000</td>\n",
              "      <td>1.000000</td>\n",
              "    </tr>\n",
              "    <tr>\n",
              "      <th>75%</th>\n",
              "      <td>2.476613e+06</td>\n",
              "      <td>9893.000000</td>\n",
              "      <td>78221.000000</td>\n",
              "      <td>259.000000</td>\n",
              "      <td>14220.327500</td>\n",
              "      <td>7.000000</td>\n",
              "      <td>0.370000</td>\n",
              "      <td>0.160000</td>\n",
              "      <td>3.000000</td>\n",
              "      <td>3117.552500</td>\n",
              "      <td>45.000000</td>\n",
              "      <td>141.000000</td>\n",
              "      <td>2736.000000</td>\n",
              "      <td>1.000000</td>\n",
              "      <td>5.000000</td>\n",
              "      <td>4.000000</td>\n",
              "      <td>3.000000</td>\n",
              "      <td>1.000000</td>\n",
              "    </tr>\n",
              "    <tr>\n",
              "      <th>max</th>\n",
              "      <td>2.522041e+06</td>\n",
              "      <td>20872.000000</td>\n",
              "      <td>99224.000000</td>\n",
              "      <td>1941.000000</td>\n",
              "      <td>142138.050000</td>\n",
              "      <td>12.000000</td>\n",
              "      <td>0.500000</td>\n",
              "      <td>0.250000</td>\n",
              "      <td>5.000000</td>\n",
              "      <td>54010.850000</td>\n",
              "      <td>76.000000</td>\n",
              "      <td>210.000000</td>\n",
              "      <td>43996.000000</td>\n",
              "      <td>1.000000</td>\n",
              "      <td>6.000000</td>\n",
              "      <td>5.000000</td>\n",
              "      <td>3.000000</td>\n",
              "      <td>1.000000</td>\n",
              "    </tr>\n",
              "  </tbody>\n",
              "</table>\n",
              "</div>"
            ],
            "text/plain": [
              "            OrderId   Customer_Id  ...  Session_Ordered  WeekdayOrder\n",
              "count  5.415600e+04  54156.000000  ...     52125.000000  54156.000000\n",
              "mean   2.431560e+06   6784.596499  ...         1.995223      0.501274\n",
              "std    5.207919e+04   4159.045163  ...         0.819457      0.500003\n",
              "min    2.341536e+06    103.000000  ...         1.000000      0.000000\n",
              "25%    2.386580e+06   3353.000000  ...         1.000000      0.000000\n",
              "50%    2.431320e+06   6528.000000  ...         2.000000      1.000000\n",
              "75%    2.476613e+06   9893.000000  ...         3.000000      1.000000\n",
              "max    2.522041e+06  20872.000000  ...         3.000000      1.000000\n",
              "\n",
              "[8 rows x 18 columns]"
            ]
          },
          "metadata": {},
          "execution_count": 11
        }
      ]
    },
    {
      "cell_type": "code",
      "metadata": {
        "colab": {
          "base_uri": "https://localhost:8080/"
        },
        "id": "psVGXcsI0t8W",
        "outputId": "6b9019cc-93ff-45a8-e44d-a94e1cb268e0"
      },
      "source": [
        "#check missing values on train data\n",
        "df_train.isnull().sum()"
      ],
      "execution_count": null,
      "outputs": [
        {
          "output_type": "execute_result",
          "data": {
            "text/plain": [
              "OrderId                  0\n",
              "Customer_Id              0\n",
              "Customer_Category        0\n",
              "Cust_State               0\n",
              "Zipcode                  0\n",
              "Sales                 3614\n",
              "Order_zone               0\n",
              "Price                    0\n",
              "CategoryName             0\n",
              "Transcation              0\n",
              "Dept_Id                  0\n",
              "Dept_Name                0\n",
              "Profit_Ratio             0\n",
              "Discount              5050\n",
              "Quantity                 0\n",
              "Order_Profit             0\n",
              "Product_type             0\n",
              "Prod_Category_Id         0\n",
              "ProductLength         2946\n",
              "ProductWeight          695\n",
              "Dispatched               0\n",
              "Shipping_Class           0\n",
              "Scheduled_Shipping       0\n",
              "Warehouse_Region         0\n",
              "Delivery_Review       9065\n",
              "Session_Ordered       4792\n",
              "WeekdayOrder             0\n",
              "Delivery_Status          0\n",
              "dtype: int64"
            ]
          },
          "metadata": {},
          "execution_count": 12
        }
      ]
    },
    {
      "cell_type": "code",
      "metadata": {
        "colab": {
          "base_uri": "https://localhost:8080/"
        },
        "id": "J0N59Rwf1NiN",
        "outputId": "8fb00f2b-cf0b-4d78-9a43-995929efde72"
      },
      "source": [
        "#check missing values as a percentage of the data\n",
        "df_train.isnull().sum() / len(df_train)*100"
      ],
      "execution_count": null,
      "outputs": [
        {
          "output_type": "execute_result",
          "data": {
            "text/plain": [
              "OrderId               0.000000\n",
              "Customer_Id           0.000000\n",
              "Customer_Category     0.000000\n",
              "Cust_State            0.000000\n",
              "Zipcode               0.000000\n",
              "Sales                 2.860014\n",
              "Order_zone            0.000000\n",
              "Price                 0.000000\n",
              "CategoryName          0.000000\n",
              "Transcation           0.000000\n",
              "Dept_Id               0.000000\n",
              "Dept_Name             0.000000\n",
              "Profit_Ratio          0.000000\n",
              "Discount              3.996423\n",
              "Quantity              0.000000\n",
              "Order_Profit          0.000000\n",
              "Product_type          0.000000\n",
              "Prod_Category_Id      0.000000\n",
              "ProductLength         2.331379\n",
              "ProductWeight         0.550003\n",
              "Dispatched            0.000000\n",
              "Shipping_Class        0.000000\n",
              "Scheduled_Shipping    0.000000\n",
              "Warehouse_Region      0.000000\n",
              "Delivery_Review       7.173777\n",
              "Session_Ordered       3.792249\n",
              "WeekdayOrder          0.000000\n",
              "Delivery_Status       0.000000\n",
              "dtype: float64"
            ]
          },
          "metadata": {},
          "execution_count": 13
        }
      ]
    },
    {
      "cell_type": "code",
      "metadata": {
        "id": "V_4v2jsH1jw3"
      },
      "source": [
        "#the columns sales, discount, product length, product weight, delivery review and session ordered have 2.86%, 4%, 2.33%, 0.55%, 7.17% and 3.79% \n",
        "#missing values respectively in the train data"
      ],
      "execution_count": null,
      "outputs": []
    },
    {
      "cell_type": "code",
      "metadata": {
        "colab": {
          "base_uri": "https://localhost:8080/"
        },
        "id": "LkF74kOr1eHb",
        "outputId": "0785b677-b71d-45a5-9f88-cef85bc8dbb0"
      },
      "source": [
        "#check missing values on test data\n",
        "df_test.isnull().sum() / len(df_test)*100"
      ],
      "execution_count": null,
      "outputs": [
        {
          "output_type": "execute_result",
          "data": {
            "text/plain": [
              "OrderId               0.000000\n",
              "Customer_Id           0.000000\n",
              "Customer_Category     0.000000\n",
              "Cust_State            0.000000\n",
              "Zipcode               0.000000\n",
              "Sales                 2.695916\n",
              "Order_zone            0.000000\n",
              "Price                 0.000000\n",
              "CategoryName          0.000000\n",
              "Transcation           0.000000\n",
              "Dept_Id               0.000000\n",
              "Dept_Name             0.000000\n",
              "Profit_Ratio          0.000000\n",
              "Discount              4.014329\n",
              "Quantity              0.000000\n",
              "Order_Profit          0.000000\n",
              "Product_type          0.000000\n",
              "Prod_Category_Id      0.000000\n",
              "ProductLength         2.407859\n",
              "ProductWeight         0.566881\n",
              "Dispatched            0.000000\n",
              "Shipping_Class        0.000000\n",
              "Scheduled_Shipping    0.000000\n",
              "Warehouse_Region      0.000000\n",
              "Delivery_Review       7.194032\n",
              "Session_Ordered       3.750277\n",
              "WeekdayOrder          0.000000\n",
              "dtype: float64"
            ]
          },
          "metadata": {},
          "execution_count": 15
        }
      ]
    },
    {
      "cell_type": "code",
      "metadata": {
        "id": "-iDG-y7B3Pyv"
      },
      "source": [
        "#the columns sales, discount, product length, product weight, delivery review and session ordered have 2.69%, 4%, 2.4%, 0.56%, 7.19% and 3.75% \n",
        "#missing values respectively in the test data"
      ],
      "execution_count": null,
      "outputs": []
    },
    {
      "cell_type": "code",
      "metadata": {
        "colab": {
          "base_uri": "https://localhost:8080/",
          "height": 596
        },
        "id": "eRkqTJTM7zhl",
        "outputId": "6868ceb9-92fd-4c23-8093-8025663bb003"
      },
      "source": [
        "#visualize missing values using heatmap on both datasets\n",
        "plt.figure(figsize=(15,8))\n",
        "sns.heatmap(data=df_train.isnull(), cbar=False)"
      ],
      "execution_count": null,
      "outputs": [
        {
          "output_type": "execute_result",
          "data": {
            "text/plain": [
              "<matplotlib.axes._subplots.AxesSubplot at 0x7f2593d7ba10>"
            ]
          },
          "metadata": {},
          "execution_count": 17
        },
        {
          "output_type": "display_data",
          "data": {
            "image/png": "[encoded data removed]",
            "text/plain": [
              "<Figure size 1080x576 with 1 Axes>"
            ]
          },
          "metadata": {
            "needs_background": "light"
          }
        }
      ]
    },
    {
      "cell_type": "code",
      "metadata": {
        "colab": {
          "base_uri": "https://localhost:8080/",
          "height": 596
        },
        "id": "nMshpSvm8orR",
        "outputId": "90ffb938-f9b8-4c3f-89d2-b7332244006b"
      },
      "source": [
        "plt.figure(figsize=(15,8))\n",
        "sns.heatmap(data=df_test.isnull(), cbar=False)"
      ],
      "execution_count": null,
      "outputs": [
        {
          "output_type": "execute_result",
          "data": {
            "text/plain": [
              "<matplotlib.axes._subplots.AxesSubplot at 0x7f258604b3d0>"
            ]
          },
          "metadata": {},
          "execution_count": 411
        },
        {
          "output_type": "display_data",
          "data": {
            "image/png": "[encoded data removed]",
            "text/plain": [
              "<Figure size 1080x576 with 1 Axes>"
            ]
          },
          "metadata": {
            "needs_background": "light"
          }
        }
      ]
    },
    {
      "cell_type": "markdown",
      "metadata": {
        "id": "CjoRk-bd3p6r"
      },
      "source": [
        "The columns having missing values in both the train and test data are the same and the proportion of missing values is also almost equal in both datasets.\n",
        "We need to impute the missing values in both sets of data by a common method."
      ]
    },
    {
      "cell_type": "code",
      "metadata": {
        "id": "sR5I_wjv5xHl"
      },
      "source": [
        ""
      ],
      "execution_count": null,
      "outputs": []
    },
    {
      "cell_type": "code",
      "metadata": {
        "colab": {
          "base_uri": "https://localhost:8080/",
          "height": 386
        },
        "id": "Js2Bs-cm4B8j",
        "outputId": "66bfed68-62a8-4dcb-f90d-0aa576c3eef5"
      },
      "source": [
        "#check the distribution of the sales column in train data\n",
        "sns.displot(df_train['Sales'])"
      ],
      "execution_count": null,
      "outputs": [
        {
          "output_type": "execute_result",
          "data": {
            "text/plain": [
              "<seaborn.axisgrid.FacetGrid at 0x7f258a11fd50>"
            ]
          },
          "metadata": {},
          "execution_count": 19
        },
        {
          "output_type": "display_data",
          "data": {
            "image/png": "[encoded data removed]",
            "text/plain": [
              "<Figure size 360x360 with 1 Axes>"
            ]
          },
          "metadata": {
            "needs_background": "light"
          }
        }
      ]
    },
    {
      "cell_type": "code",
      "metadata": {
        "id": "-mtkguR85A9c"
      },
      "source": [
        "#looking at the distribution plot, sales of around 200 per customer has the highest count"
      ],
      "execution_count": null,
      "outputs": []
    },
    {
      "cell_type": "code",
      "metadata": {
        "colab": {
          "base_uri": "https://localhost:8080/",
          "height": 386
        },
        "id": "z6NgBhvpy9kA",
        "outputId": "6c4f5374-1929-40f1-f679-efe3737a6413"
      },
      "source": [
        "#check for test data\n",
        "sns.displot(df_test['Sales'])"
      ],
      "execution_count": null,
      "outputs": [
        {
          "output_type": "execute_result",
          "data": {
            "text/plain": [
              "<seaborn.axisgrid.FacetGrid at 0x7f2589b963d0>"
            ]
          },
          "metadata": {},
          "execution_count": 21
        },
        {
          "output_type": "display_data",
          "data": {
            "image/png": "[encoded data removed]",
            "text/plain": [
              "<Figure size 360x360 with 1 Axes>"
            ]
          },
          "metadata": {
            "needs_background": "light"
          }
        }
      ]
    },
    {
      "cell_type": "code",
      "metadata": {
        "id": "8_t3EVGP5ufS"
      },
      "source": [
        "#The distribution is almost same as on the training data"
      ],
      "execution_count": null,
      "outputs": []
    },
    {
      "cell_type": "code",
      "metadata": {
        "colab": {
          "base_uri": "https://localhost:8080/"
        },
        "id": "Il35xHJD6ODA",
        "outputId": "294822a5-51fd-4ade-8662-6f60c4bc4ce4"
      },
      "source": [
        "df_train.describe()['Sales']"
      ],
      "execution_count": null,
      "outputs": [
        {
          "output_type": "execute_result",
          "data": {
            "text/plain": [
              "count    122749.000000\n",
              "mean        196.119952\n",
              "std         121.448700\n",
              "min          28.000000\n",
              "25%         113.000000\n",
              "50%         173.000000\n",
              "75%         261.000000\n",
              "max        1969.000000\n",
              "Name: Sales, dtype: float64"
            ]
          },
          "metadata": {},
          "execution_count": 23
        }
      ]
    },
    {
      "cell_type": "code",
      "metadata": {
        "colab": {
          "base_uri": "https://localhost:8080/"
        },
        "id": "JqRNQGXv6YEz",
        "outputId": "463533d4-15c7-4e22-b75b-fc355a38292d"
      },
      "source": [
        "df_test.describe()['Sales']"
      ],
      "execution_count": null,
      "outputs": [
        {
          "output_type": "execute_result",
          "data": {
            "text/plain": [
              "count    52696.000000\n",
              "mean       195.444948\n",
              "std        121.930117\n",
              "min         28.000000\n",
              "25%        112.000000\n",
              "50%        173.000000\n",
              "75%        259.000000\n",
              "max       1941.000000\n",
              "Name: Sales, dtype: float64"
            ]
          },
          "metadata": {},
          "execution_count": 24
        }
      ]
    },
    {
      "cell_type": "markdown",
      "metadata": {
        "id": "nX3dU1W86C-p"
      },
      "source": [
        "Looking at the summary statistics for the Sales column in both data sets, we have mean and median ranges as 195 and 173 respectively."
      ]
    },
    {
      "cell_type": "code",
      "metadata": {
        "id": "yDDF6xva6kcK"
      },
      "source": [
        "#the mean and median ranges are not very close to each other. Let us impute by the median values"
      ],
      "execution_count": null,
      "outputs": []
    },
    {
      "cell_type": "code",
      "metadata": {
        "id": "5zGCArlM-3-0"
      },
      "source": [
        "#make copy of train set and impute on this data\n",
        "df_train_copy = df_train.copy()"
      ],
      "execution_count": 10,
      "outputs": []
    },
    {
      "cell_type": "code",
      "metadata": {
        "id": "KA5uCin1-9n6"
      },
      "source": [
        "#make copy of test set and impute on this data\n",
        "df_test_copy = df_test.copy()"
      ],
      "execution_count": 11,
      "outputs": []
    },
    {
      "cell_type": "code",
      "metadata": {
        "id": "497wvHRQ6xhO"
      },
      "source": [
        "#use median to impute the missing values on train set\n",
        "df_train_copy['Sales'] = df_train_copy['Sales'].fillna(df_train_copy['Sales'].median())"
      ],
      "execution_count": 12,
      "outputs": []
    },
    {
      "cell_type": "code",
      "metadata": {
        "colab": {
          "base_uri": "https://localhost:8080/"
        },
        "id": "k2cWuyqj_QxL",
        "outputId": "004956e6-b37d-4421-eab3-c553964bcc7c"
      },
      "source": [
        "df_train_copy.isnull().sum()"
      ],
      "execution_count": null,
      "outputs": [
        {
          "output_type": "execute_result",
          "data": {
            "text/plain": [
              "OrderId                  0\n",
              "Customer_Id              0\n",
              "Customer_Category        0\n",
              "Cust_State               0\n",
              "Zipcode                  0\n",
              "Sales                    0\n",
              "Order_zone               0\n",
              "Price                    0\n",
              "CategoryName             0\n",
              "Transcation              0\n",
              "Dept_Id                  0\n",
              "Dept_Name                0\n",
              "Profit_Ratio             0\n",
              "Discount              5050\n",
              "Quantity                 0\n",
              "Order_Profit             0\n",
              "Product_type             0\n",
              "Prod_Category_Id         0\n",
              "ProductLength         2946\n",
              "ProductWeight          695\n",
              "Dispatched               0\n",
              "Shipping_Class           0\n",
              "Scheduled_Shipping       0\n",
              "Warehouse_Region         0\n",
              "Delivery_Review       9065\n",
              "Session_Ordered       4792\n",
              "WeekdayOrder             0\n",
              "Delivery_Status          0\n",
              "dtype: int64"
            ]
          },
          "metadata": {},
          "execution_count": 29
        }
      ]
    },
    {
      "cell_type": "code",
      "metadata": {
        "id": "aJJHvQ17y-BD"
      },
      "source": [
        "#use median to impute the missing values on test set\n",
        "df_test_copy['Sales'] = df_test_copy['Sales'].fillna(df_test_copy['Sales'].median())"
      ],
      "execution_count": 13,
      "outputs": []
    },
    {
      "cell_type": "code",
      "metadata": {
        "colab": {
          "base_uri": "https://localhost:8080/"
        },
        "id": "0mTseS6IBdKX",
        "outputId": "4b237c2a-8b33-4de7-a571-74eec1fd8639"
      },
      "source": [
        "df_test_copy.isnull().sum()"
      ],
      "execution_count": null,
      "outputs": [
        {
          "output_type": "execute_result",
          "data": {
            "text/plain": [
              "OrderId                  0\n",
              "Customer_Id              0\n",
              "Customer_Category        0\n",
              "Cust_State               0\n",
              "Zipcode                  0\n",
              "Sales                    0\n",
              "Order_zone               0\n",
              "Price                    0\n",
              "CategoryName             0\n",
              "Transcation              0\n",
              "Dept_Id                  0\n",
              "Dept_Name                0\n",
              "Profit_Ratio             0\n",
              "Discount              2174\n",
              "Quantity                 0\n",
              "Order_Profit             0\n",
              "Product_type             0\n",
              "Prod_Category_Id         0\n",
              "ProductLength         1304\n",
              "ProductWeight          307\n",
              "Dispatched               0\n",
              "Shipping_Class           0\n",
              "Scheduled_Shipping       0\n",
              "Warehouse_Region         0\n",
              "Delivery_Review       3896\n",
              "Session_Ordered       2031\n",
              "WeekdayOrder             0\n",
              "dtype: int64"
            ]
          },
          "metadata": {},
          "execution_count": 31
        }
      ]
    },
    {
      "cell_type": "code",
      "metadata": {
        "colab": {
          "base_uri": "https://localhost:8080/"
        },
        "id": "HGnG1wBfBjEy",
        "outputId": "2811db48-71c5-4c6a-feab-55e9278ea04f"
      },
      "source": [
        "#check summary statistics for Sales column after imputation\n",
        "df_train_copy.describe()['Sales']"
      ],
      "execution_count": null,
      "outputs": [
        {
          "output_type": "execute_result",
          "data": {
            "text/plain": [
              "count    126363.000000\n",
              "mean        195.458718\n",
              "std         119.761379\n",
              "min          28.000000\n",
              "25%         114.000000\n",
              "50%         173.000000\n",
              "75%         257.000000\n",
              "max        1969.000000\n",
              "Name: Sales, dtype: float64"
            ]
          },
          "metadata": {},
          "execution_count": 32
        }
      ]
    },
    {
      "cell_type": "code",
      "metadata": {
        "colab": {
          "base_uri": "https://localhost:8080/"
        },
        "id": "A3i60uVUB0XB",
        "outputId": "8dd1749d-7511-4d9d-b234-2e8cdfa9932f"
      },
      "source": [
        "df_test_copy.describe()['Sales']"
      ],
      "execution_count": null,
      "outputs": [
        {
          "output_type": "execute_result",
          "data": {
            "text/plain": [
              "count    54156.000000\n",
              "mean       194.839852\n",
              "std        120.330216\n",
              "min         28.000000\n",
              "25%        114.000000\n",
              "50%        173.000000\n",
              "75%        255.000000\n",
              "max       1941.000000\n",
              "Name: Sales, dtype: float64"
            ]
          },
          "metadata": {},
          "execution_count": 33
        }
      ]
    },
    {
      "cell_type": "code",
      "metadata": {
        "colab": {
          "base_uri": "https://localhost:8080/",
          "height": 386
        },
        "id": "u_cttmlkB6Bd",
        "outputId": "22e3d39d-9d99-4f90-bbd8-5e926a34e647"
      },
      "source": [
        "#check distrbution and summary statistics for discount column on train and test sets\n",
        "sns.displot(df_train['Discount'])"
      ],
      "execution_count": null,
      "outputs": [
        {
          "output_type": "execute_result",
          "data": {
            "text/plain": [
              "<seaborn.axisgrid.FacetGrid at 0x7f258a1bc910>"
            ]
          },
          "metadata": {},
          "execution_count": 34
        },
        {
          "output_type": "display_data",
          "data": {
            "image/png": "[encoded data removed]",
            "text/plain": [
              "<Figure size 360x360 with 1 Axes>"
            ]
          },
          "metadata": {
            "needs_background": "light"
          }
        }
      ]
    },
    {
      "cell_type": "code",
      "metadata": {
        "colab": {
          "base_uri": "https://localhost:8080/"
        },
        "id": "WA9QFu1Ry-NL",
        "outputId": "7d66fa45-42bb-4baa-eb92-b35b32732fbb"
      },
      "source": [
        "df_train.describe()['Discount']"
      ],
      "execution_count": null,
      "outputs": [
        {
          "output_type": "execute_result",
          "data": {
            "text/plain": [
              "count    121313.000000\n",
              "mean          0.105450\n",
              "std           0.072329\n",
              "min           0.000000\n",
              "25%           0.040000\n",
              "50%           0.100000\n",
              "75%           0.160000\n",
              "max           0.250000\n",
              "Name: Discount, dtype: float64"
            ]
          },
          "metadata": {},
          "execution_count": 35
        }
      ]
    },
    {
      "cell_type": "code",
      "metadata": {
        "colab": {
          "base_uri": "https://localhost:8080/",
          "height": 386
        },
        "id": "fo_xStdgDQ2z",
        "outputId": "fbadce49-e3c1-4537-9f34-ccc5227fc9ad"
      },
      "source": [
        "sns.displot(df_test['Discount'])"
      ],
      "execution_count": null,
      "outputs": [
        {
          "output_type": "execute_result",
          "data": {
            "text/plain": [
              "<seaborn.axisgrid.FacetGrid at 0x7f2589c8ac50>"
            ]
          },
          "metadata": {},
          "execution_count": 36
        },
        {
          "output_type": "display_data",
          "data": {
            "image/png": "[encoded data removed]",
            "text/plain": [
              "<Figure size 360x360 with 1 Axes>"
            ]
          },
          "metadata": {
            "needs_background": "light"
          }
        }
      ]
    },
    {
      "cell_type": "code",
      "metadata": {
        "colab": {
          "base_uri": "https://localhost:8080/"
        },
        "id": "podrIgN-y-bW",
        "outputId": "5645e1c4-baf1-430f-a02d-ab6741b848d7"
      },
      "source": [
        "df_test.describe()['Discount']"
      ],
      "execution_count": null,
      "outputs": [
        {
          "output_type": "execute_result",
          "data": {
            "text/plain": [
              "count    51982.000000\n",
              "mean         0.105585\n",
              "std          0.072426\n",
              "min          0.000000\n",
              "25%          0.040000\n",
              "50%          0.110000\n",
              "75%          0.160000\n",
              "max          0.250000\n",
              "Name: Discount, dtype: float64"
            ]
          },
          "metadata": {},
          "execution_count": 37
        }
      ]
    },
    {
      "cell_type": "code",
      "metadata": {
        "colab": {
          "base_uri": "https://localhost:8080/"
        },
        "id": "nigIziinDivF",
        "outputId": "2fbcca25-9692-48d4-f02d-fa8c4f459ecc"
      },
      "source": [
        "df_train['Discount'].value_counts()"
      ],
      "execution_count": null,
      "outputs": [
        {
          "output_type": "execute_result",
          "data": {
            "text/plain": [
              "0.06    13450\n",
              "0.16    13411\n",
              "0.03     6882\n",
              "0.04     6873\n",
              "0.21     6798\n",
              "0.10     6797\n",
              "0.01     6787\n",
              "0.07     6762\n",
              "0.11     6754\n",
              "0.19     6734\n",
              "0.18     6733\n",
              "0.13     6702\n",
              "0.25     6698\n",
              "0.02     6668\n",
              "0.12     6636\n",
              "0.00     6628\n",
              "Name: Discount, dtype: int64"
            ]
          },
          "metadata": {},
          "execution_count": 38
        }
      ]
    },
    {
      "cell_type": "code",
      "metadata": {
        "colab": {
          "base_uri": "https://localhost:8080/"
        },
        "id": "gR0abrKEDsCY",
        "outputId": "97d4298c-f27d-41d7-cddf-2a1c8e581977"
      },
      "source": [
        "df_test['Discount'].value_counts()"
      ],
      "execution_count": null,
      "outputs": [
        {
          "output_type": "execute_result",
          "data": {
            "text/plain": [
              "0.06    5819\n",
              "0.16    5785\n",
              "0.00    3016\n",
              "0.12    2987\n",
              "0.02    2958\n",
              "0.13    2917\n",
              "0.18    2910\n",
              "0.19    2908\n",
              "0.25    2889\n",
              "0.11    2866\n",
              "0.21    2853\n",
              "0.07    2852\n",
              "0.01    2833\n",
              "0.10    2810\n",
              "0.03    2810\n",
              "0.04    2769\n",
              "Name: Discount, dtype: int64"
            ]
          },
          "metadata": {},
          "execution_count": 39
        }
      ]
    },
    {
      "cell_type": "markdown",
      "metadata": {
        "id": "zoM_tb8FD88r"
      },
      "source": [
        "The column Discount is a categorical feature. We will again use the knn imputer for imputing the missing values in this column."
      ]
    },
    {
      "cell_type": "code",
      "metadata": {
        "id": "3e-MeGDFELcf"
      },
      "source": [
        "from sklearn.impute import KNNImputer\n",
        "imputer = KNNImputer(n_neighbors=5)\n",
        "df_train_copy['Discount'] = imputer.fit_transform(df_train_copy[['Discount']])"
      ],
      "execution_count": 14,
      "outputs": []
    },
    {
      "cell_type": "code",
      "metadata": {
        "colab": {
          "base_uri": "https://localhost:8080/"
        },
        "id": "QBzeXD-SEfJw",
        "outputId": "80744eac-29e5-4547-c64b-68b248f454c8"
      },
      "source": [
        "df_train_copy.isnull().sum()"
      ],
      "execution_count": null,
      "outputs": [
        {
          "output_type": "execute_result",
          "data": {
            "text/plain": [
              "OrderId                  0\n",
              "Customer_Id              0\n",
              "Customer_Category        0\n",
              "Cust_State               0\n",
              "Zipcode                  0\n",
              "Sales                    0\n",
              "Order_zone               0\n",
              "Price                    0\n",
              "CategoryName             0\n",
              "Transcation              0\n",
              "Dept_Id                  0\n",
              "Dept_Name                0\n",
              "Profit_Ratio             0\n",
              "Discount                 0\n",
              "Quantity                 0\n",
              "Order_Profit             0\n",
              "Product_type             0\n",
              "Prod_Category_Id         0\n",
              "ProductLength         2946\n",
              "ProductWeight          695\n",
              "Dispatched               0\n",
              "Shipping_Class           0\n",
              "Scheduled_Shipping       0\n",
              "Warehouse_Region         0\n",
              "Delivery_Review       9065\n",
              "Session_Ordered       4792\n",
              "WeekdayOrder             0\n",
              "Delivery_Status          0\n",
              "dtype: int64"
            ]
          },
          "metadata": {},
          "execution_count": 41
        }
      ]
    },
    {
      "cell_type": "code",
      "metadata": {
        "id": "_Gzd2nD2EuhX"
      },
      "source": [
        "#impute on test data\n",
        "df_test_copy['Discount'] = imputer.fit_transform(df_test_copy[['Discount']])"
      ],
      "execution_count": 15,
      "outputs": []
    },
    {
      "cell_type": "code",
      "metadata": {
        "colab": {
          "base_uri": "https://localhost:8080/"
        },
        "id": "EqpQD_FeE3YP",
        "outputId": "bbbb8256-2a0e-409b-b2f9-f022bb347df9"
      },
      "source": [
        "df_test_copy.isnull().sum()"
      ],
      "execution_count": null,
      "outputs": [
        {
          "output_type": "execute_result",
          "data": {
            "text/plain": [
              "OrderId                  0\n",
              "Customer_Id              0\n",
              "Customer_Category        0\n",
              "Cust_State               0\n",
              "Zipcode                  0\n",
              "Sales                    0\n",
              "Order_zone               0\n",
              "Price                    0\n",
              "CategoryName             0\n",
              "Transcation              0\n",
              "Dept_Id                  0\n",
              "Dept_Name                0\n",
              "Profit_Ratio             0\n",
              "Discount                 0\n",
              "Quantity                 0\n",
              "Order_Profit             0\n",
              "Product_type             0\n",
              "Prod_Category_Id         0\n",
              "ProductLength         1304\n",
              "ProductWeight          307\n",
              "Dispatched               0\n",
              "Shipping_Class           0\n",
              "Scheduled_Shipping       0\n",
              "Warehouse_Region         0\n",
              "Delivery_Review       3896\n",
              "Session_Ordered       2031\n",
              "WeekdayOrder             0\n",
              "dtype: int64"
            ]
          },
          "metadata": {},
          "execution_count": 43
        }
      ]
    },
    {
      "cell_type": "code",
      "metadata": {
        "colab": {
          "base_uri": "https://localhost:8080/"
        },
        "id": "V0IHq_HEE-G6",
        "outputId": "fe1e0237-9252-4b35-b802-92dcc7c20ce3"
      },
      "source": [
        "#check value counts\n",
        "df_train_copy['Discount'].value_counts()"
      ],
      "execution_count": 16,
      "outputs": [
        {
          "output_type": "execute_result",
          "data": {
            "text/plain": [
              "0.06000    13450\n",
              "0.16000    13411\n",
              "0.03000     6882\n",
              "0.04000     6873\n",
              "0.21000     6798\n",
              "0.10000     6797\n",
              "0.01000     6787\n",
              "0.07000     6762\n",
              "0.11000     6754\n",
              "0.19000     6734\n",
              "0.18000     6733\n",
              "0.13000     6702\n",
              "0.25000     6698\n",
              "0.02000     6668\n",
              "0.12000     6636\n",
              "0.00000     6628\n",
              "0.10545     5050\n",
              "Name: Discount, dtype: int64"
            ]
          },
          "metadata": {},
          "execution_count": 16
        }
      ]
    },
    {
      "cell_type": "code",
      "metadata": {
        "colab": {
          "base_uri": "https://localhost:8080/"
        },
        "id": "ZfbcAFbWF1tT",
        "outputId": "822037da-2477-465a-ea1f-5d88de5d9ba5"
      },
      "source": [
        "df_test_copy['Discount'].value_counts()"
      ],
      "execution_count": 17,
      "outputs": [
        {
          "output_type": "execute_result",
          "data": {
            "text/plain": [
              "0.060000    5819\n",
              "0.160000    5785\n",
              "0.000000    3016\n",
              "0.120000    2987\n",
              "0.020000    2958\n",
              "0.130000    2917\n",
              "0.180000    2910\n",
              "0.190000    2908\n",
              "0.250000    2889\n",
              "0.110000    2866\n",
              "0.210000    2853\n",
              "0.070000    2852\n",
              "0.010000    2833\n",
              "0.100000    2810\n",
              "0.030000    2810\n",
              "0.040000    2769\n",
              "0.105585    2174\n",
              "Name: Discount, dtype: int64"
            ]
          },
          "metadata": {},
          "execution_count": 17
        }
      ]
    },
    {
      "cell_type": "code",
      "metadata": {
        "colab": {
          "base_uri": "https://localhost:8080/"
        },
        "id": "Jq4JzUB3Epeo",
        "outputId": "d8570fa6-21ed-43e3-a0d7-473b9ef79387"
      },
      "source": [
        "#check the summary statistics and distribution for product length\n",
        "df_train_copy.describe()['ProductLength']"
      ],
      "execution_count": null,
      "outputs": [
        {
          "output_type": "execute_result",
          "data": {
            "text/plain": [
              "count    123417.000000\n",
              "mean         95.976178\n",
              "std          55.362442\n",
              "min          10.000000\n",
              "25%          51.000000\n",
              "50%          84.000000\n",
              "75%         141.000000\n",
              "max         210.000000\n",
              "Name: ProductLength, dtype: float64"
            ]
          },
          "metadata": {},
          "execution_count": 46
        }
      ]
    },
    {
      "cell_type": "code",
      "metadata": {
        "colab": {
          "base_uri": "https://localhost:8080/"
        },
        "id": "dm7YMLStJdKB",
        "outputId": "006a4148-4696-4121-aaec-46c441853f29"
      },
      "source": [
        "df_test_copy.describe()['ProductLength']"
      ],
      "execution_count": null,
      "outputs": [
        {
          "output_type": "execute_result",
          "data": {
            "text/plain": [
              "count    52852.000000\n",
              "mean        95.988591\n",
              "std         55.494076\n",
              "min         10.000000\n",
              "25%         51.000000\n",
              "50%         84.000000\n",
              "75%        141.000000\n",
              "max        210.000000\n",
              "Name: ProductLength, dtype: float64"
            ]
          },
          "metadata": {},
          "execution_count": 47
        }
      ]
    },
    {
      "cell_type": "code",
      "metadata": {
        "id": "qdG4-c0yJidc"
      },
      "source": [
        "#the mean and median values are not close to each other"
      ],
      "execution_count": null,
      "outputs": []
    },
    {
      "cell_type": "code",
      "metadata": {
        "colab": {
          "base_uri": "https://localhost:8080/",
          "height": 386
        },
        "id": "WbJpVGchEpsP",
        "outputId": "bfdd7fc1-36c2-46e6-c7e0-32ce448080c5"
      },
      "source": [
        "#check distribution on both sets\n",
        "sns.displot(df_train_copy['ProductLength'])"
      ],
      "execution_count": null,
      "outputs": [
        {
          "output_type": "execute_result",
          "data": {
            "text/plain": [
              "<seaborn.axisgrid.FacetGrid at 0x7f2589338a10>"
            ]
          },
          "metadata": {},
          "execution_count": 49
        },
        {
          "output_type": "display_data",
          "data": {
            "image/png": "[encoded data removed]",
            "text/plain": [
              "<Figure size 360x360 with 1 Axes>"
            ]
          },
          "metadata": {
            "needs_background": "light"
          }
        }
      ]
    },
    {
      "cell_type": "code",
      "metadata": {
        "colab": {
          "base_uri": "https://localhost:8080/",
          "height": 386
        },
        "id": "SSEmJ90pJ1ng",
        "outputId": "acb651ea-51a8-47a8-f9a3-a44680505d4e"
      },
      "source": [
        "sns.displot(df_test_copy['ProductLength'])"
      ],
      "execution_count": null,
      "outputs": [
        {
          "output_type": "execute_result",
          "data": {
            "text/plain": [
              "<seaborn.axisgrid.FacetGrid at 0x7f25891da7d0>"
            ]
          },
          "metadata": {},
          "execution_count": 50
        },
        {
          "output_type": "display_data",
          "data": {
            "image/png": "[encoded data removed]",
            "text/plain": [
              "<Figure size 360x360 with 1 Axes>"
            ]
          },
          "metadata": {
            "needs_background": "light"
          }
        }
      ]
    },
    {
      "cell_type": "code",
      "metadata": {
        "id": "uEJOxoKGJ8sh"
      },
      "source": [
        "#we have almost similar distribution on both data sets. We'll again use the median value to impute the missing values "
      ],
      "execution_count": null,
      "outputs": []
    },
    {
      "cell_type": "code",
      "metadata": {
        "id": "QZDJBGAIKce3"
      },
      "source": [
        "#impute missing data on train set\n",
        "df_train_copy['ProductLength'] = df_train_copy['ProductLength'].fillna(df_train_copy['ProductLength'].median())"
      ],
      "execution_count": 18,
      "outputs": []
    },
    {
      "cell_type": "code",
      "metadata": {
        "colab": {
          "base_uri": "https://localhost:8080/"
        },
        "id": "BUrcoTi-K1FN",
        "outputId": "1dfeccd1-3cfa-47d6-c2eb-04e6c83b3a57"
      },
      "source": [
        "df_train_copy['ProductLength'].isnull().sum()"
      ],
      "execution_count": null,
      "outputs": [
        {
          "output_type": "execute_result",
          "data": {
            "text/plain": [
              "0"
            ]
          },
          "metadata": {},
          "execution_count": 53
        }
      ]
    },
    {
      "cell_type": "code",
      "metadata": {
        "id": "ar9uN76fLEMI"
      },
      "source": [
        "#impute on test data\n",
        "df_test_copy['ProductLength'] = df_test_copy['ProductLength'].fillna(df_test_copy['ProductLength'].median())"
      ],
      "execution_count": 19,
      "outputs": []
    },
    {
      "cell_type": "code",
      "metadata": {
        "colab": {
          "base_uri": "https://localhost:8080/"
        },
        "id": "Ilgco1dLLMXj",
        "outputId": "6158895a-dfc9-4084-ed9b-66f135ce9707"
      },
      "source": [
        "df_test_copy['ProductLength'].isnull().sum()"
      ],
      "execution_count": null,
      "outputs": [
        {
          "output_type": "execute_result",
          "data": {
            "text/plain": [
              "0"
            ]
          },
          "metadata": {},
          "execution_count": 55
        }
      ]
    },
    {
      "cell_type": "code",
      "metadata": {
        "id": "rYKlhXPrLSVk"
      },
      "source": [
        "#impute missing values in the product weight column as done in the productlength column by median"
      ],
      "execution_count": null,
      "outputs": []
    },
    {
      "cell_type": "code",
      "metadata": {
        "id": "yEZn8pwcLp56"
      },
      "source": [
        "#impute missing data on train set\n",
        "df_train_copy['ProductWeight'] = df_train_copy['ProductWeight'].fillna(df_train_copy['ProductWeight'].median())"
      ],
      "execution_count": 20,
      "outputs": []
    },
    {
      "cell_type": "code",
      "metadata": {
        "colab": {
          "base_uri": "https://localhost:8080/"
        },
        "id": "2Chu_rAOL2mj",
        "outputId": "7a665546-566d-4fb5-cd59-edb9a506779f"
      },
      "source": [
        "df_train_copy['ProductWeight'].isnull().sum()"
      ],
      "execution_count": null,
      "outputs": [
        {
          "output_type": "execute_result",
          "data": {
            "text/plain": [
              "0"
            ]
          },
          "metadata": {},
          "execution_count": 58
        }
      ]
    },
    {
      "cell_type": "code",
      "metadata": {
        "id": "TYnMhba9L-A3"
      },
      "source": [
        "#impute the missing values on the test data\n",
        "df_test_copy['ProductWeight'] = df_test_copy['ProductWeight'].fillna(df_test_copy['ProductWeight'].median())"
      ],
      "execution_count": 21,
      "outputs": []
    },
    {
      "cell_type": "code",
      "metadata": {
        "colab": {
          "base_uri": "https://localhost:8080/"
        },
        "id": "6D50hEF-MLjg",
        "outputId": "3e002949-1e39-4c34-e3ee-844ab732f253"
      },
      "source": [
        "df_test_copy['ProductWeight'].isnull().sum()"
      ],
      "execution_count": null,
      "outputs": [
        {
          "output_type": "execute_result",
          "data": {
            "text/plain": [
              "0"
            ]
          },
          "metadata": {},
          "execution_count": 60
        }
      ]
    },
    {
      "cell_type": "code",
      "metadata": {
        "colab": {
          "base_uri": "https://localhost:8080/"
        },
        "id": "yhvvZvl6MQJg",
        "outputId": "dc916e1a-5f4c-4405-b905-61a167cfc217"
      },
      "source": [
        "df_train_copy.isnull().sum()"
      ],
      "execution_count": null,
      "outputs": [
        {
          "output_type": "execute_result",
          "data": {
            "text/plain": [
              "OrderId                  0\n",
              "Customer_Id              0\n",
              "Customer_Category        0\n",
              "Cust_State               0\n",
              "Zipcode                  0\n",
              "Sales                    0\n",
              "Order_zone               0\n",
              "Price                    0\n",
              "CategoryName             0\n",
              "Transcation              0\n",
              "Dept_Id                  0\n",
              "Dept_Name                0\n",
              "Profit_Ratio             0\n",
              "Discount                 0\n",
              "Quantity                 0\n",
              "Order_Profit             0\n",
              "Product_type             0\n",
              "Prod_Category_Id         0\n",
              "ProductLength            0\n",
              "ProductWeight            0\n",
              "Dispatched               0\n",
              "Shipping_Class           0\n",
              "Scheduled_Shipping       0\n",
              "Warehouse_Region         0\n",
              "Delivery_Review       9065\n",
              "Session_Ordered       4792\n",
              "WeekdayOrder             0\n",
              "Delivery_Status          0\n",
              "dtype: int64"
            ]
          },
          "metadata": {},
          "execution_count": 61
        }
      ]
    },
    {
      "cell_type": "code",
      "metadata": {
        "colab": {
          "base_uri": "https://localhost:8080/"
        },
        "id": "XtxPxXFmMVdf",
        "outputId": "2063e55d-25a8-467d-95e1-6a3d121b4fac"
      },
      "source": [
        "df_test_copy.isnull().sum()"
      ],
      "execution_count": null,
      "outputs": [
        {
          "output_type": "execute_result",
          "data": {
            "text/plain": [
              "OrderId                  0\n",
              "Customer_Id              0\n",
              "Customer_Category        0\n",
              "Cust_State               0\n",
              "Zipcode                  0\n",
              "Sales                    0\n",
              "Order_zone               0\n",
              "Price                    0\n",
              "CategoryName             0\n",
              "Transcation              0\n",
              "Dept_Id                  0\n",
              "Dept_Name                0\n",
              "Profit_Ratio             0\n",
              "Discount                 0\n",
              "Quantity                 0\n",
              "Order_Profit             0\n",
              "Product_type             0\n",
              "Prod_Category_Id         0\n",
              "ProductLength            0\n",
              "ProductWeight            0\n",
              "Dispatched               0\n",
              "Shipping_Class           0\n",
              "Scheduled_Shipping       0\n",
              "Warehouse_Region         0\n",
              "Delivery_Review       3896\n",
              "Session_Ordered       2031\n",
              "WeekdayOrder             0\n",
              "dtype: int64"
            ]
          },
          "metadata": {},
          "execution_count": 62
        }
      ]
    },
    {
      "cell_type": "code",
      "metadata": {
        "colab": {
          "base_uri": "https://localhost:8080/",
          "height": 288
        },
        "id": "LjCOGOPHMZso",
        "outputId": "9d2315d4-9806-4c50-e02b-e1f535110b09"
      },
      "source": [
        "#treat the missing values in Delivery_review column\n",
        "df_train_copy['Delivery_Review'].value_counts().plot(kind='bar')"
      ],
      "execution_count": null,
      "outputs": [
        {
          "output_type": "execute_result",
          "data": {
            "text/plain": [
              "<matplotlib.axes._subplots.AxesSubplot at 0x7f25890fae90>"
            ]
          },
          "metadata": {},
          "execution_count": 63
        },
        {
          "output_type": "display_data",
          "data": {
            "image/png": "[encoded data removed]",
            "text/plain": [
              "<Figure size 432x288 with 1 Axes>"
            ]
          },
          "metadata": {
            "needs_background": "light"
          }
        }
      ]
    },
    {
      "cell_type": "code",
      "metadata": {
        "colab": {
          "base_uri": "https://localhost:8080/",
          "height": 288
        },
        "id": "_TsgIh6wMzAl",
        "outputId": "5fa7fade-88ab-4816-d758-2eb767f35b7c"
      },
      "source": [
        "df_test_copy['Delivery_Review'].value_counts().plot(kind='bar')"
      ],
      "execution_count": null,
      "outputs": [
        {
          "output_type": "execute_result",
          "data": {
            "text/plain": [
              "<matplotlib.axes._subplots.AxesSubplot at 0x7f258906cc90>"
            ]
          },
          "metadata": {},
          "execution_count": 64
        },
        {
          "output_type": "display_data",
          "data": {
            "image/png": "[encoded data removed]",
            "text/plain": [
              "<Figure size 432x288 with 1 Axes>"
            ]
          },
          "metadata": {
            "needs_background": "light"
          }
        }
      ]
    },
    {
      "cell_type": "code",
      "metadata": {
        "id": "7LP9g3AnM5Vh"
      },
      "source": [
        "#we can see that both plots have almost same distribution of values."
      ],
      "execution_count": null,
      "outputs": []
    },
    {
      "cell_type": "code",
      "metadata": {
        "colab": {
          "base_uri": "https://localhost:8080/"
        },
        "id": "GHFJ6KwlNIDo",
        "outputId": "66091736-6dfa-4c2b-b32c-a129f2457875"
      },
      "source": [
        "#check summary statistics\n",
        "df_train_copy.describe()['Delivery_Review']"
      ],
      "execution_count": null,
      "outputs": [
        {
          "output_type": "execute_result",
          "data": {
            "text/plain": [
              "count    117298.000000\n",
              "mean          3.363843\n",
              "std           0.928320\n",
              "min           1.000000\n",
              "25%           3.000000\n",
              "50%           3.000000\n",
              "75%           4.000000\n",
              "max           5.000000\n",
              "Name: Delivery_Review, dtype: float64"
            ]
          },
          "metadata": {},
          "execution_count": 66
        }
      ]
    },
    {
      "cell_type": "code",
      "metadata": {
        "id": "0Y3OTn3nNj64"
      },
      "source": [
        "#the mean and median values are almost same i.e 3"
      ],
      "execution_count": null,
      "outputs": []
    },
    {
      "cell_type": "code",
      "metadata": {
        "colab": {
          "base_uri": "https://localhost:8080/"
        },
        "id": "hArvCeo9NwOa",
        "outputId": "d444ba99-0751-48ab-913c-9919d6489e0e"
      },
      "source": [
        "df_test_copy.describe()['Delivery_Review']"
      ],
      "execution_count": null,
      "outputs": [
        {
          "output_type": "execute_result",
          "data": {
            "text/plain": [
              "count    50260.000000\n",
              "mean         3.365718\n",
              "std          0.927619\n",
              "min          1.000000\n",
              "25%          3.000000\n",
              "50%          3.000000\n",
              "75%          4.000000\n",
              "max          5.000000\n",
              "Name: Delivery_Review, dtype: float64"
            ]
          },
          "metadata": {},
          "execution_count": 68
        }
      ]
    },
    {
      "cell_type": "code",
      "metadata": {
        "id": "jriUs9WCN5cd"
      },
      "source": [
        "#same observation recorded for test set"
      ],
      "execution_count": null,
      "outputs": []
    },
    {
      "cell_type": "code",
      "metadata": {
        "id": "8hHnJURrOaYG"
      },
      "source": [
        "#Here, we can replace the missing values by the value 3 in both train and test data"
      ],
      "execution_count": null,
      "outputs": []
    },
    {
      "cell_type": "code",
      "metadata": {
        "id": "RebpimejOfK5"
      },
      "source": [
        "df_train_copy['Delivery_Review'] = df_train_copy['Delivery_Review'].replace(np.nan, 3)"
      ],
      "execution_count": 22,
      "outputs": []
    },
    {
      "cell_type": "code",
      "metadata": {
        "colab": {
          "base_uri": "https://localhost:8080/"
        },
        "id": "TQ0mZqpGPxwU",
        "outputId": "99abab92-4212-4021-f614-7eabe5479c9c"
      },
      "source": [
        "df_train_copy['Delivery_Review'].isnull().sum()"
      ],
      "execution_count": null,
      "outputs": [
        {
          "output_type": "execute_result",
          "data": {
            "text/plain": [
              "0"
            ]
          },
          "metadata": {},
          "execution_count": 72
        }
      ]
    },
    {
      "cell_type": "code",
      "metadata": {
        "colab": {
          "base_uri": "https://localhost:8080/"
        },
        "id": "DNmRsNbyP3wI",
        "outputId": "b77990c9-7a5f-40f6-c818-bcee0a45b586"
      },
      "source": [
        "df_train_copy['Delivery_Review'].value_counts()"
      ],
      "execution_count": null,
      "outputs": [
        {
          "output_type": "execute_result",
          "data": {
            "text/plain": [
              "3.0    50266\n",
              "4.0    42860\n",
              "2.0    19732\n",
              "5.0    11640\n",
              "1.0     1865\n",
              "Name: Delivery_Review, dtype: int64"
            ]
          },
          "metadata": {},
          "execution_count": 73
        }
      ]
    },
    {
      "cell_type": "code",
      "metadata": {
        "id": "EwmzxmhsP60I"
      },
      "source": [
        "#imputing on test data\n",
        "df_test_copy['Delivery_Review'] = df_test_copy['Delivery_Review'].replace(np.nan, 3)"
      ],
      "execution_count": 23,
      "outputs": []
    },
    {
      "cell_type": "code",
      "metadata": {
        "colab": {
          "base_uri": "https://localhost:8080/"
        },
        "id": "yMQSuzvAQxCW",
        "outputId": "ec0a9d38-0361-4642-f5ab-05ae836119e2"
      },
      "source": [
        "df_test_copy['Delivery_Review'].value_counts()"
      ],
      "execution_count": null,
      "outputs": [
        {
          "output_type": "execute_result",
          "data": {
            "text/plain": [
              "3.0    21584\n",
              "4.0    18382\n",
              "2.0     8391\n",
              "5.0     4997\n",
              "1.0      802\n",
              "Name: Delivery_Review, dtype: int64"
            ]
          },
          "metadata": {},
          "execution_count": 75
        }
      ]
    },
    {
      "cell_type": "code",
      "metadata": {
        "colab": {
          "base_uri": "https://localhost:8080/"
        },
        "id": "K6_piCTYQ2tJ",
        "outputId": "b42ba302-2625-4dc8-cba4-f38a3b1a0868"
      },
      "source": [
        "df_test_copy['Delivery_Review'].isnull().sum()"
      ],
      "execution_count": null,
      "outputs": [
        {
          "output_type": "execute_result",
          "data": {
            "text/plain": [
              "0"
            ]
          },
          "metadata": {},
          "execution_count": 76
        }
      ]
    },
    {
      "cell_type": "code",
      "metadata": {
        "colab": {
          "base_uri": "https://localhost:8080/"
        },
        "id": "KcOMQd9kROaT",
        "outputId": "60ce934c-64d3-4f61-b235-237754cf4ac7"
      },
      "source": [
        "#check missing data in the column session ordered\n",
        "df_train_copy['Session_Ordered'].value_counts()"
      ],
      "execution_count": null,
      "outputs": [
        {
          "output_type": "execute_result",
          "data": {
            "text/plain": [
              "2.0    40873\n",
              "3.0    40440\n",
              "1.0    40258\n",
              "Name: Session_Ordered, dtype: int64"
            ]
          },
          "metadata": {},
          "execution_count": 77
        }
      ]
    },
    {
      "cell_type": "code",
      "metadata": {
        "colab": {
          "base_uri": "https://localhost:8080/"
        },
        "id": "KmMK_mu2Rgjx",
        "outputId": "5a91a3f2-089b-48fb-c4dd-bf806966a18d"
      },
      "source": [
        "df_train_copy['Session_Ordered'].describe()"
      ],
      "execution_count": null,
      "outputs": [
        {
          "output_type": "execute_result",
          "data": {
            "text/plain": [
              "count    121571.000000\n",
              "mean          2.001497\n",
              "std           0.814737\n",
              "min           1.000000\n",
              "25%           1.000000\n",
              "50%           2.000000\n",
              "75%           3.000000\n",
              "max           3.000000\n",
              "Name: Session_Ordered, dtype: float64"
            ]
          },
          "metadata": {},
          "execution_count": 78
        }
      ]
    },
    {
      "cell_type": "code",
      "metadata": {
        "id": "hxzt_Z8DRlC2"
      },
      "source": [
        "#here mean and median values are same. ie 2. We will impute the missing values with 2\n",
        "df_train_copy['Session_Ordered'] = df_train_copy['Session_Ordered'].replace(np.nan, 2)"
      ],
      "execution_count": 24,
      "outputs": []
    },
    {
      "cell_type": "code",
      "metadata": {
        "colab": {
          "base_uri": "https://localhost:8080/"
        },
        "id": "zoJQ-eeESAh4",
        "outputId": "5a41c60e-62ed-43f7-f9fe-f11ffe1e99a8"
      },
      "source": [
        "df_train_copy['Session_Ordered'].isnull().sum()"
      ],
      "execution_count": null,
      "outputs": [
        {
          "output_type": "execute_result",
          "data": {
            "text/plain": [
              "0"
            ]
          },
          "metadata": {},
          "execution_count": 80
        }
      ]
    },
    {
      "cell_type": "code",
      "metadata": {
        "colab": {
          "base_uri": "https://localhost:8080/"
        },
        "id": "Qz8ZEiKqSFHr",
        "outputId": "bf07a65b-6717-4431-c005-66040b5d0792"
      },
      "source": [
        "df_train_copy['Session_Ordered'].value_counts()"
      ],
      "execution_count": null,
      "outputs": [
        {
          "output_type": "execute_result",
          "data": {
            "text/plain": [
              "2.0    45665\n",
              "3.0    40440\n",
              "1.0    40258\n",
              "Name: Session_Ordered, dtype: int64"
            ]
          },
          "metadata": {},
          "execution_count": 81
        }
      ]
    },
    {
      "cell_type": "code",
      "metadata": {
        "colab": {
          "base_uri": "https://localhost:8080/"
        },
        "id": "L39id8blSICM",
        "outputId": "8e386645-9f0a-4375-9b01-78091c850fb8"
      },
      "source": [
        "#impute on the test data\n",
        "df_test_copy['Session_Ordered'].value_counts()"
      ],
      "execution_count": null,
      "outputs": [
        {
          "output_type": "execute_result",
          "data": {
            "text/plain": [
              "1.0    17626\n",
              "3.0    17377\n",
              "2.0    17122\n",
              "Name: Session_Ordered, dtype: int64"
            ]
          },
          "metadata": {},
          "execution_count": 82
        }
      ]
    },
    {
      "cell_type": "code",
      "metadata": {
        "colab": {
          "base_uri": "https://localhost:8080/"
        },
        "id": "PwKW2t2_SUB3",
        "outputId": "982deee1-95f8-4c36-e873-aa56a344b7a6"
      },
      "source": [
        "df_test_copy['Session_Ordered'].describe()"
      ],
      "execution_count": null,
      "outputs": [
        {
          "output_type": "execute_result",
          "data": {
            "text/plain": [
              "count    52125.000000\n",
              "mean         1.995223\n",
              "std          0.819457\n",
              "min          1.000000\n",
              "25%          1.000000\n",
              "50%          2.000000\n",
              "75%          3.000000\n",
              "max          3.000000\n",
              "Name: Session_Ordered, dtype: float64"
            ]
          },
          "metadata": {},
          "execution_count": 83
        }
      ]
    },
    {
      "cell_type": "code",
      "metadata": {
        "id": "q1Oo6LiASWwC"
      },
      "source": [
        "#the mean and median values are almost same i.e 2. Impute with 2"
      ],
      "execution_count": null,
      "outputs": []
    },
    {
      "cell_type": "code",
      "metadata": {
        "id": "npYAR7bySfri"
      },
      "source": [
        "df_test_copy['Session_Ordered'] = df_test_copy['Session_Ordered'].replace(np.nan, 2)"
      ],
      "execution_count": 25,
      "outputs": []
    },
    {
      "cell_type": "code",
      "metadata": {
        "colab": {
          "base_uri": "https://localhost:8080/"
        },
        "id": "wgYz6W_1SmqN",
        "outputId": "832124fc-505b-4186-d6ae-587785d0637c"
      },
      "source": [
        "df_test_copy['Session_Ordered'].isnull().sum()"
      ],
      "execution_count": null,
      "outputs": [
        {
          "output_type": "execute_result",
          "data": {
            "text/plain": [
              "0"
            ]
          },
          "metadata": {},
          "execution_count": 86
        }
      ]
    },
    {
      "cell_type": "code",
      "metadata": {
        "colab": {
          "base_uri": "https://localhost:8080/"
        },
        "id": "2zHrNXcuSpoO",
        "outputId": "80b9e25f-4ca6-4288-f8bf-071308915c35"
      },
      "source": [
        "df_test_copy['Session_Ordered'].value_counts()"
      ],
      "execution_count": null,
      "outputs": [
        {
          "output_type": "execute_result",
          "data": {
            "text/plain": [
              "2.0    19153\n",
              "1.0    17626\n",
              "3.0    17377\n",
              "Name: Session_Ordered, dtype: int64"
            ]
          },
          "metadata": {},
          "execution_count": 87
        }
      ]
    },
    {
      "cell_type": "code",
      "metadata": {
        "colab": {
          "base_uri": "https://localhost:8080/"
        },
        "id": "o4AQN6W9Sr4p",
        "outputId": "a3dc9269-a893-4db2-b608-e2be75539bad"
      },
      "source": [
        "#check missing values for entire datasets\n",
        "df_train_copy.isnull().sum()"
      ],
      "execution_count": 26,
      "outputs": [
        {
          "output_type": "execute_result",
          "data": {
            "text/plain": [
              "OrderId               0\n",
              "Customer_Id           0\n",
              "Customer_Category     0\n",
              "Cust_State            0\n",
              "Zipcode               0\n",
              "Sales                 0\n",
              "Order_zone            0\n",
              "Price                 0\n",
              "CategoryName          0\n",
              "Transcation           0\n",
              "Dept_Id               0\n",
              "Dept_Name             0\n",
              "Profit_Ratio          0\n",
              "Discount              0\n",
              "Quantity              0\n",
              "Order_Profit          0\n",
              "Product_type          0\n",
              "Prod_Category_Id      0\n",
              "ProductLength         0\n",
              "ProductWeight         0\n",
              "Dispatched            0\n",
              "Shipping_Class        0\n",
              "Scheduled_Shipping    0\n",
              "Warehouse_Region      0\n",
              "Delivery_Review       0\n",
              "Session_Ordered       0\n",
              "WeekdayOrder          0\n",
              "Delivery_Status       0\n",
              "dtype: int64"
            ]
          },
          "metadata": {},
          "execution_count": 26
        }
      ]
    },
    {
      "cell_type": "code",
      "metadata": {
        "colab": {
          "base_uri": "https://localhost:8080/"
        },
        "id": "_u5p5M2NS51y",
        "outputId": "2abb26f1-5b94-49da-a41b-4636893ea811"
      },
      "source": [
        "df_test_copy.isnull().sum()"
      ],
      "execution_count": 27,
      "outputs": [
        {
          "output_type": "execute_result",
          "data": {
            "text/plain": [
              "OrderId               0\n",
              "Customer_Id           0\n",
              "Customer_Category     0\n",
              "Cust_State            0\n",
              "Zipcode               0\n",
              "Sales                 0\n",
              "Order_zone            0\n",
              "Price                 0\n",
              "CategoryName          0\n",
              "Transcation           0\n",
              "Dept_Id               0\n",
              "Dept_Name             0\n",
              "Profit_Ratio          0\n",
              "Discount              0\n",
              "Quantity              0\n",
              "Order_Profit          0\n",
              "Product_type          0\n",
              "Prod_Category_Id      0\n",
              "ProductLength         0\n",
              "ProductWeight         0\n",
              "Dispatched            0\n",
              "Shipping_Class        0\n",
              "Scheduled_Shipping    0\n",
              "Warehouse_Region      0\n",
              "Delivery_Review       0\n",
              "Session_Ordered       0\n",
              "WeekdayOrder          0\n",
              "dtype: int64"
            ]
          },
          "metadata": {},
          "execution_count": 27
        }
      ]
    },
    {
      "cell_type": "markdown",
      "metadata": {
        "id": "5J0oqZO7TAcv"
      },
      "source": [
        "All the missing values for both train and test sets have been handled by using imputation techniques."
      ]
    },
    {
      "cell_type": "code",
      "metadata": {
        "id": "3KxIq-Wavu3c"
      },
      "source": [
        ""
      ],
      "execution_count": null,
      "outputs": []
    },
    {
      "cell_type": "code",
      "metadata": {
        "colab": {
          "base_uri": "https://localhost:8080/",
          "height": 578
        },
        "id": "9vkpRrI9TJaw",
        "outputId": "cc8c0580-a9b0-49da-ffed-5862de0964da"
      },
      "source": [
        "#check correlation matrix for all variables in both datasets using heatmap\n",
        "plt.figure(figsize=(15,8))\n",
        "sns.heatmap(data=df_train_copy.corr(), annot=False)\n",
        "plt.show()"
      ],
      "execution_count": 29,
      "outputs": [
        {
          "output_type": "display_data",
          "data": {
            "image/png": "[encoded data removed]",
            "text/plain": [
              "<Figure size 1080x576 with 2 Axes>"
            ]
          },
          "metadata": {
            "needs_background": "light"
          }
        }
      ]
    },
    {
      "cell_type": "code",
      "metadata": {
        "colab": {
          "base_uri": "https://localhost:8080/",
          "height": 578
        },
        "id": "rz_cXzo9U_j5",
        "outputId": "40b56b90-9df8-4309-a8f2-3f991261ce87"
      },
      "source": [
        "plt.figure(figsize=(15,8))\n",
        "sns.heatmap(data=df_test_copy.corr(), annot=False)\n",
        "plt.show()"
      ],
      "execution_count": null,
      "outputs": [
        {
          "output_type": "display_data",
          "data": {
            "image/png": "[encoded data removed]",
            "text/plain": [
              "<Figure size 1080x576 with 2 Axes>"
            ]
          },
          "metadata": {
            "needs_background": "light"
          }
        }
      ]
    },
    {
      "cell_type": "code",
      "metadata": {
        "id": "hwrc0mJ6T20M"
      },
      "source": [
        "#there is no significant relationship found between the variables except for some categorical variables like prod_cat-id and dept_id."
      ],
      "execution_count": null,
      "outputs": []
    },
    {
      "cell_type": "markdown",
      "metadata": {
        "id": "7m7lTzdaYKf5"
      },
      "source": [
        "Outlier detection and Treatment"
      ]
    },
    {
      "cell_type": "code",
      "metadata": {
        "colab": {
          "base_uri": "https://localhost:8080/",
          "height": 585
        },
        "id": "Iv3nS8nDYOxO",
        "outputId": "932a402b-ebd1-45a4-be5a-5f7d8ca4f5a1"
      },
      "source": [
        "#for train data\n",
        "plt.figure(figsize=(15,8))\n",
        "plt.tight_layout()\n",
        "df_train_copy.boxplot()\n",
        "plt.xticks(rotation=90)\n",
        "plt.show()"
      ],
      "execution_count": null,
      "outputs": [
        {
          "output_type": "display_data",
          "data": {
            "image/png": "[encoded data removed]",
            "text/plain": [
              "<Figure size 1080x576 with 1 Axes>"
            ]
          },
          "metadata": {
            "needs_background": "light"
          }
        }
      ]
    },
    {
      "cell_type": "code",
      "metadata": {
        "colab": {
          "base_uri": "https://localhost:8080/",
          "height": 585
        },
        "id": "wSqGz5ICajQk",
        "outputId": "be11b16f-ea23-4828-f84f-afb3606a531e"
      },
      "source": [
        "#for test data\n",
        "plt.figure(figsize=(15,8))\n",
        "plt.tight_layout()\n",
        "df_test_copy.boxplot()\n",
        "plt.xticks(rotation=90)\n",
        "plt.show()"
      ],
      "execution_count": null,
      "outputs": [
        {
          "output_type": "display_data",
          "data": {
            "image/png": "[encoded data removed]",
            "text/plain": [
              "<Figure size 1080x576 with 1 Axes>"
            ]
          },
          "metadata": {
            "needs_background": "light"
          }
        }
      ]
    },
    {
      "cell_type": "markdown",
      "metadata": {
        "id": "WnV__oMoZE_e"
      },
      "source": [
        "We can observe that columns cust_id, sales, price, dept_id, profit_ratio, order_profit, product weight and delivery review have outlier values."
      ]
    },
    {
      "cell_type": "markdown",
      "metadata": {
        "id": "RFrnEv_TZjUZ"
      },
      "source": [
        "Out of these columns, we can ignore columns cust_id, dept_id and delivery review. Id columns are not required and review column is categorical."
      ]
    },
    {
      "cell_type": "code",
      "metadata": {
        "colab": {
          "base_uri": "https://localhost:8080/",
          "height": 551
        },
        "id": "q2I06JBPZ3-W",
        "outputId": "9eecbd41-de9f-4262-ac32-86e35bb41296"
      },
      "source": [
        "#Boxplot of sales\n",
        "plt.figure(figsize=(15,8))\n",
        "sns.boxplot(df_train_copy['Sales'])\n",
        "plt.show()"
      ],
      "execution_count": null,
      "outputs": [
        {
          "output_type": "stream",
          "name": "stderr",
          "text": [
            "/usr/local/lib/python3.7/dist-packages/seaborn/_decorators.py:43: FutureWarning: Pass the following variable as a keyword arg: x. From version 0.12, the only valid positional argument will be `data`, and passing other arguments without an explicit keyword will result in an error or misinterpretation.\n",
            "  FutureWarning\n"
          ]
        },
        {
          "output_type": "display_data",
          "data": {
            "image/png": "[encoded data removed]",
            "text/plain": [
              "<Figure size 1080x576 with 1 Axes>"
            ]
          },
          "metadata": {
            "needs_background": "light"
          }
        }
      ]
    },
    {
      "cell_type": "code",
      "metadata": {
        "colab": {
          "base_uri": "https://localhost:8080/"
        },
        "id": "LcNcHIqNaYnQ",
        "outputId": "9c81e6aa-70c4-4fad-cd9c-2a7e0a6a0e1f"
      },
      "source": [
        "df_train_copy['Sales'].describe()"
      ],
      "execution_count": null,
      "outputs": [
        {
          "output_type": "execute_result",
          "data": {
            "text/plain": [
              "count    126363.000000\n",
              "mean        195.458718\n",
              "std         119.761379\n",
              "min          28.000000\n",
              "25%         114.000000\n",
              "50%         173.000000\n",
              "75%         257.000000\n",
              "max        1969.000000\n",
              "Name: Sales, dtype: float64"
            ]
          },
          "metadata": {},
          "execution_count": 96
        }
      ]
    },
    {
      "cell_type": "code",
      "metadata": {
        "colab": {
          "base_uri": "https://localhost:8080/"
        },
        "id": "axtL4npbZbfN",
        "outputId": "78e42ee2-6c4e-4331-85de-c99c83421abf"
      },
      "source": [
        "df_train_copy[df_train_copy['Sales'] > 600].shape[0]"
      ],
      "execution_count": null,
      "outputs": [
        {
          "output_type": "execute_result",
          "data": {
            "text/plain": [
              "315"
            ]
          },
          "metadata": {},
          "execution_count": 97
        }
      ]
    },
    {
      "cell_type": "code",
      "metadata": {
        "id": "X6h-bA1fZYM_"
      },
      "source": [
        "#We can cap the outlier values to the value 600."
      ],
      "execution_count": null,
      "outputs": []
    },
    {
      "cell_type": "code",
      "metadata": {
        "id": "c7AkBzhrYeDz"
      },
      "source": [
        "#capping the outliers on the train data\n",
        "df_train_copy['Sales'] = np.where(df_train_copy['Sales'] > 600.0, 600.0, df_train_copy['Sales'])"
      ],
      "execution_count": 30,
      "outputs": []
    },
    {
      "cell_type": "code",
      "metadata": {
        "colab": {
          "base_uri": "https://localhost:8080/"
        },
        "id": "X8a6cr99YSVR",
        "outputId": "a687becb-e0cc-4a12-d2ac-8164e94f741b"
      },
      "source": [
        "df_train_copy[df_train_copy['Sales'] > 600].shape[0]"
      ],
      "execution_count": 31,
      "outputs": [
        {
          "output_type": "execute_result",
          "data": {
            "text/plain": [
              "0"
            ]
          },
          "metadata": {},
          "execution_count": 31
        }
      ]
    },
    {
      "cell_type": "code",
      "metadata": {
        "colab": {
          "base_uri": "https://localhost:8080/",
          "height": 551
        },
        "id": "cDSaUMMmhRRY",
        "outputId": "3515a1b8-f1e5-4baf-befb-c4ef7b7e6800"
      },
      "source": [
        "#Boxplot of sales\n",
        "plt.figure(figsize=(15,8))\n",
        "sns.boxplot(df_test_copy['Sales'])\n",
        "plt.show()"
      ],
      "execution_count": null,
      "outputs": [
        {
          "output_type": "stream",
          "name": "stderr",
          "text": [
            "/usr/local/lib/python3.7/dist-packages/seaborn/_decorators.py:43: FutureWarning: Pass the following variable as a keyword arg: x. From version 0.12, the only valid positional argument will be `data`, and passing other arguments without an explicit keyword will result in an error or misinterpretation.\n",
            "  FutureWarning\n"
          ]
        },
        {
          "output_type": "display_data",
          "data": {
            "image/png": "[encoded data removed]",
            "text/plain": [
              "<Figure size 1080x576 with 1 Axes>"
            ]
          },
          "metadata": {
            "needs_background": "light"
          }
        }
      ]
    },
    {
      "cell_type": "code",
      "metadata": {
        "id": "2jnty5yATlq_"
      },
      "source": [
        "#capping the outliers on the test data\n",
        "df_test_copy['Sales'] = np.where(df_test_copy['Sales'] > 600.0, 600.0, df_test_copy['Sales'])"
      ],
      "execution_count": 32,
      "outputs": []
    },
    {
      "cell_type": "code",
      "metadata": {
        "colab": {
          "base_uri": "https://localhost:8080/"
        },
        "id": "F5-6vg5YMwWJ",
        "outputId": "d4143e73-0a5b-41ad-b14f-19a6d545f443"
      },
      "source": [
        "df_test_copy[df_test_copy['Sales'] > 600].shape[0]"
      ],
      "execution_count": 33,
      "outputs": [
        {
          "output_type": "execute_result",
          "data": {
            "text/plain": [
              "0"
            ]
          },
          "metadata": {},
          "execution_count": 33
        }
      ]
    },
    {
      "cell_type": "code",
      "metadata": {
        "id": "KxeKuVgHEp5k",
        "colab": {
          "base_uri": "https://localhost:8080/",
          "height": 551
        },
        "outputId": "e0c940e8-1efd-4826-e3d6-dde98ba9213c"
      },
      "source": [
        "#outlier detection on price\n",
        "#Boxplot of price on train data\n",
        "plt.figure(figsize=(15,8))\n",
        "sns.boxplot(df_train_copy['Price'])\n",
        "plt.show()"
      ],
      "execution_count": null,
      "outputs": [
        {
          "output_type": "stream",
          "name": "stderr",
          "text": [
            "/usr/local/lib/python3.7/dist-packages/seaborn/_decorators.py:43: FutureWarning: Pass the following variable as a keyword arg: x. From version 0.12, the only valid positional argument will be `data`, and passing other arguments without an explicit keyword will result in an error or misinterpretation.\n",
            "  FutureWarning\n"
          ]
        },
        {
          "output_type": "display_data",
          "data": {
            "image/png": "[encoded data removed]",
            "text/plain": [
              "<Figure size 1080x576 with 1 Axes>"
            ]
          },
          "metadata": {
            "needs_background": "light"
          }
        }
      ]
    },
    {
      "cell_type": "code",
      "metadata": {
        "id": "2EDuhQvcCHMb"
      },
      "source": [
        "#the data is heavily left skewed."
      ],
      "execution_count": null,
      "outputs": []
    },
    {
      "cell_type": "code",
      "metadata": {
        "colab": {
          "base_uri": "https://localhost:8080/"
        },
        "id": "n-Xzg8ajCeYB",
        "outputId": "1f5a6ed8-bbdc-44a9-8136-3802e6be35e0"
      },
      "source": [
        "df_train_copy['Price'].describe()"
      ],
      "execution_count": null,
      "outputs": [
        {
          "output_type": "execute_result",
          "data": {
            "text/plain": [
              "count    126363.000000\n",
              "mean      10064.758724\n",
              "std        9923.788862\n",
              "min         617.310000\n",
              "25%        3587.760000\n",
              "50%        4415.280000\n",
              "75%       14222.400000\n",
              "max      142151.340000\n",
              "Name: Price, dtype: float64"
            ]
          },
          "metadata": {},
          "execution_count": 106
        }
      ]
    },
    {
      "cell_type": "code",
      "metadata": {
        "colab": {
          "base_uri": "https://localhost:8080/"
        },
        "id": "uAbwG-wnCm2n",
        "outputId": "b6b7c1f8-b9a7-49bc-def5-5bf52429a466"
      },
      "source": [
        "df_train_copy[df_train_copy['Price'] > 30000].shape[0]"
      ],
      "execution_count": null,
      "outputs": [
        {
          "output_type": "execute_result",
          "data": {
            "text/plain": [
              "1446"
            ]
          },
          "metadata": {},
          "execution_count": 107
        }
      ]
    },
    {
      "cell_type": "markdown",
      "metadata": {
        "id": "fmXFFIFUEvYG"
      },
      "source": [
        ""
      ]
    },
    {
      "cell_type": "code",
      "metadata": {
        "id": "vnIKaqYVEqHY"
      },
      "source": [
        "#cap the values to 30000\n",
        "df_train_copy['Price'] = np.where(df_train_copy['Price'] > 30000.0, 30000.0, df_train_copy['Price'])"
      ],
      "execution_count": 34,
      "outputs": []
    },
    {
      "cell_type": "code",
      "metadata": {
        "id": "fcNzx7SDEqU4",
        "colab": {
          "base_uri": "https://localhost:8080/"
        },
        "outputId": "c6776126-defb-46c4-fc9c-353fd47f5548"
      },
      "source": [
        "df_train_copy[df_train_copy['Price'] > 30000].shape[0]"
      ],
      "execution_count": null,
      "outputs": [
        {
          "output_type": "execute_result",
          "data": {
            "text/plain": [
              "0"
            ]
          },
          "metadata": {},
          "execution_count": 109
        }
      ]
    },
    {
      "cell_type": "code",
      "metadata": {
        "id": "FUW0Upr2Eqit",
        "colab": {
          "base_uri": "https://localhost:8080/",
          "height": 551
        },
        "outputId": "da68f11d-4c03-429a-c6e7-492d79488f6b"
      },
      "source": [
        "#check on test set\n",
        "#Boxplot of price on train data\n",
        "plt.figure(figsize=(15,8))\n",
        "sns.boxplot(df_test_copy['Price'])\n",
        "plt.show()"
      ],
      "execution_count": null,
      "outputs": [
        {
          "output_type": "stream",
          "name": "stderr",
          "text": [
            "/usr/local/lib/python3.7/dist-packages/seaborn/_decorators.py:43: FutureWarning: Pass the following variable as a keyword arg: x. From version 0.12, the only valid positional argument will be `data`, and passing other arguments without an explicit keyword will result in an error or misinterpretation.\n",
            "  FutureWarning\n"
          ]
        },
        {
          "output_type": "display_data",
          "data": {
            "image/png": "[encoded data removed]",
            "text/plain": [
              "<Figure size 1080x576 with 1 Axes>"
            ]
          },
          "metadata": {
            "needs_background": "light"
          }
        }
      ]
    },
    {
      "cell_type": "code",
      "metadata": {
        "id": "8k7GKrpuEjz1"
      },
      "source": [
        "#carry out same imputation as distribution is similar\n",
        "df_test_copy['Price'] = np.where(df_test_copy['Price'] > 30000.0, 30000.0, df_test_copy['Price'])"
      ],
      "execution_count": 35,
      "outputs": []
    },
    {
      "cell_type": "code",
      "metadata": {
        "colab": {
          "base_uri": "https://localhost:8080/"
        },
        "id": "EtNqevjGEj3A",
        "outputId": "120a53ab-a8f4-4a32-a8ff-aa234e74d8e5"
      },
      "source": [
        "df_test_copy[df_test_copy['Price'] > 30000].shape[0]"
      ],
      "execution_count": 36,
      "outputs": [
        {
          "output_type": "execute_result",
          "data": {
            "text/plain": [
              "0"
            ]
          },
          "metadata": {},
          "execution_count": 36
        }
      ]
    },
    {
      "cell_type": "code",
      "metadata": {
        "colab": {
          "base_uri": "https://localhost:8080/",
          "height": 552
        },
        "id": "ME2J-vmgEj6Y",
        "outputId": "8c20e60d-9d47-45ff-8543-d30dc286de7d"
      },
      "source": [
        "#profit_ratio\n",
        "#check boxplot of profit ratio on the train data\n",
        "plt.figure(figsize=(15,8))\n",
        "sns.boxplot(df_train_copy['Profit_Ratio'])\n",
        "plt.show()"
      ],
      "execution_count": null,
      "outputs": [
        {
          "output_type": "stream",
          "name": "stderr",
          "text": [
            "/usr/local/lib/python3.7/dist-packages/seaborn/_decorators.py:43: FutureWarning: Pass the following variable as a keyword arg: x. From version 0.12, the only valid positional argument will be `data`, and passing other arguments without an explicit keyword will result in an error or misinterpretation.\n",
            "  FutureWarning\n"
          ]
        },
        {
          "output_type": "display_data",
          "data": {
            "image/png": "[encoded data removed]",
            "text/plain": [
              "<Figure size 1080x576 with 1 Axes>"
            ]
          },
          "metadata": {
            "needs_background": "light"
          }
        }
      ]
    },
    {
      "cell_type": "code",
      "metadata": {
        "colab": {
          "base_uri": "https://localhost:8080/"
        },
        "id": "S8uzHkt0Ej99",
        "outputId": "351c5f49-459c-4a24-d60a-bf655517d1bd"
      },
      "source": [
        "df_train_copy['Profit_Ratio'].describe()"
      ],
      "execution_count": null,
      "outputs": [
        {
          "output_type": "execute_result",
          "data": {
            "text/plain": [
              "count    126363.000000\n",
              "mean          0.124273\n",
              "std           0.467546\n",
              "min          -2.750000\n",
              "25%           0.080000\n",
              "50%           0.280000\n",
              "75%           0.370000\n",
              "max           0.500000\n",
              "Name: Profit_Ratio, dtype: float64"
            ]
          },
          "metadata": {},
          "execution_count": 114
        }
      ]
    },
    {
      "cell_type": "code",
      "metadata": {
        "colab": {
          "base_uri": "https://localhost:8080/"
        },
        "id": "d_APHHtQGPtk",
        "outputId": "4d2d9620-6cc9-4960-c5ae-ac159168f4d2"
      },
      "source": [
        "df_train_copy[df_train_copy['Profit_Ratio'] < -0.5].shape[0]"
      ],
      "execution_count": null,
      "outputs": [
        {
          "output_type": "execute_result",
          "data": {
            "text/plain": [
              "10972"
            ]
          },
          "metadata": {},
          "execution_count": 115
        }
      ]
    },
    {
      "cell_type": "code",
      "metadata": {
        "id": "ZMZ-4PedEkAi"
      },
      "source": [
        "#capping the values to -0.5\n",
        "df_train_copy['Profit_Ratio'] = np.where(df_train_copy['Profit_Ratio'] < -0.5, -0.5, df_train_copy['Profit_Ratio'])"
      ],
      "execution_count": 37,
      "outputs": []
    },
    {
      "cell_type": "code",
      "metadata": {
        "colab": {
          "base_uri": "https://localhost:8080/"
        },
        "id": "w-JsX3qpEkDO",
        "outputId": "0434df90-e519-4f85-b454-f936bb165ff2"
      },
      "source": [
        "df_train_copy[df_train_copy['Profit_Ratio'] < -0.5].shape[0]"
      ],
      "execution_count": 38,
      "outputs": [
        {
          "output_type": "execute_result",
          "data": {
            "text/plain": [
              "0"
            ]
          },
          "metadata": {},
          "execution_count": 38
        }
      ]
    },
    {
      "cell_type": "code",
      "metadata": {
        "colab": {
          "base_uri": "https://localhost:8080/",
          "height": 552
        },
        "id": "Hzv7kxYVEkGI",
        "outputId": "bb5b71db-d515-441c-8907-3eaa3b5de0e4"
      },
      "source": [
        "#check the outlier distribution for profit ratio on test data\n",
        "plt.figure(figsize=(15,8))\n",
        "sns.boxplot(df_test_copy['Profit_Ratio'])\n",
        "plt.show()"
      ],
      "execution_count": null,
      "outputs": [
        {
          "output_type": "stream",
          "name": "stderr",
          "text": [
            "/usr/local/lib/python3.7/dist-packages/seaborn/_decorators.py:43: FutureWarning: Pass the following variable as a keyword arg: x. From version 0.12, the only valid positional argument will be `data`, and passing other arguments without an explicit keyword will result in an error or misinterpretation.\n",
            "  FutureWarning\n"
          ]
        },
        {
          "output_type": "display_data",
          "data": {
            "image/png": "[encoded data removed]",
            "text/plain": [
              "<Figure size 1080x576 with 1 Axes>"
            ]
          },
          "metadata": {
            "needs_background": "light"
          }
        }
      ]
    },
    {
      "cell_type": "code",
      "metadata": {
        "id": "P_lFPObxH2tw"
      },
      "source": [
        "#Applying similar capping technique\n",
        "df_test_copy['Profit_Ratio'] = np.where(df_test_copy['Profit_Ratio'] < -0.5, -0.5, df_test_copy['Profit_Ratio'])"
      ],
      "execution_count": 39,
      "outputs": []
    },
    {
      "cell_type": "code",
      "metadata": {
        "colab": {
          "base_uri": "https://localhost:8080/"
        },
        "id": "57i3PuI3EkJb",
        "outputId": "bcee94d3-6841-4d92-8eab-c7511428c351"
      },
      "source": [
        "df_test_copy[df_test_copy['Profit_Ratio'] < -0.5].shape[0]"
      ],
      "execution_count": null,
      "outputs": [
        {
          "output_type": "execute_result",
          "data": {
            "text/plain": [
              "0"
            ]
          },
          "metadata": {},
          "execution_count": 120
        }
      ]
    },
    {
      "cell_type": "code",
      "metadata": {
        "id": "Zuxul5sNEqyw",
        "colab": {
          "base_uri": "https://localhost:8080/",
          "height": 552
        },
        "outputId": "2145e248-a7ed-4866-e079-4e21851eee34"
      },
      "source": [
        "#order profit column\n",
        "plt.figure(figsize=(15,8))\n",
        "sns.boxplot(df_train_copy['Order_Profit '])\n",
        "plt.show()"
      ],
      "execution_count": null,
      "outputs": [
        {
          "output_type": "stream",
          "name": "stderr",
          "text": [
            "/usr/local/lib/python3.7/dist-packages/seaborn/_decorators.py:43: FutureWarning: Pass the following variable as a keyword arg: x. From version 0.12, the only valid positional argument will be `data`, and passing other arguments without an explicit keyword will result in an error or misinterpretation.\n",
            "  FutureWarning\n"
          ]
        },
        {
          "output_type": "display_data",
          "data": {
            "image/png": "[encoded data removed]",
            "text/plain": [
              "<Figure size 1080x576 with 1 Axes>"
            ]
          },
          "metadata": {
            "needs_background": "light"
          }
        }
      ]
    },
    {
      "cell_type": "code",
      "metadata": {
        "colab": {
          "base_uri": "https://localhost:8080/"
        },
        "id": "lWIjRawnIdi6",
        "outputId": "bb4509d7-5fc1-49e5-8a46-7518e7631177"
      },
      "source": [
        "df_train_copy['Order_Profit '].describe()"
      ],
      "execution_count": null,
      "outputs": [
        {
          "output_type": "execute_result",
          "data": {
            "text/plain": [
              "count    126363.000000\n",
              "mean       1257.016748\n",
              "std        6690.787375\n",
              "min     -271606.420000\n",
              "25%         314.080000\n",
              "50%        1258.740000\n",
              "75%        3119.900000\n",
              "max       68156.670000\n",
              "Name: Order_Profit , dtype: float64"
            ]
          },
          "metadata": {},
          "execution_count": 122
        }
      ]
    },
    {
      "cell_type": "code",
      "metadata": {
        "id": "XmxL8yooD62c",
        "colab": {
          "base_uri": "https://localhost:8080/"
        },
        "outputId": "a8272e09-0042-42d2-a708-af28b308f592"
      },
      "source": [
        "df_train_copy[df_train_copy['Order_Profit '] > 10000].shape[0]"
      ],
      "execution_count": null,
      "outputs": [
        {
          "output_type": "execute_result",
          "data": {
            "text/plain": [
              "5600"
            ]
          },
          "metadata": {},
          "execution_count": 123
        }
      ]
    },
    {
      "cell_type": "code",
      "metadata": {
        "id": "0WBJtuXyDi9I",
        "colab": {
          "base_uri": "https://localhost:8080/"
        },
        "outputId": "2513493d-1fb7-407b-ec5c-19205f8d175e"
      },
      "source": [
        "df_train_copy[df_train_copy['Order_Profit '] < -10000].shape[0]"
      ],
      "execution_count": null,
      "outputs": [
        {
          "output_type": "execute_result",
          "data": {
            "text/plain": [
              "4129"
            ]
          },
          "metadata": {},
          "execution_count": 124
        }
      ]
    },
    {
      "cell_type": "code",
      "metadata": {
        "id": "NVmKhAINJuLy"
      },
      "source": [
        "#capping outlier values to 10000 on both sides\n",
        "df_train_copy['Order_Profit '] = np.where(df_train_copy['Order_Profit '] > 10000, 10000, df_train_copy['Order_Profit '])"
      ],
      "execution_count": 40,
      "outputs": []
    },
    {
      "cell_type": "code",
      "metadata": {
        "colab": {
          "base_uri": "https://localhost:8080/"
        },
        "id": "3EWnTfmcJuaB",
        "outputId": "327db951-1e2e-45db-e4a8-bb9c6d36ab0e"
      },
      "source": [
        "df_train_copy[df_train_copy['Order_Profit '] > 10000].shape[0]"
      ],
      "execution_count": null,
      "outputs": [
        {
          "output_type": "execute_result",
          "data": {
            "text/plain": [
              "0"
            ]
          },
          "metadata": {},
          "execution_count": 126
        }
      ]
    },
    {
      "cell_type": "code",
      "metadata": {
        "id": "plWzDQJLJudc"
      },
      "source": [
        "df_train_copy['Order_Profit '] = np.where(df_train_copy['Order_Profit '] < -10000, -10000, df_train_copy['Order_Profit '])"
      ],
      "execution_count": 41,
      "outputs": []
    },
    {
      "cell_type": "code",
      "metadata": {
        "colab": {
          "base_uri": "https://localhost:8080/"
        },
        "id": "HIjn2KJUJuhC",
        "outputId": "0da1f96c-6db9-4942-c3b3-7d5301922a5f"
      },
      "source": [
        "df_train_copy[df_train_copy['Order_Profit '] < -10000].shape[0]"
      ],
      "execution_count": null,
      "outputs": [
        {
          "output_type": "execute_result",
          "data": {
            "text/plain": [
              "0"
            ]
          },
          "metadata": {},
          "execution_count": 128
        }
      ]
    },
    {
      "cell_type": "code",
      "metadata": {
        "colab": {
          "base_uri": "https://localhost:8080/",
          "height": 552
        },
        "id": "nxNszPgaKWZS",
        "outputId": "ed4c5a68-e8d1-4f25-bfd8-7bfb5962f7bf"
      },
      "source": [
        "#check on the test set\n",
        "plt.figure(figsize=(15,8))\n",
        "sns.boxplot(df_test_copy['Order_Profit '])\n",
        "plt.show()"
      ],
      "execution_count": null,
      "outputs": [
        {
          "output_type": "stream",
          "name": "stderr",
          "text": [
            "/usr/local/lib/python3.7/dist-packages/seaborn/_decorators.py:43: FutureWarning: Pass the following variable as a keyword arg: x. From version 0.12, the only valid positional argument will be `data`, and passing other arguments without an explicit keyword will result in an error or misinterpretation.\n",
            "  FutureWarning\n"
          ]
        },
        {
          "output_type": "display_data",
          "data": {
            "image/png": "[encoded data removed]",
            "text/plain": [
              "<Figure size 1080x576 with 1 Axes>"
            ]
          },
          "metadata": {
            "needs_background": "light"
          }
        }
      ]
    },
    {
      "cell_type": "code",
      "metadata": {
        "id": "fO_mTlxcKWc-"
      },
      "source": [
        "#similar distribution is observed so same capping technique for outlier values would be applied"
      ],
      "execution_count": null,
      "outputs": []
    },
    {
      "cell_type": "code",
      "metadata": {
        "colab": {
          "base_uri": "https://localhost:8080/"
        },
        "id": "QldPcg0aKWgo",
        "outputId": "5c4a33cc-d07f-42b6-e91e-307eecf380f7"
      },
      "source": [
        "df_test_copy[df_test_copy['Order_Profit '] > 10000].shape[0]"
      ],
      "execution_count": null,
      "outputs": [
        {
          "output_type": "execute_result",
          "data": {
            "text/plain": [
              "2306"
            ]
          },
          "metadata": {},
          "execution_count": 131
        }
      ]
    },
    {
      "cell_type": "code",
      "metadata": {
        "colab": {
          "base_uri": "https://localhost:8080/"
        },
        "id": "wEzDyQHRKWjr",
        "outputId": "8fe79e6d-e3f8-4671-b891-eb8081b30ce1"
      },
      "source": [
        "df_test_copy[df_test_copy['Order_Profit '] < -10000].shape[0]"
      ],
      "execution_count": null,
      "outputs": [
        {
          "output_type": "execute_result",
          "data": {
            "text/plain": [
              "1792"
            ]
          },
          "metadata": {},
          "execution_count": 132
        }
      ]
    },
    {
      "cell_type": "code",
      "metadata": {
        "id": "rph_xaUzKWmr"
      },
      "source": [
        "df_test_copy['Order_Profit '] = np.where(df_test_copy['Order_Profit '] > 10000, 10000, df_test_copy['Order_Profit '])"
      ],
      "execution_count": 42,
      "outputs": []
    },
    {
      "cell_type": "code",
      "metadata": {
        "id": "YzosI-irKWqG"
      },
      "source": [
        "df_test_copy['Order_Profit '] = np.where(df_test_copy['Order_Profit '] < -10000, -10000, df_test_copy['Order_Profit '])"
      ],
      "execution_count": 43,
      "outputs": []
    },
    {
      "cell_type": "code",
      "metadata": {
        "colab": {
          "base_uri": "https://localhost:8080/"
        },
        "id": "cLqI-undKWtT",
        "outputId": "f0e9fcf3-67eb-45ea-d317-681be29dc855"
      },
      "source": [
        "df_test_copy[df_test_copy['Order_Profit '] > 10000].shape[0]"
      ],
      "execution_count": 44,
      "outputs": [
        {
          "output_type": "execute_result",
          "data": {
            "text/plain": [
              "0"
            ]
          },
          "metadata": {},
          "execution_count": 44
        }
      ]
    },
    {
      "cell_type": "code",
      "metadata": {
        "colab": {
          "base_uri": "https://localhost:8080/"
        },
        "id": "_C8d7Hd9JukQ",
        "outputId": "93dbf604-491e-494e-b408-bae54ab088d8"
      },
      "source": [
        "df_test_copy[df_test_copy['Order_Profit '] < -10000].shape[0]"
      ],
      "execution_count": 45,
      "outputs": [
        {
          "output_type": "execute_result",
          "data": {
            "text/plain": [
              "0"
            ]
          },
          "metadata": {},
          "execution_count": 45
        }
      ]
    },
    {
      "cell_type": "code",
      "metadata": {
        "colab": {
          "base_uri": "https://localhost:8080/",
          "height": 551
        },
        "id": "9alhV5JcLXV2",
        "outputId": "08c9ddc2-95eb-45c1-9e84-b7bdb4cf559b"
      },
      "source": [
        "#product weight\n",
        "plt.figure(figsize=(15,8))\n",
        "sns.boxplot(df_train_copy['ProductWeight'])\n",
        "plt.show()"
      ],
      "execution_count": null,
      "outputs": [
        {
          "output_type": "stream",
          "name": "stderr",
          "text": [
            "/usr/local/lib/python3.7/dist-packages/seaborn/_decorators.py:43: FutureWarning: Pass the following variable as a keyword arg: x. From version 0.12, the only valid positional argument will be `data`, and passing other arguments without an explicit keyword will result in an error or misinterpretation.\n",
            "  FutureWarning\n"
          ]
        },
        {
          "output_type": "display_data",
          "data": {
            "image/png": "[encoded data removed]",
            "text/plain": [
              "<Figure size 1080x576 with 1 Axes>"
            ]
          },
          "metadata": {
            "needs_background": "light"
          }
        }
      ]
    },
    {
      "cell_type": "code",
      "metadata": {
        "colab": {
          "base_uri": "https://localhost:8080/"
        },
        "id": "mJ38H-A0L54e",
        "outputId": "26f1919c-c534-443d-a4e8-ace6146f3feb"
      },
      "source": [
        "df_train_copy['ProductWeight'].describe()"
      ],
      "execution_count": null,
      "outputs": [
        {
          "output_type": "execute_result",
          "data": {
            "text/plain": [
              "count    126363.000000\n",
              "mean       3736.038405\n",
              "std        7600.452160\n",
              "min          10.000000\n",
              "25%         764.000000\n",
              "50%        1640.000000\n",
              "75%        2706.000000\n",
              "max       43999.000000\n",
              "Name: ProductWeight, dtype: float64"
            ]
          },
          "metadata": {},
          "execution_count": 138
        }
      ]
    },
    {
      "cell_type": "code",
      "metadata": {
        "colab": {
          "base_uri": "https://localhost:8080/"
        },
        "id": "L3l-AURqMBPb",
        "outputId": "0b30ce39-9497-4943-b371-8199e4e59735"
      },
      "source": [
        "df_train_copy[df_train_copy['ProductWeight'] > 4000].shape[0]"
      ],
      "execution_count": null,
      "outputs": [
        {
          "output_type": "execute_result",
          "data": {
            "text/plain": [
              "12206"
            ]
          },
          "metadata": {},
          "execution_count": 139
        }
      ]
    },
    {
      "cell_type": "code",
      "metadata": {
        "id": "qN_xdJp8LXZE"
      },
      "source": [
        "#cap the values to 4000\n",
        "df_train_copy['ProductWeight'] = np.where(df_train_copy['ProductWeight'] > 4000, 4000, df_train_copy['ProductWeight'])"
      ],
      "execution_count": 46,
      "outputs": []
    },
    {
      "cell_type": "code",
      "metadata": {
        "colab": {
          "base_uri": "https://localhost:8080/"
        },
        "id": "XzHNHRypM47G",
        "outputId": "485f62b5-ea8c-4e4b-e983-4db680c07171"
      },
      "source": [
        "df_train_copy[df_train_copy['ProductWeight'] > 4000].shape[0]"
      ],
      "execution_count": null,
      "outputs": [
        {
          "output_type": "execute_result",
          "data": {
            "text/plain": [
              "0"
            ]
          },
          "metadata": {},
          "execution_count": 141
        }
      ]
    },
    {
      "cell_type": "code",
      "metadata": {
        "colab": {
          "base_uri": "https://localhost:8080/",
          "height": 551
        },
        "id": "vDTRW4NwM7Uz",
        "outputId": "757deddd-3cb9-4fe3-80ec-4d1aff19554d"
      },
      "source": [
        "#check distribution of outlier values on test set\n",
        "plt.figure(figsize=(15,8))\n",
        "sns.boxplot(df_test_copy['ProductWeight'])\n",
        "plt.show()"
      ],
      "execution_count": null,
      "outputs": [
        {
          "output_type": "stream",
          "name": "stderr",
          "text": [
            "/usr/local/lib/python3.7/dist-packages/seaborn/_decorators.py:43: FutureWarning: Pass the following variable as a keyword arg: x. From version 0.12, the only valid positional argument will be `data`, and passing other arguments without an explicit keyword will result in an error or misinterpretation.\n",
            "  FutureWarning\n"
          ]
        },
        {
          "output_type": "display_data",
          "data": {
            "image/png": "[encoded data removed]",
            "text/plain": [
              "<Figure size 1080x576 with 1 Axes>"
            ]
          },
          "metadata": {
            "needs_background": "light"
          }
        }
      ]
    },
    {
      "cell_type": "code",
      "metadata": {
        "id": "prDoNxpBNLet"
      },
      "source": [
        "#same distribution of values is observed"
      ],
      "execution_count": null,
      "outputs": []
    },
    {
      "cell_type": "code",
      "metadata": {
        "colab": {
          "base_uri": "https://localhost:8080/"
        },
        "id": "XLhNo93bLXcL",
        "outputId": "6f65ff70-2587-448e-d226-65568383f403"
      },
      "source": [
        "df_test_copy[df_test_copy['ProductWeight'] > 4000].shape[0]"
      ],
      "execution_count": 47,
      "outputs": [
        {
          "output_type": "execute_result",
          "data": {
            "text/plain": [
              "5268"
            ]
          },
          "metadata": {},
          "execution_count": 47
        }
      ]
    },
    {
      "cell_type": "code",
      "metadata": {
        "colab": {
          "base_uri": "https://localhost:8080/"
        },
        "id": "Zr4cEEFYNZz5",
        "outputId": "986c4347-9cfa-4b78-c4f4-03ef281f04b3"
      },
      "source": [
        "df_test_copy['ProductWeight'].describe()"
      ],
      "execution_count": null,
      "outputs": [
        {
          "output_type": "execute_result",
          "data": {
            "text/plain": [
              "count    54156.000000\n",
              "mean      3765.868325\n",
              "std       7639.709880\n",
              "min         10.000000\n",
              "25%        786.000000\n",
              "50%       1654.000000\n",
              "75%       2725.000000\n",
              "max      43996.000000\n",
              "Name: ProductWeight, dtype: float64"
            ]
          },
          "metadata": {},
          "execution_count": 145
        }
      ]
    },
    {
      "cell_type": "code",
      "metadata": {
        "id": "2hhI3WjDNgp7"
      },
      "source": [
        "df_test_copy['ProductWeight'] = np.where(df_test_copy['ProductWeight'] > 4000, 4000, df_test_copy['ProductWeight'])"
      ],
      "execution_count": 48,
      "outputs": []
    },
    {
      "cell_type": "code",
      "metadata": {
        "colab": {
          "base_uri": "https://localhost:8080/"
        },
        "id": "fwHLJb-CNsjk",
        "outputId": "4d6747d1-0bc6-4792-c9d7-5003fef1e1c4"
      },
      "source": [
        "df_test_copy[df_test_copy['ProductWeight'] > 4000].shape[0]"
      ],
      "execution_count": 49,
      "outputs": [
        {
          "output_type": "execute_result",
          "data": {
            "text/plain": [
              "0"
            ]
          },
          "metadata": {},
          "execution_count": 49
        }
      ]
    },
    {
      "cell_type": "code",
      "metadata": {
        "id": "7k7RVpj0NwiP"
      },
      "source": [
        "#All the outliers have been now taken care of."
      ],
      "execution_count": null,
      "outputs": []
    },
    {
      "cell_type": "code",
      "metadata": {
        "colab": {
          "base_uri": "https://localhost:8080/"
        },
        "id": "wtzrTDIbLXe-",
        "outputId": "22b07f8d-d48c-42d1-b3fa-4351054de717"
      },
      "source": [
        "#Check distribution of our target variable\n",
        "df_train_copy['Delivery_Status'].value_counts()\n",
        "#0 : ontime\n",
        "#1 : delayed"
      ],
      "execution_count": 50,
      "outputs": [
        {
          "output_type": "execute_result",
          "data": {
            "text/plain": [
              "0    84912\n",
              "1    41451\n",
              "Name: Delivery_Status, dtype: int64"
            ]
          },
          "metadata": {},
          "execution_count": 50
        }
      ]
    },
    {
      "cell_type": "markdown",
      "metadata": {
        "id": "nsoH00XDOyxf"
      },
      "source": [
        "The ratio of target classes is approx 2:1. Seems that the target class is not well balanced"
      ]
    },
    {
      "cell_type": "code",
      "metadata": {
        "colab": {
          "base_uri": "https://localhost:8080/",
          "height": 279
        },
        "id": "sRR9zDj5PQ3J",
        "outputId": "6e45dd0e-b2e0-4456-d5a4-f7038bda7654"
      },
      "source": [
        "df_train_copy['Delivery_Status'].value_counts().plot(kind='bar')"
      ],
      "execution_count": null,
      "outputs": [
        {
          "output_type": "execute_result",
          "data": {
            "text/plain": [
              "<matplotlib.axes._subplots.AxesSubplot at 0x7f25886214d0>"
            ]
          },
          "metadata": {},
          "execution_count": 150
        },
        {
          "output_type": "display_data",
          "data": {
            "image/png": "[encoded data removed]",
            "text/plain": [
              "<Figure size 432x288 with 1 Axes>"
            ]
          },
          "metadata": {
            "needs_background": "light"
          }
        }
      ]
    },
    {
      "cell_type": "code",
      "metadata": {
        "colab": {
          "base_uri": "https://localhost:8080/"
        },
        "id": "6cVa2dVMPcqk",
        "outputId": "63853285-9218-480a-d596-48c94d7c9125"
      },
      "source": [
        "df_train_cat = df_train_copy.select_dtypes(include='object')\n",
        "df_train_cat.columns"
      ],
      "execution_count": null,
      "outputs": [
        {
          "output_type": "execute_result",
          "data": {
            "text/plain": [
              "Index(['Customer_Category', 'Cust_State', 'Order_zone', 'CategoryName',\n",
              "       'Transcation', 'Dept_Name', 'Product_type', 'Shipping_Class',\n",
              "       'Warehouse_Region'],\n",
              "      dtype='object')"
            ]
          },
          "metadata": {},
          "execution_count": 151
        }
      ]
    },
    {
      "cell_type": "code",
      "metadata": {
        "id": "HgjrZBLBLXiK"
      },
      "source": [
        "#use binary encoding on the categorical columns for feature engineering"
      ],
      "execution_count": null,
      "outputs": []
    },
    {
      "cell_type": "code",
      "metadata": {
        "id": "V5Q8pyRYYPhM"
      },
      "source": [
        "encoder = ce.BinaryEncoder(cols=['Customer_Category', 'Cust_State', 'Order_zone', 'CategoryName',\n",
        "       'Transcation', 'Dept_Name', 'Product_type', 'Shipping_Class',\n",
        "       'Warehouse_Region'])"
      ],
      "execution_count": 54,
      "outputs": []
    },
    {
      "cell_type": "code",
      "metadata": {
        "id": "52gBCKDMZc7d"
      },
      "source": [
        "df_train_encoded = encoder.fit_transform(df_train_copy)"
      ],
      "execution_count": 55,
      "outputs": []
    },
    {
      "cell_type": "code",
      "metadata": {
        "colab": {
          "base_uri": "https://localhost:8080/",
          "height": 224
        },
        "id": "qJECcGnPxcEI",
        "outputId": "d660e7f8-d519-4fd1-c570-622dab1775c8"
      },
      "source": [
        "df_train_encoded.head()"
      ],
      "execution_count": 56,
      "outputs": [
        {
          "output_type": "execute_result",
          "data": {
            "text/html": [
              "<div>\n",
              "<style scoped>\n",
              "    .dataframe tbody tr th:only-of-type {\n",
              "        vertical-align: middle;\n",
              "    }\n",
              "\n",
              "    .dataframe tbody tr th {\n",
              "        vertical-align: top;\n",
              "    }\n",
              "\n",
              "    .dataframe thead th {\n",
              "        text-align: right;\n",
              "    }\n",
              "</style>\n",
              "<table border=\"1\" class=\"dataframe\">\n",
              "  <thead>\n",
              "    <tr style=\"text-align: right;\">\n",
              "      <th></th>\n",
              "      <th>OrderId</th>\n",
              "      <th>Customer_Id</th>\n",
              "      <th>Customer_Category_0</th>\n",
              "      <th>Customer_Category_1</th>\n",
              "      <th>Cust_State_0</th>\n",
              "      <th>Cust_State_1</th>\n",
              "      <th>Cust_State_2</th>\n",
              "      <th>Cust_State_3</th>\n",
              "      <th>Cust_State_4</th>\n",
              "      <th>Zipcode</th>\n",
              "      <th>Sales</th>\n",
              "      <th>Order_zone_0</th>\n",
              "      <th>Order_zone_1</th>\n",
              "      <th>Order_zone_2</th>\n",
              "      <th>Price</th>\n",
              "      <th>CategoryName_0</th>\n",
              "      <th>CategoryName_1</th>\n",
              "      <th>CategoryName_2</th>\n",
              "      <th>CategoryName_3</th>\n",
              "      <th>CategoryName_4</th>\n",
              "      <th>CategoryName_5</th>\n",
              "      <th>Transcation_0</th>\n",
              "      <th>Transcation_1</th>\n",
              "      <th>Transcation_2</th>\n",
              "      <th>Dept_Id</th>\n",
              "      <th>Dept_Name_0</th>\n",
              "      <th>Dept_Name_1</th>\n",
              "      <th>Dept_Name_2</th>\n",
              "      <th>Dept_Name_3</th>\n",
              "      <th>Profit_Ratio</th>\n",
              "      <th>Discount</th>\n",
              "      <th>Quantity</th>\n",
              "      <th>Order_Profit</th>\n",
              "      <th>Product_type_0</th>\n",
              "      <th>Product_type_1</th>\n",
              "      <th>Prod_Category_Id</th>\n",
              "      <th>ProductLength</th>\n",
              "      <th>ProductWeight</th>\n",
              "      <th>Dispatched</th>\n",
              "      <th>Shipping_Class_0</th>\n",
              "      <th>Shipping_Class_1</th>\n",
              "      <th>Shipping_Class_2</th>\n",
              "      <th>Scheduled_Shipping</th>\n",
              "      <th>Warehouse_Region_0</th>\n",
              "      <th>Warehouse_Region_1</th>\n",
              "      <th>Warehouse_Region_2</th>\n",
              "      <th>Delivery_Review</th>\n",
              "      <th>Session_Ordered</th>\n",
              "      <th>WeekdayOrder</th>\n",
              "      <th>Delivery_Status</th>\n",
              "    </tr>\n",
              "  </thead>\n",
              "  <tbody>\n",
              "    <tr>\n",
              "      <th>0</th>\n",
              "      <td>2477882</td>\n",
              "      <td>12386</td>\n",
              "      <td>0</td>\n",
              "      <td>1</td>\n",
              "      <td>0</td>\n",
              "      <td>0</td>\n",
              "      <td>0</td>\n",
              "      <td>0</td>\n",
              "      <td>1</td>\n",
              "      <td>19120</td>\n",
              "      <td>150.0</td>\n",
              "      <td>0</td>\n",
              "      <td>0</td>\n",
              "      <td>1</td>\n",
              "      <td>4383.39</td>\n",
              "      <td>0</td>\n",
              "      <td>0</td>\n",
              "      <td>0</td>\n",
              "      <td>0</td>\n",
              "      <td>0</td>\n",
              "      <td>1</td>\n",
              "      <td>0</td>\n",
              "      <td>0</td>\n",
              "      <td>1</td>\n",
              "      <td>4</td>\n",
              "      <td>0</td>\n",
              "      <td>0</td>\n",
              "      <td>0</td>\n",
              "      <td>1</td>\n",
              "      <td>0.08</td>\n",
              "      <td>0.10</td>\n",
              "      <td>3</td>\n",
              "      <td>352.78</td>\n",
              "      <td>0</td>\n",
              "      <td>1</td>\n",
              "      <td>17</td>\n",
              "      <td>191.0</td>\n",
              "      <td>1592.0</td>\n",
              "      <td>0</td>\n",
              "      <td>0</td>\n",
              "      <td>0</td>\n",
              "      <td>1</td>\n",
              "      <td>4</td>\n",
              "      <td>0</td>\n",
              "      <td>0</td>\n",
              "      <td>1</td>\n",
              "      <td>5.0</td>\n",
              "      <td>2.0</td>\n",
              "      <td>0</td>\n",
              "      <td>0</td>\n",
              "    </tr>\n",
              "    <tr>\n",
              "      <th>1</th>\n",
              "      <td>2477895</td>\n",
              "      <td>2630</td>\n",
              "      <td>0</td>\n",
              "      <td>1</td>\n",
              "      <td>0</td>\n",
              "      <td>0</td>\n",
              "      <td>0</td>\n",
              "      <td>1</td>\n",
              "      <td>0</td>\n",
              "      <td>2907</td>\n",
              "      <td>165.0</td>\n",
              "      <td>0</td>\n",
              "      <td>1</td>\n",
              "      <td>0</td>\n",
              "      <td>4295.72</td>\n",
              "      <td>0</td>\n",
              "      <td>0</td>\n",
              "      <td>0</td>\n",
              "      <td>0</td>\n",
              "      <td>0</td>\n",
              "      <td>1</td>\n",
              "      <td>0</td>\n",
              "      <td>0</td>\n",
              "      <td>1</td>\n",
              "      <td>4</td>\n",
              "      <td>0</td>\n",
              "      <td>0</td>\n",
              "      <td>0</td>\n",
              "      <td>1</td>\n",
              "      <td>0.47</td>\n",
              "      <td>0.16</td>\n",
              "      <td>3</td>\n",
              "      <td>2018.10</td>\n",
              "      <td>0</td>\n",
              "      <td>1</td>\n",
              "      <td>17</td>\n",
              "      <td>79.0</td>\n",
              "      <td>1420.0</td>\n",
              "      <td>0</td>\n",
              "      <td>0</td>\n",
              "      <td>0</td>\n",
              "      <td>1</td>\n",
              "      <td>6</td>\n",
              "      <td>0</td>\n",
              "      <td>0</td>\n",
              "      <td>1</td>\n",
              "      <td>2.0</td>\n",
              "      <td>2.0</td>\n",
              "      <td>1</td>\n",
              "      <td>0</td>\n",
              "    </tr>\n",
              "    <tr>\n",
              "      <th>2</th>\n",
              "      <td>2473260</td>\n",
              "      <td>1752</td>\n",
              "      <td>1</td>\n",
              "      <td>0</td>\n",
              "      <td>0</td>\n",
              "      <td>0</td>\n",
              "      <td>0</td>\n",
              "      <td>1</td>\n",
              "      <td>1</td>\n",
              "      <td>90214</td>\n",
              "      <td>171.0</td>\n",
              "      <td>0</td>\n",
              "      <td>1</td>\n",
              "      <td>1</td>\n",
              "      <td>3616.65</td>\n",
              "      <td>0</td>\n",
              "      <td>0</td>\n",
              "      <td>0</td>\n",
              "      <td>0</td>\n",
              "      <td>1</td>\n",
              "      <td>0</td>\n",
              "      <td>0</td>\n",
              "      <td>1</td>\n",
              "      <td>0</td>\n",
              "      <td>7</td>\n",
              "      <td>0</td>\n",
              "      <td>0</td>\n",
              "      <td>1</td>\n",
              "      <td>0</td>\n",
              "      <td>0.26</td>\n",
              "      <td>0.07</td>\n",
              "      <td>4</td>\n",
              "      <td>939.63</td>\n",
              "      <td>1</td>\n",
              "      <td>0</td>\n",
              "      <td>46</td>\n",
              "      <td>67.0</td>\n",
              "      <td>1231.0</td>\n",
              "      <td>0</td>\n",
              "      <td>0</td>\n",
              "      <td>0</td>\n",
              "      <td>1</td>\n",
              "      <td>6</td>\n",
              "      <td>0</td>\n",
              "      <td>1</td>\n",
              "      <td>0</td>\n",
              "      <td>4.0</td>\n",
              "      <td>2.0</td>\n",
              "      <td>0</td>\n",
              "      <td>1</td>\n",
              "    </tr>\n",
              "    <tr>\n",
              "      <th>3</th>\n",
              "      <td>2466916</td>\n",
              "      <td>9268</td>\n",
              "      <td>0</td>\n",
              "      <td>1</td>\n",
              "      <td>0</td>\n",
              "      <td>0</td>\n",
              "      <td>1</td>\n",
              "      <td>0</td>\n",
              "      <td>0</td>\n",
              "      <td>745</td>\n",
              "      <td>132.0</td>\n",
              "      <td>0</td>\n",
              "      <td>1</td>\n",
              "      <td>0</td>\n",
              "      <td>9175.86</td>\n",
              "      <td>0</td>\n",
              "      <td>0</td>\n",
              "      <td>0</td>\n",
              "      <td>0</td>\n",
              "      <td>1</td>\n",
              "      <td>1</td>\n",
              "      <td>0</td>\n",
              "      <td>1</td>\n",
              "      <td>1</td>\n",
              "      <td>4</td>\n",
              "      <td>0</td>\n",
              "      <td>0</td>\n",
              "      <td>0</td>\n",
              "      <td>1</td>\n",
              "      <td>0.48</td>\n",
              "      <td>0.18</td>\n",
              "      <td>1</td>\n",
              "      <td>4401.74</td>\n",
              "      <td>1</td>\n",
              "      <td>0</td>\n",
              "      <td>18</td>\n",
              "      <td>45.0</td>\n",
              "      <td>1640.0</td>\n",
              "      <td>1</td>\n",
              "      <td>0</td>\n",
              "      <td>1</td>\n",
              "      <td>0</td>\n",
              "      <td>4</td>\n",
              "      <td>0</td>\n",
              "      <td>0</td>\n",
              "      <td>1</td>\n",
              "      <td>4.0</td>\n",
              "      <td>3.0</td>\n",
              "      <td>1</td>\n",
              "      <td>1</td>\n",
              "    </tr>\n",
              "    <tr>\n",
              "      <th>4</th>\n",
              "      <td>2351480</td>\n",
              "      <td>2888</td>\n",
              "      <td>1</td>\n",
              "      <td>0</td>\n",
              "      <td>0</td>\n",
              "      <td>0</td>\n",
              "      <td>1</td>\n",
              "      <td>0</td>\n",
              "      <td>0</td>\n",
              "      <td>92427</td>\n",
              "      <td>173.0</td>\n",
              "      <td>1</td>\n",
              "      <td>0</td>\n",
              "      <td>0</td>\n",
              "      <td>2779.29</td>\n",
              "      <td>0</td>\n",
              "      <td>0</td>\n",
              "      <td>0</td>\n",
              "      <td>1</td>\n",
              "      <td>0</td>\n",
              "      <td>0</td>\n",
              "      <td>0</td>\n",
              "      <td>0</td>\n",
              "      <td>1</td>\n",
              "      <td>5</td>\n",
              "      <td>0</td>\n",
              "      <td>0</td>\n",
              "      <td>1</td>\n",
              "      <td>1</td>\n",
              "      <td>0.13</td>\n",
              "      <td>0.16</td>\n",
              "      <td>4</td>\n",
              "      <td>361.70</td>\n",
              "      <td>1</td>\n",
              "      <td>0</td>\n",
              "      <td>29</td>\n",
              "      <td>43.0</td>\n",
              "      <td>1018.0</td>\n",
              "      <td>1</td>\n",
              "      <td>0</td>\n",
              "      <td>0</td>\n",
              "      <td>1</td>\n",
              "      <td>5</td>\n",
              "      <td>0</td>\n",
              "      <td>1</td>\n",
              "      <td>1</td>\n",
              "      <td>2.0</td>\n",
              "      <td>1.0</td>\n",
              "      <td>0</td>\n",
              "      <td>1</td>\n",
              "    </tr>\n",
              "  </tbody>\n",
              "</table>\n",
              "</div>"
            ],
            "text/plain": [
              "   OrderId  Customer_Id  ...  WeekdayOrder  Delivery_Status\n",
              "0  2477882        12386  ...             0                0\n",
              "1  2477895         2630  ...             1                0\n",
              "2  2473260         1752  ...             0                1\n",
              "3  2466916         9268  ...             1                1\n",
              "4  2351480         2888  ...             0                1\n",
              "\n",
              "[5 rows x 50 columns]"
            ]
          },
          "metadata": {},
          "execution_count": 56
        }
      ]
    },
    {
      "cell_type": "code",
      "metadata": {
        "id": "66oJMjAogKLz"
      },
      "source": [
        "#same on test data"
      ],
      "execution_count": null,
      "outputs": []
    },
    {
      "cell_type": "code",
      "metadata": {
        "colab": {
          "base_uri": "https://localhost:8080/"
        },
        "id": "GqPETED-dS0a",
        "outputId": "b7fa2bb0-6d83-442b-8f6a-274e6be771b0"
      },
      "source": [
        "df_test_copy.select_dtypes(include='object').columns\n"
      ],
      "execution_count": null,
      "outputs": [
        {
          "output_type": "execute_result",
          "data": {
            "text/plain": [
              "Index(['Customer_Category', 'Cust_State', 'Order_zone', 'CategoryName',\n",
              "       'Transcation', 'Dept_Name', 'Product_type', 'Shipping_Class',\n",
              "       'Warehouse_Region'],\n",
              "      dtype='object')"
            ]
          },
          "metadata": {},
          "execution_count": 157
        }
      ]
    },
    {
      "cell_type": "code",
      "metadata": {
        "id": "pdqgFOL-YPwe"
      },
      "source": [
        "test_encoder = ce.BinaryEncoder(cols=['Customer_Category', 'Cust_State', 'Order_zone', 'CategoryName',\n",
        "       'Transcation', 'Dept_Name', 'Product_type', 'Shipping_Class',\n",
        "       'Warehouse_Region'])"
      ],
      "execution_count": 57,
      "outputs": []
    },
    {
      "cell_type": "code",
      "metadata": {
        "id": "N_izfLA8gpfi"
      },
      "source": [
        "df_test_encoded = encoder.fit_transform(df_test_copy)"
      ],
      "execution_count": 58,
      "outputs": []
    },
    {
      "cell_type": "code",
      "metadata": {
        "colab": {
          "base_uri": "https://localhost:8080/",
          "height": 224
        },
        "id": "o4fWw5Hig0QZ",
        "outputId": "92a5880a-7d8a-49ac-880f-3a0ae121c6c9"
      },
      "source": [
        "df_test_encoded.head()"
      ],
      "execution_count": 59,
      "outputs": [
        {
          "output_type": "execute_result",
          "data": {
            "text/html": [
              "<div>\n",
              "<style scoped>\n",
              "    .dataframe tbody tr th:only-of-type {\n",
              "        vertical-align: middle;\n",
              "    }\n",
              "\n",
              "    .dataframe tbody tr th {\n",
              "        vertical-align: top;\n",
              "    }\n",
              "\n",
              "    .dataframe thead th {\n",
              "        text-align: right;\n",
              "    }\n",
              "</style>\n",
              "<table border=\"1\" class=\"dataframe\">\n",
              "  <thead>\n",
              "    <tr style=\"text-align: right;\">\n",
              "      <th></th>\n",
              "      <th>OrderId</th>\n",
              "      <th>Customer_Id</th>\n",
              "      <th>Customer_Category_0</th>\n",
              "      <th>Customer_Category_1</th>\n",
              "      <th>Cust_State_0</th>\n",
              "      <th>Cust_State_1</th>\n",
              "      <th>Cust_State_2</th>\n",
              "      <th>Cust_State_3</th>\n",
              "      <th>Cust_State_4</th>\n",
              "      <th>Zipcode</th>\n",
              "      <th>Sales</th>\n",
              "      <th>Order_zone_0</th>\n",
              "      <th>Order_zone_1</th>\n",
              "      <th>Order_zone_2</th>\n",
              "      <th>Price</th>\n",
              "      <th>CategoryName_0</th>\n",
              "      <th>CategoryName_1</th>\n",
              "      <th>CategoryName_2</th>\n",
              "      <th>CategoryName_3</th>\n",
              "      <th>CategoryName_4</th>\n",
              "      <th>CategoryName_5</th>\n",
              "      <th>Transcation_0</th>\n",
              "      <th>Transcation_1</th>\n",
              "      <th>Transcation_2</th>\n",
              "      <th>Dept_Id</th>\n",
              "      <th>Dept_Name_0</th>\n",
              "      <th>Dept_Name_1</th>\n",
              "      <th>Dept_Name_2</th>\n",
              "      <th>Dept_Name_3</th>\n",
              "      <th>Profit_Ratio</th>\n",
              "      <th>Discount</th>\n",
              "      <th>Quantity</th>\n",
              "      <th>Order_Profit</th>\n",
              "      <th>Product_type_0</th>\n",
              "      <th>Product_type_1</th>\n",
              "      <th>Prod_Category_Id</th>\n",
              "      <th>ProductLength</th>\n",
              "      <th>ProductWeight</th>\n",
              "      <th>Dispatched</th>\n",
              "      <th>Shipping_Class_0</th>\n",
              "      <th>Shipping_Class_1</th>\n",
              "      <th>Shipping_Class_2</th>\n",
              "      <th>Scheduled_Shipping</th>\n",
              "      <th>Warehouse_Region_0</th>\n",
              "      <th>Warehouse_Region_1</th>\n",
              "      <th>Warehouse_Region_2</th>\n",
              "      <th>Delivery_Review</th>\n",
              "      <th>Session_Ordered</th>\n",
              "      <th>WeekdayOrder</th>\n",
              "    </tr>\n",
              "  </thead>\n",
              "  <tbody>\n",
              "    <tr>\n",
              "      <th>0</th>\n",
              "      <td>2372881</td>\n",
              "      <td>2989</td>\n",
              "      <td>0</td>\n",
              "      <td>1</td>\n",
              "      <td>0</td>\n",
              "      <td>0</td>\n",
              "      <td>0</td>\n",
              "      <td>0</td>\n",
              "      <td>1</td>\n",
              "      <td>735</td>\n",
              "      <td>173.0</td>\n",
              "      <td>0</td>\n",
              "      <td>0</td>\n",
              "      <td>1</td>\n",
              "      <td>2833.08</td>\n",
              "      <td>0</td>\n",
              "      <td>0</td>\n",
              "      <td>0</td>\n",
              "      <td>0</td>\n",
              "      <td>0</td>\n",
              "      <td>1</td>\n",
              "      <td>0</td>\n",
              "      <td>0</td>\n",
              "      <td>1</td>\n",
              "      <td>5</td>\n",
              "      <td>0</td>\n",
              "      <td>0</td>\n",
              "      <td>0</td>\n",
              "      <td>1</td>\n",
              "      <td>-0.50</td>\n",
              "      <td>0.07</td>\n",
              "      <td>5</td>\n",
              "      <td>-1920.91</td>\n",
              "      <td>0</td>\n",
              "      <td>1</td>\n",
              "      <td>29</td>\n",
              "      <td>25.0</td>\n",
              "      <td>1720.0</td>\n",
              "      <td>0</td>\n",
              "      <td>0</td>\n",
              "      <td>0</td>\n",
              "      <td>1</td>\n",
              "      <td>6</td>\n",
              "      <td>0</td>\n",
              "      <td>0</td>\n",
              "      <td>1</td>\n",
              "      <td>5.0</td>\n",
              "      <td>2.0</td>\n",
              "      <td>1</td>\n",
              "    </tr>\n",
              "    <tr>\n",
              "      <th>1</th>\n",
              "      <td>2445349</td>\n",
              "      <td>5359</td>\n",
              "      <td>1</td>\n",
              "      <td>0</td>\n",
              "      <td>0</td>\n",
              "      <td>0</td>\n",
              "      <td>0</td>\n",
              "      <td>1</td>\n",
              "      <td>0</td>\n",
              "      <td>737</td>\n",
              "      <td>222.0</td>\n",
              "      <td>0</td>\n",
              "      <td>1</td>\n",
              "      <td>0</td>\n",
              "      <td>14133.42</td>\n",
              "      <td>0</td>\n",
              "      <td>0</td>\n",
              "      <td>0</td>\n",
              "      <td>0</td>\n",
              "      <td>1</td>\n",
              "      <td>0</td>\n",
              "      <td>0</td>\n",
              "      <td>1</td>\n",
              "      <td>0</td>\n",
              "      <td>7</td>\n",
              "      <td>0</td>\n",
              "      <td>0</td>\n",
              "      <td>1</td>\n",
              "      <td>0</td>\n",
              "      <td>0.08</td>\n",
              "      <td>0.06</td>\n",
              "      <td>1</td>\n",
              "      <td>1132.14</td>\n",
              "      <td>0</td>\n",
              "      <td>1</td>\n",
              "      <td>48</td>\n",
              "      <td>29.0</td>\n",
              "      <td>964.0</td>\n",
              "      <td>1</td>\n",
              "      <td>0</td>\n",
              "      <td>0</td>\n",
              "      <td>1</td>\n",
              "      <td>4</td>\n",
              "      <td>0</td>\n",
              "      <td>1</td>\n",
              "      <td>0</td>\n",
              "      <td>3.0</td>\n",
              "      <td>3.0</td>\n",
              "      <td>0</td>\n",
              "    </tr>\n",
              "    <tr>\n",
              "      <th>2</th>\n",
              "      <td>2441537</td>\n",
              "      <td>4111</td>\n",
              "      <td>1</td>\n",
              "      <td>1</td>\n",
              "      <td>0</td>\n",
              "      <td>0</td>\n",
              "      <td>0</td>\n",
              "      <td>1</td>\n",
              "      <td>1</td>\n",
              "      <td>91350</td>\n",
              "      <td>149.0</td>\n",
              "      <td>0</td>\n",
              "      <td>1</td>\n",
              "      <td>1</td>\n",
              "      <td>3545.31</td>\n",
              "      <td>0</td>\n",
              "      <td>0</td>\n",
              "      <td>0</td>\n",
              "      <td>0</td>\n",
              "      <td>1</td>\n",
              "      <td>1</td>\n",
              "      <td>0</td>\n",
              "      <td>1</td>\n",
              "      <td>1</td>\n",
              "      <td>7</td>\n",
              "      <td>0</td>\n",
              "      <td>0</td>\n",
              "      <td>1</td>\n",
              "      <td>0</td>\n",
              "      <td>0.34</td>\n",
              "      <td>0.06</td>\n",
              "      <td>3</td>\n",
              "      <td>1204.39</td>\n",
              "      <td>0</td>\n",
              "      <td>1</td>\n",
              "      <td>46</td>\n",
              "      <td>121.0</td>\n",
              "      <td>2994.0</td>\n",
              "      <td>0</td>\n",
              "      <td>0</td>\n",
              "      <td>0</td>\n",
              "      <td>1</td>\n",
              "      <td>6</td>\n",
              "      <td>0</td>\n",
              "      <td>1</td>\n",
              "      <td>1</td>\n",
              "      <td>3.0</td>\n",
              "      <td>1.0</td>\n",
              "      <td>1</td>\n",
              "    </tr>\n",
              "    <tr>\n",
              "      <th>3</th>\n",
              "      <td>2461867</td>\n",
              "      <td>5377</td>\n",
              "      <td>1</td>\n",
              "      <td>0</td>\n",
              "      <td>0</td>\n",
              "      <td>0</td>\n",
              "      <td>1</td>\n",
              "      <td>0</td>\n",
              "      <td>0</td>\n",
              "      <td>77860</td>\n",
              "      <td>162.0</td>\n",
              "      <td>1</td>\n",
              "      <td>0</td>\n",
              "      <td>0</td>\n",
              "      <td>9234.05</td>\n",
              "      <td>0</td>\n",
              "      <td>0</td>\n",
              "      <td>0</td>\n",
              "      <td>1</td>\n",
              "      <td>0</td>\n",
              "      <td>0</td>\n",
              "      <td>0</td>\n",
              "      <td>0</td>\n",
              "      <td>1</td>\n",
              "      <td>4</td>\n",
              "      <td>0</td>\n",
              "      <td>0</td>\n",
              "      <td>1</td>\n",
              "      <td>1</td>\n",
              "      <td>0.39</td>\n",
              "      <td>0.03</td>\n",
              "      <td>1</td>\n",
              "      <td>3600.48</td>\n",
              "      <td>1</td>\n",
              "      <td>0</td>\n",
              "      <td>18</td>\n",
              "      <td>156.0</td>\n",
              "      <td>1008.0</td>\n",
              "      <td>0</td>\n",
              "      <td>0</td>\n",
              "      <td>0</td>\n",
              "      <td>1</td>\n",
              "      <td>5</td>\n",
              "      <td>0</td>\n",
              "      <td>1</td>\n",
              "      <td>0</td>\n",
              "      <td>3.0</td>\n",
              "      <td>3.0</td>\n",
              "      <td>1</td>\n",
              "    </tr>\n",
              "    <tr>\n",
              "      <th>4</th>\n",
              "      <td>2461659</td>\n",
              "      <td>10563</td>\n",
              "      <td>1</td>\n",
              "      <td>0</td>\n",
              "      <td>0</td>\n",
              "      <td>0</td>\n",
              "      <td>1</td>\n",
              "      <td>0</td>\n",
              "      <td>1</td>\n",
              "      <td>47922</td>\n",
              "      <td>115.0</td>\n",
              "      <td>1</td>\n",
              "      <td>0</td>\n",
              "      <td>0</td>\n",
              "      <td>9174.76</td>\n",
              "      <td>0</td>\n",
              "      <td>0</td>\n",
              "      <td>0</td>\n",
              "      <td>1</td>\n",
              "      <td>0</td>\n",
              "      <td>0</td>\n",
              "      <td>0</td>\n",
              "      <td>0</td>\n",
              "      <td>1</td>\n",
              "      <td>4</td>\n",
              "      <td>0</td>\n",
              "      <td>0</td>\n",
              "      <td>1</td>\n",
              "      <td>1</td>\n",
              "      <td>0.50</td>\n",
              "      <td>0.06</td>\n",
              "      <td>1</td>\n",
              "      <td>4586.33</td>\n",
              "      <td>0</td>\n",
              "      <td>1</td>\n",
              "      <td>18</td>\n",
              "      <td>114.0</td>\n",
              "      <td>1354.0</td>\n",
              "      <td>0</td>\n",
              "      <td>0</td>\n",
              "      <td>0</td>\n",
              "      <td>1</td>\n",
              "      <td>2</td>\n",
              "      <td>1</td>\n",
              "      <td>0</td>\n",
              "      <td>0</td>\n",
              "      <td>3.0</td>\n",
              "      <td>2.0</td>\n",
              "      <td>1</td>\n",
              "    </tr>\n",
              "  </tbody>\n",
              "</table>\n",
              "</div>"
            ],
            "text/plain": [
              "   OrderId  Customer_Id  ...  Session_Ordered  WeekdayOrder\n",
              "0  2372881         2989  ...              2.0             1\n",
              "1  2445349         5359  ...              3.0             0\n",
              "2  2441537         4111  ...              1.0             1\n",
              "3  2461867         5377  ...              3.0             1\n",
              "4  2461659        10563  ...              2.0             1\n",
              "\n",
              "[5 rows x 49 columns]"
            ]
          },
          "metadata": {},
          "execution_count": 59
        }
      ]
    },
    {
      "cell_type": "code",
      "metadata": {
        "colab": {
          "base_uri": "https://localhost:8080/",
          "height": 224
        },
        "id": "W2fq_HVpg3cg",
        "outputId": "53ab31db-41be-41b4-f97e-5866d7c4a822"
      },
      "source": [
        "df_test_copy.head()"
      ],
      "execution_count": null,
      "outputs": [
        {
          "output_type": "execute_result",
          "data": {
            "text/html": [
              "<div>\n",
              "<style scoped>\n",
              "    .dataframe tbody tr th:only-of-type {\n",
              "        vertical-align: middle;\n",
              "    }\n",
              "\n",
              "    .dataframe tbody tr th {\n",
              "        vertical-align: top;\n",
              "    }\n",
              "\n",
              "    .dataframe thead th {\n",
              "        text-align: right;\n",
              "    }\n",
              "</style>\n",
              "<table border=\"1\" class=\"dataframe\">\n",
              "  <thead>\n",
              "    <tr style=\"text-align: right;\">\n",
              "      <th></th>\n",
              "      <th>OrderId</th>\n",
              "      <th>Customer_Id</th>\n",
              "      <th>Customer_Category</th>\n",
              "      <th>Cust_State</th>\n",
              "      <th>Zipcode</th>\n",
              "      <th>Sales</th>\n",
              "      <th>Order_zone</th>\n",
              "      <th>Price</th>\n",
              "      <th>CategoryName</th>\n",
              "      <th>Transcation</th>\n",
              "      <th>Dept_Id</th>\n",
              "      <th>Dept_Name</th>\n",
              "      <th>Profit_Ratio</th>\n",
              "      <th>Discount</th>\n",
              "      <th>Quantity</th>\n",
              "      <th>Order_Profit</th>\n",
              "      <th>Product_type</th>\n",
              "      <th>Prod_Category_Id</th>\n",
              "      <th>ProductLength</th>\n",
              "      <th>ProductWeight</th>\n",
              "      <th>Dispatched</th>\n",
              "      <th>Shipping_Class</th>\n",
              "      <th>Scheduled_Shipping</th>\n",
              "      <th>Warehouse_Region</th>\n",
              "      <th>Delivery_Review</th>\n",
              "      <th>Session_Ordered</th>\n",
              "      <th>WeekdayOrder</th>\n",
              "    </tr>\n",
              "  </thead>\n",
              "  <tbody>\n",
              "    <tr>\n",
              "      <th>0</th>\n",
              "      <td>2372881</td>\n",
              "      <td>2989</td>\n",
              "      <td>others</td>\n",
              "      <td>HR</td>\n",
              "      <td>735</td>\n",
              "      <td>173.0</td>\n",
              "      <td>West</td>\n",
              "      <td>2833.08</td>\n",
              "      <td>Cat-3</td>\n",
              "      <td>UPI</td>\n",
              "      <td>5</td>\n",
              "      <td>Golf</td>\n",
              "      <td>-0.50</td>\n",
              "      <td>0.07</td>\n",
              "      <td>5</td>\n",
              "      <td>-1920.91</td>\n",
              "      <td>Fragile</td>\n",
              "      <td>29</td>\n",
              "      <td>25.0</td>\n",
              "      <td>1720.0</td>\n",
              "      <td>0</td>\n",
              "      <td>Standard</td>\n",
              "      <td>6</td>\n",
              "      <td>NORTH</td>\n",
              "      <td>5.0</td>\n",
              "      <td>2.0</td>\n",
              "      <td>1</td>\n",
              "    </tr>\n",
              "    <tr>\n",
              "      <th>1</th>\n",
              "      <td>2445349</td>\n",
              "      <td>5359</td>\n",
              "      <td>Consumer</td>\n",
              "      <td>MA</td>\n",
              "      <td>737</td>\n",
              "      <td>222.0</td>\n",
              "      <td>Central</td>\n",
              "      <td>14133.42</td>\n",
              "      <td>Cat-49</td>\n",
              "      <td>Debit</td>\n",
              "      <td>7</td>\n",
              "      <td>Fan Shop</td>\n",
              "      <td>0.08</td>\n",
              "      <td>0.06</td>\n",
              "      <td>1</td>\n",
              "      <td>1132.14</td>\n",
              "      <td>Fragile</td>\n",
              "      <td>48</td>\n",
              "      <td>29.0</td>\n",
              "      <td>964.0</td>\n",
              "      <td>1</td>\n",
              "      <td>Standard</td>\n",
              "      <td>4</td>\n",
              "      <td>CENTRAL</td>\n",
              "      <td>3.0</td>\n",
              "      <td>3.0</td>\n",
              "      <td>0</td>\n",
              "    </tr>\n",
              "    <tr>\n",
              "      <th>2</th>\n",
              "      <td>2441537</td>\n",
              "      <td>4111</td>\n",
              "      <td>Corporate</td>\n",
              "      <td>GJ</td>\n",
              "      <td>91350</td>\n",
              "      <td>149.0</td>\n",
              "      <td>East</td>\n",
              "      <td>3545.31</td>\n",
              "      <td>Cat-50</td>\n",
              "      <td>Credit</td>\n",
              "      <td>7</td>\n",
              "      <td>Fan Shop</td>\n",
              "      <td>0.34</td>\n",
              "      <td>0.06</td>\n",
              "      <td>3</td>\n",
              "      <td>1204.39</td>\n",
              "      <td>Fragile</td>\n",
              "      <td>46</td>\n",
              "      <td>121.0</td>\n",
              "      <td>2994.0</td>\n",
              "      <td>0</td>\n",
              "      <td>Standard</td>\n",
              "      <td>6</td>\n",
              "      <td>WEST</td>\n",
              "      <td>3.0</td>\n",
              "      <td>1.0</td>\n",
              "      <td>1</td>\n",
              "    </tr>\n",
              "    <tr>\n",
              "      <th>3</th>\n",
              "      <td>2461867</td>\n",
              "      <td>5377</td>\n",
              "      <td>Consumer</td>\n",
              "      <td>RJ</td>\n",
              "      <td>77860</td>\n",
              "      <td>162.0</td>\n",
              "      <td>North</td>\n",
              "      <td>9234.05</td>\n",
              "      <td>Cat-12</td>\n",
              "      <td>UPI</td>\n",
              "      <td>4</td>\n",
              "      <td>Apparel</td>\n",
              "      <td>0.39</td>\n",
              "      <td>0.03</td>\n",
              "      <td>1</td>\n",
              "      <td>3600.48</td>\n",
              "      <td>Not Fragile</td>\n",
              "      <td>18</td>\n",
              "      <td>156.0</td>\n",
              "      <td>1008.0</td>\n",
              "      <td>0</td>\n",
              "      <td>Standard</td>\n",
              "      <td>5</td>\n",
              "      <td>CENTRAL</td>\n",
              "      <td>3.0</td>\n",
              "      <td>3.0</td>\n",
              "      <td>1</td>\n",
              "    </tr>\n",
              "    <tr>\n",
              "      <th>4</th>\n",
              "      <td>2461659</td>\n",
              "      <td>10563</td>\n",
              "      <td>Consumer</td>\n",
              "      <td>WB</td>\n",
              "      <td>47922</td>\n",
              "      <td>115.0</td>\n",
              "      <td>North</td>\n",
              "      <td>9174.76</td>\n",
              "      <td>Cat-12</td>\n",
              "      <td>UPI</td>\n",
              "      <td>4</td>\n",
              "      <td>Apparel</td>\n",
              "      <td>0.50</td>\n",
              "      <td>0.06</td>\n",
              "      <td>1</td>\n",
              "      <td>4586.33</td>\n",
              "      <td>Fragile</td>\n",
              "      <td>18</td>\n",
              "      <td>114.0</td>\n",
              "      <td>1354.0</td>\n",
              "      <td>0</td>\n",
              "      <td>Standard</td>\n",
              "      <td>2</td>\n",
              "      <td>NE</td>\n",
              "      <td>3.0</td>\n",
              "      <td>2.0</td>\n",
              "      <td>1</td>\n",
              "    </tr>\n",
              "  </tbody>\n",
              "</table>\n",
              "</div>"
            ],
            "text/plain": [
              "   OrderId  Customer_Id  ... Session_Ordered WeekdayOrder\n",
              "0  2372881         2989  ...             2.0            1\n",
              "1  2445349         5359  ...             3.0            0\n",
              "2  2441537         4111  ...             1.0            1\n",
              "3  2461867         5377  ...             3.0            1\n",
              "4  2461659        10563  ...             2.0            1\n",
              "\n",
              "[5 rows x 27 columns]"
            ]
          },
          "metadata": {},
          "execution_count": 161
        }
      ]
    },
    {
      "cell_type": "code",
      "metadata": {
        "id": "cg5evkWAg8GQ"
      },
      "source": [
        "#We have done the encoding using binary encoding technique on both the train and test data"
      ],
      "execution_count": null,
      "outputs": []
    },
    {
      "cell_type": "markdown",
      "metadata": {
        "id": "lLnXmco0hGhF"
      },
      "source": [
        "We would use the df_train_encoded and df_test_encoded for further use"
      ]
    },
    {
      "cell_type": "markdown",
      "metadata": {
        "id": "8Eegt_ubh3OR"
      },
      "source": [
        "Model building"
      ]
    },
    {
      "cell_type": "code",
      "metadata": {
        "colab": {
          "base_uri": "https://localhost:8080/"
        },
        "id": "YCZYZCN5i26q",
        "outputId": "7e068a8a-93eb-4949-c7de-129150412a06"
      },
      "source": [
        "df_train_encoded.columns"
      ],
      "execution_count": null,
      "outputs": [
        {
          "output_type": "execute_result",
          "data": {
            "text/plain": [
              "Index(['OrderId', 'Customer_Id', 'Customer_Category_0', 'Customer_Category_1',\n",
              "       'Customer_Category_2', 'Cust_State_0', 'Cust_State_1', 'Cust_State_2',\n",
              "       'Cust_State_3', 'Cust_State_4', 'Cust_State_5', 'Zipcode', 'Sales',\n",
              "       'Order_zone_0', 'Order_zone_1', 'Order_zone_2', 'Order_zone_3', 'Price',\n",
              "       'CategoryName_0', 'CategoryName_1', 'CategoryName_2', 'CategoryName_3',\n",
              "       'CategoryName_4', 'CategoryName_5', 'CategoryName_6', 'Transcation_0',\n",
              "       'Transcation_1', 'Transcation_2', 'Dept_Id', 'Dept_Name_0',\n",
              "       'Dept_Name_1', 'Dept_Name_2', 'Dept_Name_3', 'Dept_Name_4',\n",
              "       'Profit_Ratio', 'Discount', 'Quantity', 'Order_Profit ',\n",
              "       'Product_type_0', 'Product_type_1', 'Prod_Category_Id', 'ProductLength',\n",
              "       'ProductWeight', 'Dispatched', 'Shipping_Class_0', 'Shipping_Class_1',\n",
              "       'Shipping_Class_2', 'Scheduled_Shipping', 'Warehouse_Region_0',\n",
              "       'Warehouse_Region_1', 'Warehouse_Region_2', 'Warehouse_Region_3',\n",
              "       'Delivery_Review', 'Session_Ordered', 'WeekdayOrder',\n",
              "       'Delivery_Status'],\n",
              "      dtype='object')"
            ]
          },
          "metadata": {},
          "execution_count": 163
        }
      ]
    },
    {
      "cell_type": "code",
      "metadata": {
        "colab": {
          "base_uri": "https://localhost:8080/"
        },
        "id": "8tigtCSCh8tp",
        "outputId": "7eb1fcab-dc4a-4b7c-86ee-586febd42b6b"
      },
      "source": [
        "X = df_train_encoded.drop('Delivery_Status', axis=1)\n",
        "X.columns"
      ],
      "execution_count": 60,
      "outputs": [
        {
          "output_type": "execute_result",
          "data": {
            "text/plain": [
              "Index(['OrderId', 'Customer_Id', 'Customer_Category_0', 'Customer_Category_1',\n",
              "       'Cust_State_0', 'Cust_State_1', 'Cust_State_2', 'Cust_State_3',\n",
              "       'Cust_State_4', 'Zipcode', 'Sales', 'Order_zone_0', 'Order_zone_1',\n",
              "       'Order_zone_2', 'Price', 'CategoryName_0', 'CategoryName_1',\n",
              "       'CategoryName_2', 'CategoryName_3', 'CategoryName_4', 'CategoryName_5',\n",
              "       'Transcation_0', 'Transcation_1', 'Transcation_2', 'Dept_Id',\n",
              "       'Dept_Name_0', 'Dept_Name_1', 'Dept_Name_2', 'Dept_Name_3',\n",
              "       'Profit_Ratio', 'Discount', 'Quantity', 'Order_Profit ',\n",
              "       'Product_type_0', 'Product_type_1', 'Prod_Category_Id', 'ProductLength',\n",
              "       'ProductWeight', 'Dispatched', 'Shipping_Class_0', 'Shipping_Class_1',\n",
              "       'Shipping_Class_2', 'Scheduled_Shipping', 'Warehouse_Region_0',\n",
              "       'Warehouse_Region_1', 'Warehouse_Region_2', 'Delivery_Review',\n",
              "       'Session_Ordered', 'WeekdayOrder'],\n",
              "      dtype='object')"
            ]
          },
          "metadata": {},
          "execution_count": 60
        }
      ]
    },
    {
      "cell_type": "code",
      "metadata": {
        "colab": {
          "base_uri": "https://localhost:8080/"
        },
        "id": "VCsWYaGvjDNk",
        "outputId": "75bc5e77-9fec-40c8-f0a4-b892e2877cb3"
      },
      "source": [
        "y = df_train_encoded['Delivery_Status']\n",
        "y"
      ],
      "execution_count": 61,
      "outputs": [
        {
          "output_type": "execute_result",
          "data": {
            "text/plain": [
              "0         0\n",
              "1         0\n",
              "2         1\n",
              "3         1\n",
              "4         1\n",
              "         ..\n",
              "126358    0\n",
              "126359    0\n",
              "126360    0\n",
              "126361    1\n",
              "126362    0\n",
              "Name: Delivery_Status, Length: 126363, dtype: int64"
            ]
          },
          "metadata": {},
          "execution_count": 61
        }
      ]
    },
    {
      "cell_type": "code",
      "metadata": {
        "id": "BjtZQW0AjKLE"
      },
      "source": [
        "#train test split on train data\n",
        "X_train, X_val, y_train, y_val = train_test_split(X, y, test_size=0.2, random_state=42)"
      ],
      "execution_count": 62,
      "outputs": []
    },
    {
      "cell_type": "code",
      "metadata": {
        "colab": {
          "base_uri": "https://localhost:8080/"
        },
        "id": "u4EnmoJ-j1n4",
        "outputId": "fad83daa-80b7-4b1d-fa92-a719dbe43254"
      },
      "source": [
        "print(X_train.shape)\n",
        "print(X_val.shape)\n",
        "print(y_train.shape)\n",
        "print(y_val.shape)"
      ],
      "execution_count": 63,
      "outputs": [
        {
          "output_type": "stream",
          "name": "stdout",
          "text": [
            "(101090, 49)\n",
            "(25273, 49)\n",
            "(101090,)\n",
            "(25273,)\n"
          ]
        }
      ]
    },
    {
      "cell_type": "code",
      "metadata": {
        "colab": {
          "base_uri": "https://localhost:8080/"
        },
        "id": "i1QM2J1PhN-z",
        "outputId": "7911827b-37c1-4971-e75f-02ac2a1c5ac8"
      },
      "source": [
        "sel = SelectFromModel(RandomForestClassifier(n_estimators = 50))\n",
        "sel.fit(X_train, y_train)"
      ],
      "execution_count": 65,
      "outputs": [
        {
          "output_type": "execute_result",
          "data": {
            "text/plain": [
              "SelectFromModel(estimator=RandomForestClassifier(bootstrap=True, ccp_alpha=0.0,\n",
              "                                                 class_weight=None,\n",
              "                                                 criterion='gini',\n",
              "                                                 max_depth=None,\n",
              "                                                 max_features='auto',\n",
              "                                                 max_leaf_nodes=None,\n",
              "                                                 max_samples=None,\n",
              "                                                 min_impurity_decrease=0.0,\n",
              "                                                 min_impurity_split=None,\n",
              "                                                 min_samples_leaf=1,\n",
              "                                                 min_samples_split=2,\n",
              "                                                 min_weight_fraction_leaf=0.0,\n",
              "                                                 n_estimators=50, n_jobs=None,\n",
              "                                                 oob_score=False,\n",
              "                                                 random_state=None, verbose=0,\n",
              "                                                 warm_start=False),\n",
              "                max_features=None, norm_order=1, prefit=False, threshold=None)"
            ]
          },
          "metadata": {},
          "execution_count": 65
        }
      ]
    },
    {
      "cell_type": "code",
      "metadata": {
        "colab": {
          "base_uri": "https://localhost:8080/"
        },
        "id": "lYQXttz1kgvm",
        "outputId": "9504c825-76c4-4cea-8ee7-a98ffa1b59f5"
      },
      "source": [
        "selected_feat= X_train.columns[(sel.get_support())]\n",
        "print(selected_feat)"
      ],
      "execution_count": 66,
      "outputs": [
        {
          "output_type": "stream",
          "name": "stdout",
          "text": [
            "Index(['OrderId', 'Customer_Id', 'Zipcode', 'Sales', 'Price', 'Profit_Ratio',\n",
            "       'Discount', 'Order_Profit ', 'ProductLength', 'ProductWeight',\n",
            "       'Shipping_Class_0', 'Shipping_Class_1', 'Shipping_Class_2',\n",
            "       'Scheduled_Shipping'],\n",
            "      dtype='object')\n"
          ]
        }
      ]
    },
    {
      "cell_type": "code",
      "metadata": {
        "colab": {
          "base_uri": "https://localhost:8080/"
        },
        "id": "XWRcHH8pZXpT",
        "outputId": "0170b9ed-a618-4d80-c61a-df5159107e4d"
      },
      "source": [
        "rfc = RandomForestClassifier(class_weight='balanced')\n",
        "rfc.fit(X_train, y_train)"
      ],
      "execution_count": 69,
      "outputs": [
        {
          "output_type": "execute_result",
          "data": {
            "text/plain": [
              "RandomForestClassifier(bootstrap=True, ccp_alpha=0.0, class_weight='balanced',\n",
              "                       criterion='gini', max_depth=None, max_features='auto',\n",
              "                       max_leaf_nodes=None, max_samples=None,\n",
              "                       min_impurity_decrease=0.0, min_impurity_split=None,\n",
              "                       min_samples_leaf=1, min_samples_split=2,\n",
              "                       min_weight_fraction_leaf=0.0, n_estimators=100,\n",
              "                       n_jobs=None, oob_score=False, random_state=None,\n",
              "                       verbose=0, warm_start=False)"
            ]
          },
          "metadata": {},
          "execution_count": 69
        }
      ]
    },
    {
      "cell_type": "code",
      "metadata": {
        "colab": {
          "base_uri": "https://localhost:8080/",
          "height": 585
        },
        "id": "OgkTun4EnppH",
        "outputId": "af1179a6-99ae-41f2-d325-b1a85458a783"
      },
      "source": [
        "plt.figure(figsize=(15,8))\n",
        "plt.barh(X_train.columns, rfc.feature_importances_)\n",
        "plt.tight_layout()\n",
        "plt.show()"
      ],
      "execution_count": 70,
      "outputs": [
        {
          "output_type": "display_data",
          "data": {
            "image/png": "[encoded data removed]",
            "text/plain": [
              "<Figure size 1080x576 with 1 Axes>"
            ]
          },
          "metadata": {
            "needs_background": "light"
          }
        }
      ]
    },
    {
      "cell_type": "code",
      "metadata": {
        "id": "EnAcina-oL4a"
      },
      "source": [
        "#selecting the best features as per rfc feat importances\n",
        "new_X = df_train_encoded[['Sales', 'Price', 'Shipping_Class_0', 'Zipcode','Order_Profit ', 'ProductLength', 'ProductWeight','Shipping_Class_2',\n",
        "                          'Scheduled_Shipping']]"
      ],
      "execution_count": 73,
      "outputs": []
    },
    {
      "cell_type": "code",
      "metadata": {
        "colab": {
          "base_uri": "https://localhost:8080/",
          "height": 204
        },
        "id": "XRuCXvkPoqM0",
        "outputId": "47dc27b4-f2de-47b3-a9f8-3d7a8e4d2587"
      },
      "source": [
        "new_X.head()"
      ],
      "execution_count": 74,
      "outputs": [
        {
          "output_type": "execute_result",
          "data": {
            "text/html": [
              "<div>\n",
              "<style scoped>\n",
              "    .dataframe tbody tr th:only-of-type {\n",
              "        vertical-align: middle;\n",
              "    }\n",
              "\n",
              "    .dataframe tbody tr th {\n",
              "        vertical-align: top;\n",
              "    }\n",
              "\n",
              "    .dataframe thead th {\n",
              "        text-align: right;\n",
              "    }\n",
              "</style>\n",
              "<table border=\"1\" class=\"dataframe\">\n",
              "  <thead>\n",
              "    <tr style=\"text-align: right;\">\n",
              "      <th></th>\n",
              "      <th>Sales</th>\n",
              "      <th>Price</th>\n",
              "      <th>Shipping_Class_0</th>\n",
              "      <th>Zipcode</th>\n",
              "      <th>Order_Profit</th>\n",
              "      <th>ProductLength</th>\n",
              "      <th>ProductWeight</th>\n",
              "      <th>Shipping_Class_2</th>\n",
              "      <th>Scheduled_Shipping</th>\n",
              "    </tr>\n",
              "  </thead>\n",
              "  <tbody>\n",
              "    <tr>\n",
              "      <th>0</th>\n",
              "      <td>150.0</td>\n",
              "      <td>4383.39</td>\n",
              "      <td>0</td>\n",
              "      <td>19120</td>\n",
              "      <td>352.78</td>\n",
              "      <td>191.0</td>\n",
              "      <td>1592.0</td>\n",
              "      <td>1</td>\n",
              "      <td>4</td>\n",
              "    </tr>\n",
              "    <tr>\n",
              "      <th>1</th>\n",
              "      <td>165.0</td>\n",
              "      <td>4295.72</td>\n",
              "      <td>0</td>\n",
              "      <td>2907</td>\n",
              "      <td>2018.10</td>\n",
              "      <td>79.0</td>\n",
              "      <td>1420.0</td>\n",
              "      <td>1</td>\n",
              "      <td>6</td>\n",
              "    </tr>\n",
              "    <tr>\n",
              "      <th>2</th>\n",
              "      <td>171.0</td>\n",
              "      <td>3616.65</td>\n",
              "      <td>0</td>\n",
              "      <td>90214</td>\n",
              "      <td>939.63</td>\n",
              "      <td>67.0</td>\n",
              "      <td>1231.0</td>\n",
              "      <td>1</td>\n",
              "      <td>6</td>\n",
              "    </tr>\n",
              "    <tr>\n",
              "      <th>3</th>\n",
              "      <td>132.0</td>\n",
              "      <td>9175.86</td>\n",
              "      <td>0</td>\n",
              "      <td>745</td>\n",
              "      <td>4401.74</td>\n",
              "      <td>45.0</td>\n",
              "      <td>1640.0</td>\n",
              "      <td>0</td>\n",
              "      <td>4</td>\n",
              "    </tr>\n",
              "    <tr>\n",
              "      <th>4</th>\n",
              "      <td>173.0</td>\n",
              "      <td>2779.29</td>\n",
              "      <td>0</td>\n",
              "      <td>92427</td>\n",
              "      <td>361.70</td>\n",
              "      <td>43.0</td>\n",
              "      <td>1018.0</td>\n",
              "      <td>1</td>\n",
              "      <td>5</td>\n",
              "    </tr>\n",
              "  </tbody>\n",
              "</table>\n",
              "</div>"
            ],
            "text/plain": [
              "   Sales    Price  ...  Shipping_Class_2  Scheduled_Shipping\n",
              "0  150.0  4383.39  ...                 1                   4\n",
              "1  165.0  4295.72  ...                 1                   6\n",
              "2  171.0  3616.65  ...                 1                   6\n",
              "3  132.0  9175.86  ...                 0                   4\n",
              "4  173.0  2779.29  ...                 1                   5\n",
              "\n",
              "[5 rows x 9 columns]"
            ]
          },
          "metadata": {},
          "execution_count": 74
        }
      ]
    },
    {
      "cell_type": "code",
      "metadata": {
        "id": "tcBpUOYPQ5Wn"
      },
      "source": [
        "df_test_copy = df_test_encoded[['Sales', 'Price', 'Shipping_Class_0', 'Zipcode','Order_Profit ', 'ProductLength', 'ProductWeight','Shipping_Class_2',\n",
        "                          'Scheduled_Shipping']]"
      ],
      "execution_count": 75,
      "outputs": []
    },
    {
      "cell_type": "code",
      "metadata": {
        "colab": {
          "base_uri": "https://localhost:8080/",
          "height": 204
        },
        "id": "BB7EeJs9Q5Z7",
        "outputId": "eb8cc0dd-8506-4295-c077-9b30ccf0da48"
      },
      "source": [
        "df_test_copy.head()"
      ],
      "execution_count": 76,
      "outputs": [
        {
          "output_type": "execute_result",
          "data": {
            "text/html": [
              "<div>\n",
              "<style scoped>\n",
              "    .dataframe tbody tr th:only-of-type {\n",
              "        vertical-align: middle;\n",
              "    }\n",
              "\n",
              "    .dataframe tbody tr th {\n",
              "        vertical-align: top;\n",
              "    }\n",
              "\n",
              "    .dataframe thead th {\n",
              "        text-align: right;\n",
              "    }\n",
              "</style>\n",
              "<table border=\"1\" class=\"dataframe\">\n",
              "  <thead>\n",
              "    <tr style=\"text-align: right;\">\n",
              "      <th></th>\n",
              "      <th>Sales</th>\n",
              "      <th>Price</th>\n",
              "      <th>Shipping_Class_0</th>\n",
              "      <th>Zipcode</th>\n",
              "      <th>Order_Profit</th>\n",
              "      <th>ProductLength</th>\n",
              "      <th>ProductWeight</th>\n",
              "      <th>Shipping_Class_2</th>\n",
              "      <th>Scheduled_Shipping</th>\n",
              "    </tr>\n",
              "  </thead>\n",
              "  <tbody>\n",
              "    <tr>\n",
              "      <th>0</th>\n",
              "      <td>173.0</td>\n",
              "      <td>2833.08</td>\n",
              "      <td>0</td>\n",
              "      <td>735</td>\n",
              "      <td>-1920.91</td>\n",
              "      <td>25.0</td>\n",
              "      <td>1720.0</td>\n",
              "      <td>1</td>\n",
              "      <td>6</td>\n",
              "    </tr>\n",
              "    <tr>\n",
              "      <th>1</th>\n",
              "      <td>222.0</td>\n",
              "      <td>14133.42</td>\n",
              "      <td>0</td>\n",
              "      <td>737</td>\n",
              "      <td>1132.14</td>\n",
              "      <td>29.0</td>\n",
              "      <td>964.0</td>\n",
              "      <td>1</td>\n",
              "      <td>4</td>\n",
              "    </tr>\n",
              "    <tr>\n",
              "      <th>2</th>\n",
              "      <td>149.0</td>\n",
              "      <td>3545.31</td>\n",
              "      <td>0</td>\n",
              "      <td>91350</td>\n",
              "      <td>1204.39</td>\n",
              "      <td>121.0</td>\n",
              "      <td>2994.0</td>\n",
              "      <td>1</td>\n",
              "      <td>6</td>\n",
              "    </tr>\n",
              "    <tr>\n",
              "      <th>3</th>\n",
              "      <td>162.0</td>\n",
              "      <td>9234.05</td>\n",
              "      <td>0</td>\n",
              "      <td>77860</td>\n",
              "      <td>3600.48</td>\n",
              "      <td>156.0</td>\n",
              "      <td>1008.0</td>\n",
              "      <td>1</td>\n",
              "      <td>5</td>\n",
              "    </tr>\n",
              "    <tr>\n",
              "      <th>4</th>\n",
              "      <td>115.0</td>\n",
              "      <td>9174.76</td>\n",
              "      <td>0</td>\n",
              "      <td>47922</td>\n",
              "      <td>4586.33</td>\n",
              "      <td>114.0</td>\n",
              "      <td>1354.0</td>\n",
              "      <td>1</td>\n",
              "      <td>2</td>\n",
              "    </tr>\n",
              "  </tbody>\n",
              "</table>\n",
              "</div>"
            ],
            "text/plain": [
              "   Sales     Price  ...  Shipping_Class_2  Scheduled_Shipping\n",
              "0  173.0   2833.08  ...                 1                   6\n",
              "1  222.0  14133.42  ...                 1                   4\n",
              "2  149.0   3545.31  ...                 1                   6\n",
              "3  162.0   9234.05  ...                 1                   5\n",
              "4  115.0   9174.76  ...                 1                   2\n",
              "\n",
              "[5 rows x 9 columns]"
            ]
          },
          "metadata": {},
          "execution_count": 76
        }
      ]
    },
    {
      "cell_type": "code",
      "metadata": {
        "id": "6MhZUr5cosic"
      },
      "source": [
        "#again do the train test split for best features\n",
        "X_train, X_val, y_train, y_val = train_test_split(new_X, y, test_size=0.2, random_state=42)"
      ],
      "execution_count": 77,
      "outputs": []
    },
    {
      "cell_type": "code",
      "metadata": {
        "colab": {
          "base_uri": "https://localhost:8080/"
        },
        "id": "e2wbiPTmpAIt",
        "outputId": "f88e5792-42b9-48c5-e0ec-4a79ba6b9867"
      },
      "source": [
        "y"
      ],
      "execution_count": null,
      "outputs": [
        {
          "output_type": "execute_result",
          "data": {
            "text/plain": [
              "0         0\n",
              "1         0\n",
              "2         1\n",
              "3         1\n",
              "4         1\n",
              "         ..\n",
              "126358    0\n",
              "126359    0\n",
              "126360    0\n",
              "126361    1\n",
              "126362    0\n",
              "Name: Delivery_Status, Length: 126363, dtype: int64"
            ]
          },
          "metadata": {},
          "execution_count": 245
        }
      ]
    },
    {
      "cell_type": "code",
      "metadata": {
        "colab": {
          "base_uri": "https://localhost:8080/"
        },
        "id": "lmJ_AhANpC0m",
        "outputId": "cc11d4d2-782f-4aa1-b15e-72e798df5fab"
      },
      "source": [
        "print(X_train.shape)\n",
        "print(X_val.shape)\n",
        "print(y_train.shape)\n",
        "print(y_val.shape)"
      ],
      "execution_count": 78,
      "outputs": [
        {
          "output_type": "stream",
          "name": "stdout",
          "text": [
            "(101090, 9)\n",
            "(25273, 9)\n",
            "(101090,)\n",
            "(25273,)\n"
          ]
        }
      ]
    },
    {
      "cell_type": "code",
      "metadata": {
        "id": "Yw-Z040DpIcl"
      },
      "source": [
        "#use RFC to get the results on train data"
      ],
      "execution_count": null,
      "outputs": []
    },
    {
      "cell_type": "code",
      "metadata": {
        "colab": {
          "base_uri": "https://localhost:8080/"
        },
        "id": "pJ8ToVoxqkbN",
        "outputId": "59ef9df6-eada-4793-cfc2-825e4220446e"
      },
      "source": [
        "rfc = RandomForestClassifier(n_estimators=50, max_depth=10, class_weight='balanced', random_state=42)\n",
        "rfc.fit(X_train, y_train)"
      ],
      "execution_count": 106,
      "outputs": [
        {
          "output_type": "execute_result",
          "data": {
            "text/plain": [
              "RandomForestClassifier(bootstrap=True, ccp_alpha=0.0, class_weight='balanced',\n",
              "                       criterion='gini', max_depth=10, max_features='auto',\n",
              "                       max_leaf_nodes=None, max_samples=None,\n",
              "                       min_impurity_decrease=0.0, min_impurity_split=None,\n",
              "                       min_samples_leaf=1, min_samples_split=2,\n",
              "                       min_weight_fraction_leaf=0.0, n_estimators=50,\n",
              "                       n_jobs=None, oob_score=False, random_state=89, verbose=0,\n",
              "                       warm_start=False)"
            ]
          },
          "metadata": {},
          "execution_count": 106
        }
      ]
    },
    {
      "cell_type": "code",
      "metadata": {
        "id": "6l3rzbNTqlWa"
      },
      "source": [
        "y_pred_train_rfc = rfc.predict(X_train)"
      ],
      "execution_count": 107,
      "outputs": []
    },
    {
      "cell_type": "code",
      "metadata": {
        "colab": {
          "base_uri": "https://localhost:8080/"
        },
        "id": "X9OuDZRHZcEG",
        "outputId": "51763d8d-78be-4535-d0db-8056338d541a"
      },
      "source": [
        "print(confusion_matrix(y_train, y_pred_train_rfc))"
      ],
      "execution_count": 108,
      "outputs": [
        {
          "output_type": "stream",
          "name": "stdout",
          "text": [
            "[[42733 25088]\n",
            " [ 1475 31794]]\n"
          ]
        }
      ]
    },
    {
      "cell_type": "code",
      "metadata": {
        "colab": {
          "base_uri": "https://localhost:8080/"
        },
        "id": "Q2gLP4J6ZlgX",
        "outputId": "208f4cb3-4271-4ef7-8a11-e338163561cc"
      },
      "source": [
        "print(classification_report(y_train, y_pred_train_rfc))"
      ],
      "execution_count": 109,
      "outputs": [
        {
          "output_type": "stream",
          "name": "stdout",
          "text": [
            "              precision    recall  f1-score   support\n",
            "\n",
            "           0       0.97      0.63      0.76     67821\n",
            "           1       0.56      0.96      0.71     33269\n",
            "\n",
            "    accuracy                           0.74    101090\n",
            "   macro avg       0.76      0.79      0.73    101090\n",
            "weighted avg       0.83      0.74      0.74    101090\n",
            "\n"
          ]
        }
      ]
    },
    {
      "cell_type": "code",
      "metadata": {
        "id": "3EyI_-MMYWMT"
      },
      "source": [
        "y_pred_val_rfc = rfc.predict(X_val)"
      ],
      "execution_count": 110,
      "outputs": []
    },
    {
      "cell_type": "code",
      "metadata": {
        "colab": {
          "base_uri": "https://localhost:8080/"
        },
        "id": "z_nwiKSSsLd7",
        "outputId": "52437765-8fd7-40ec-e233-531b65a6c5a2"
      },
      "source": [
        "print(confusion_matrix(y_val, y_pred_val_rfc))"
      ],
      "execution_count": 111,
      "outputs": [
        {
          "output_type": "stream",
          "name": "stdout",
          "text": [
            "[[10815  6276]\n",
            " [  386  7796]]\n"
          ]
        }
      ]
    },
    {
      "cell_type": "code",
      "metadata": {
        "colab": {
          "base_uri": "https://localhost:8080/"
        },
        "id": "kJr6i7oZsc6-",
        "outputId": "cc31135b-58a5-4312-db41-2971aa4f90c8"
      },
      "source": [
        "#print the f1 score\n",
        "print(f1_score(y_val, y_pred_val_rfc))"
      ],
      "execution_count": 112,
      "outputs": [
        {
          "output_type": "stream",
          "name": "stdout",
          "text": [
            "0.7006380875348251\n"
          ]
        }
      ]
    },
    {
      "cell_type": "code",
      "metadata": {
        "colab": {
          "base_uri": "https://localhost:8080/"
        },
        "id": "ztI4V2VNsjiF",
        "outputId": "3701662f-bddd-4c28-c831-7f23ee9bdf71"
      },
      "source": [
        "print(classification_report(y_val, y_pred_val_rfc))"
      ],
      "execution_count": 113,
      "outputs": [
        {
          "output_type": "stream",
          "name": "stdout",
          "text": [
            "              precision    recall  f1-score   support\n",
            "\n",
            "           0       0.97      0.63      0.76     17091\n",
            "           1       0.55      0.95      0.70      8182\n",
            "\n",
            "    accuracy                           0.74     25273\n",
            "   macro avg       0.76      0.79      0.73     25273\n",
            "weighted avg       0.83      0.74      0.74     25273\n",
            "\n"
          ]
        }
      ]
    },
    {
      "cell_type": "code",
      "metadata": {
        "id": "s4q1gYHaH6Zr"
      },
      "source": [
        "#define the paramaters for rfc\n",
        "params = {'criterion': ['gini','entropy'], 'max_depth': range(0,21), 'n_estimators': range(0,101), 'class_weight':['balanced', 'balanced_subsample']}"
      ],
      "execution_count": 114,
      "outputs": []
    },
    {
      "cell_type": "code",
      "metadata": {
        "id": "96k3wQPRbHkh"
      },
      "source": [
        "#use randomized search cv for parameter tuning\n",
        "from sklearn.model_selection import KFold, RandomizedSearchCV, GridSearchCV"
      ],
      "execution_count": 97,
      "outputs": []
    },
    {
      "cell_type": "code",
      "metadata": {
        "id": "CCo2SJL4bXBJ"
      },
      "source": [
        "kf = KFold(n_splits=3, shuffle=True, random_state=42)"
      ],
      "execution_count": 115,
      "outputs": []
    },
    {
      "cell_type": "code",
      "metadata": {
        "id": "4LD4mvODbeOI"
      },
      "source": [
        "rscv = RandomizedSearchCV(estimator=RandomForestClassifier(random_state=42), \n",
        "                          param_distributions=params, n_iter=5, scoring='f1', n_jobs=-1, cv=kf, verbose=3, random_state=42)"
      ],
      "execution_count": 116,
      "outputs": []
    },
    {
      "cell_type": "code",
      "metadata": {
        "colab": {
          "base_uri": "https://localhost:8080/"
        },
        "id": "jsV_8KJbc7eI",
        "outputId": "135bf5b5-78be-4f9f-ca0b-ba23503bd48c"
      },
      "source": [
        "rscv.fit(X_train, y_train)\n",
        "rscv_tuned_rf = rscv.best_estimator_\n",
        "print(rscv_tuned_rf)"
      ],
      "execution_count": 117,
      "outputs": [
        {
          "output_type": "stream",
          "name": "stdout",
          "text": [
            "Fitting 3 folds for each of 5 candidates, totalling 15 fits\n"
          ]
        },
        {
          "output_type": "stream",
          "name": "stderr",
          "text": [
            "[Parallel(n_jobs=-1)]: Using backend LokyBackend with 2 concurrent workers.\n",
            "[Parallel(n_jobs=-1)]: Done  15 out of  15 | elapsed:  1.8min finished\n"
          ]
        },
        {
          "output_type": "stream",
          "name": "stdout",
          "text": [
            "RandomForestClassifier(bootstrap=True, ccp_alpha=0.0,\n",
            "                       class_weight='balanced_subsample', criterion='entropy',\n",
            "                       max_depth=8, max_features='auto', max_leaf_nodes=None,\n",
            "                       max_samples=None, min_impurity_decrease=0.0,\n",
            "                       min_impurity_split=None, min_samples_leaf=1,\n",
            "                       min_samples_split=2, min_weight_fraction_leaf=0.0,\n",
            "                       n_estimators=99, n_jobs=None, oob_score=False,\n",
            "                       random_state=42, verbose=0, warm_start=False)\n"
          ]
        }
      ]
    },
    {
      "cell_type": "code",
      "metadata": {
        "colab": {
          "base_uri": "https://localhost:8080/"
        },
        "id": "049-HSgxfvGy",
        "outputId": "0bb8f4a5-e660-473a-ca04-1b32605086af"
      },
      "source": [
        "scores = cross_val_score(rscv_tuned_rf, X_train, y_train, cv = kf, scoring = 'f1', n_jobs = -1)\n",
        "print(\"RFC model tuned f1 scores: \", scores)\n",
        "print(\"RFC model Bias Error: \", 1 - np.mean(scores))\n",
        "print(\"RFC model Variance Error: \", np.std(scores, ddof = 1))"
      ],
      "execution_count": 118,
      "outputs": [
        {
          "output_type": "stream",
          "name": "stdout",
          "text": [
            "RFC model tuned f1 scores:  [0.70184378 0.70513075 0.70857257]\n",
            "RFC model Bias Error:  0.29481763356843205\n",
            "RFC model Variance Error:  0.003364689448343045\n"
          ]
        }
      ]
    },
    {
      "cell_type": "code",
      "metadata": {
        "id": "i7O2y8mwHQal"
      },
      "source": [
        "y_pred_val_rfc = rscv_tuned_rf.predict(X_val)"
      ],
      "execution_count": 119,
      "outputs": []
    },
    {
      "cell_type": "code",
      "metadata": {
        "colab": {
          "base_uri": "https://localhost:8080/"
        },
        "id": "VlFsK5E3NrP8",
        "outputId": "99f98531-8768-4776-ec47-a24cee81b214"
      },
      "source": [
        "print(f1_score(y_val, y_pred_val_rfc))"
      ],
      "execution_count": 120,
      "outputs": [
        {
          "output_type": "stream",
          "name": "stdout",
          "text": [
            "0.7006066052572455\n"
          ]
        }
      ]
    },
    {
      "cell_type": "code",
      "metadata": {
        "id": "AHRwnxcRjeSy"
      },
      "source": [
        "#lets get our predictions using xgboost classifier\n",
        "xgb = XGBClassifier(random_state=42)"
      ],
      "execution_count": 121,
      "outputs": []
    },
    {
      "cell_type": "code",
      "metadata": {
        "colab": {
          "base_uri": "https://localhost:8080/"
        },
        "id": "EfIrtdoSkEaS",
        "outputId": "376589c4-af03-4f0f-ef8d-6d22f7e1be4d"
      },
      "source": [
        "xgb.fit(X_train, y_train)"
      ],
      "execution_count": 122,
      "outputs": [
        {
          "output_type": "execute_result",
          "data": {
            "text/plain": [
              "XGBClassifier(base_score=0.5, booster='gbtree', colsample_bylevel=1,\n",
              "              colsample_bynode=1, colsample_bytree=1, gamma=0,\n",
              "              learning_rate=0.1, max_delta_step=0, max_depth=3,\n",
              "              min_child_weight=1, missing=None, n_estimators=100, n_jobs=1,\n",
              "              nthread=None, objective='binary:logistic', random_state=42,\n",
              "              reg_alpha=0, reg_lambda=1, scale_pos_weight=1, seed=None,\n",
              "              silent=None, subsample=1, verbosity=1)"
            ]
          },
          "metadata": {},
          "execution_count": 122
        }
      ]
    },
    {
      "cell_type": "code",
      "metadata": {
        "id": "5qjBVuu3mhVg"
      },
      "source": [
        "y_pred_train_xgb = xgb.predict(X_train)"
      ],
      "execution_count": 123,
      "outputs": []
    },
    {
      "cell_type": "code",
      "metadata": {
        "colab": {
          "base_uri": "https://localhost:8080/"
        },
        "id": "Wje0rjOdm2od",
        "outputId": "e8f74e9b-24f0-4a19-a711-053dbd3aef73"
      },
      "source": [
        "print(confusion_matrix(y_train, y_pred_train_xgb))\n",
        "\n",
        "print(classification_report(y_train, y_pred_train_xgb))"
      ],
      "execution_count": 124,
      "outputs": [
        {
          "output_type": "stream",
          "name": "stdout",
          "text": [
            "[[47451 20370]\n",
            " [ 5987 27282]]\n",
            "              precision    recall  f1-score   support\n",
            "\n",
            "           0       0.89      0.70      0.78     67821\n",
            "           1       0.57      0.82      0.67     33269\n",
            "\n",
            "    accuracy                           0.74    101090\n",
            "   macro avg       0.73      0.76      0.73    101090\n",
            "weighted avg       0.78      0.74      0.75    101090\n",
            "\n"
          ]
        }
      ]
    },
    {
      "cell_type": "code",
      "metadata": {
        "id": "C1XplVWmjOtM"
      },
      "source": [
        "y_pred_val_xgb = xgb.predict(X_val)"
      ],
      "execution_count": 125,
      "outputs": []
    },
    {
      "cell_type": "code",
      "metadata": {
        "colab": {
          "base_uri": "https://localhost:8080/"
        },
        "id": "ULqFBCkFjOwL",
        "outputId": "4d152b82-7234-4c22-e1d2-c1efbdb26615"
      },
      "source": [
        "print(confusion_matrix(y_val, y_pred_val_xgb))\n",
        "\n",
        "print(classification_report(y_val, y_pred_val_xgb))"
      ],
      "execution_count": 126,
      "outputs": [
        {
          "output_type": "stream",
          "name": "stdout",
          "text": [
            "[[12046  5045]\n",
            " [ 1519  6663]]\n",
            "              precision    recall  f1-score   support\n",
            "\n",
            "           0       0.89      0.70      0.79     17091\n",
            "           1       0.57      0.81      0.67      8182\n",
            "\n",
            "    accuracy                           0.74     25273\n",
            "   macro avg       0.73      0.76      0.73     25273\n",
            "weighted avg       0.78      0.74      0.75     25273\n",
            "\n"
          ]
        }
      ]
    },
    {
      "cell_type": "code",
      "metadata": {
        "colab": {
          "base_uri": "https://localhost:8080/"
        },
        "id": "HRtb4XMQzt_W",
        "outputId": "b16bf190-683d-4461-90a1-6b9b74983b08"
      },
      "source": [
        "print(f1_score(y_val, y_pred_val_xgb))"
      ],
      "execution_count": 127,
      "outputs": [
        {
          "output_type": "stream",
          "name": "stdout",
          "text": [
            "0.6699849170437406\n"
          ]
        }
      ]
    },
    {
      "cell_type": "code",
      "metadata": {
        "id": "OWndNQVmRcBW"
      },
      "source": [
        "#Xgboost hyperparmeter tuning with rscv"
      ],
      "execution_count": null,
      "outputs": []
    },
    {
      "cell_type": "code",
      "metadata": {
        "colab": {
          "base_uri": "https://localhost:8080/"
        },
        "id": "h0HFBYXFRcO3",
        "outputId": "ed79512e-0da4-4b6c-b4b2-c2b324c5cf54"
      },
      "source": [
        "params = {'max_depth':range(0,51), 'learning_rate':[0.01,0.05,0.1,0.5], 'n_estimators':range(0,101)}\n",
        "\n",
        "rscv_xg = RandomizedSearchCV(estimator=XGBClassifier(random_state=42), param_distributions=params, n_iter=5, scoring='f1', n_jobs=-1, cv=kf, \n",
        "                             verbose=3, random_state=42)\n",
        "rscv_xg.fit(X_train, y_train)\n",
        "rscv_tuned_xg = rscv_xg.best_estimator_\n",
        "print(rscv_tuned_xg)"
      ],
      "execution_count": 129,
      "outputs": [
        {
          "output_type": "stream",
          "name": "stdout",
          "text": [
            "Fitting 3 folds for each of 5 candidates, totalling 15 fits\n"
          ]
        },
        {
          "output_type": "stream",
          "name": "stderr",
          "text": [
            "[Parallel(n_jobs=-1)]: Using backend LokyBackend with 2 concurrent workers.\n",
            "[Parallel(n_jobs=-1)]: Done  15 out of  15 | elapsed:  1.3min finished\n"
          ]
        },
        {
          "output_type": "stream",
          "name": "stdout",
          "text": [
            "XGBClassifier(base_score=0.5, booster='gbtree', colsample_bylevel=1,\n",
            "              colsample_bynode=1, colsample_bytree=1, gamma=0,\n",
            "              learning_rate=0.01, max_delta_step=0, max_depth=8,\n",
            "              min_child_weight=1, missing=None, n_estimators=52, n_jobs=1,\n",
            "              nthread=None, objective='binary:logistic', random_state=42,\n",
            "              reg_alpha=0, reg_lambda=1, scale_pos_weight=1, seed=None,\n",
            "              silent=None, subsample=1, verbosity=1)\n"
          ]
        }
      ]
    },
    {
      "cell_type": "code",
      "metadata": {
        "colab": {
          "base_uri": "https://localhost:8080/"
        },
        "id": "54uXsiNTXTIs",
        "outputId": "b1be5861-0782-4553-b4e6-f29fdc44d535"
      },
      "source": [
        "scores = cross_val_score(rscv_tuned_xg, X_train, y_train, cv = kf, scoring = 'f1', n_jobs = -1)\n",
        "print(\"XGB model tuned f1 scores: \", scores)\n",
        "print(\"XGB model Bias Error: \", 1 - np.mean(scores))\n",
        "print(\"XGB model Variance Error: \", np.std(scores, ddof = 1))"
      ],
      "execution_count": 130,
      "outputs": [
        {
          "output_type": "stream",
          "name": "stdout",
          "text": [
            "XGB model tuned f1 scores:  [0.68782051 0.68508841 0.68882979]\n",
            "XGB model Bias Error:  0.3127537632982059\n",
            "XGB model Variance Error:  0.0019356705820386675\n"
          ]
        }
      ]
    },
    {
      "cell_type": "code",
      "metadata": {
        "id": "z3YRGjAHSzV0"
      },
      "source": [
        "y_pred_train_xgb = rscv_tuned_xg.predict(X_val)"
      ],
      "execution_count": 131,
      "outputs": []
    },
    {
      "cell_type": "code",
      "metadata": {
        "colab": {
          "base_uri": "https://localhost:8080/"
        },
        "id": "oiYeoP8gRcc9",
        "outputId": "298cb0c7-790a-4e1a-da3a-ed47be67f301"
      },
      "source": [
        "print(confusion_matrix(y_val, y_pred_val_xgb))\n",
        "\n",
        "print(classification_report(y_val, y_pred_val_xgb))"
      ],
      "execution_count": 132,
      "outputs": [
        {
          "output_type": "stream",
          "name": "stdout",
          "text": [
            "[[12046  5045]\n",
            " [ 1519  6663]]\n",
            "              precision    recall  f1-score   support\n",
            "\n",
            "           0       0.89      0.70      0.79     17091\n",
            "           1       0.57      0.81      0.67      8182\n",
            "\n",
            "    accuracy                           0.74     25273\n",
            "   macro avg       0.73      0.76      0.73     25273\n",
            "weighted avg       0.78      0.74      0.75     25273\n",
            "\n"
          ]
        }
      ]
    },
    {
      "cell_type": "code",
      "metadata": {
        "id": "zwk_7-1b3A4a"
      },
      "source": [
        "#Adaboost model\n",
        "ab = AdaBoostClassifier(base_estimator=RandomForestClassifier(n_estimators=50, random_state=42, max_depth=10, class_weight='balanced'), \n",
        "                        n_estimators=50, learning_rate=0.1, random_state=42)"
      ],
      "execution_count": 133,
      "outputs": []
    },
    {
      "cell_type": "code",
      "metadata": {
        "colab": {
          "base_uri": "https://localhost:8080/"
        },
        "id": "TxuNRr0wY2SK",
        "outputId": "19694236-c49f-4682-efa0-e10644b09593"
      },
      "source": [
        "ab.fit(X_train, y_train)"
      ],
      "execution_count": 134,
      "outputs": [
        {
          "output_type": "execute_result",
          "data": {
            "text/plain": [
              "AdaBoostClassifier(algorithm='SAMME.R',\n",
              "                   base_estimator=RandomForestClassifier(bootstrap=True,\n",
              "                                                         ccp_alpha=0.0,\n",
              "                                                         class_weight='balanced',\n",
              "                                                         criterion='gini',\n",
              "                                                         max_depth=10,\n",
              "                                                         max_features='auto',\n",
              "                                                         max_leaf_nodes=None,\n",
              "                                                         max_samples=None,\n",
              "                                                         min_impurity_decrease=0.0,\n",
              "                                                         min_impurity_split=None,\n",
              "                                                         min_samples_leaf=1,\n",
              "                                                         min_samples_split=2,\n",
              "                                                         min_weight_fraction_leaf=0.0,\n",
              "                                                         n_estimators=50,\n",
              "                                                         n_jobs=None,\n",
              "                                                         oob_score=False,\n",
              "                                                         random_state=42,\n",
              "                                                         verbose=0,\n",
              "                                                         warm_start=False),\n",
              "                   learning_rate=0.1, n_estimators=50, random_state=42)"
            ]
          },
          "metadata": {},
          "execution_count": 134
        }
      ]
    },
    {
      "cell_type": "code",
      "metadata": {
        "id": "MP-yLmY83Ubo"
      },
      "source": [
        "y_pred_train_ab = ab.predict(X_train)"
      ],
      "execution_count": 135,
      "outputs": []
    },
    {
      "cell_type": "code",
      "metadata": {
        "colab": {
          "base_uri": "https://localhost:8080/"
        },
        "id": "d3ljIP493BId",
        "outputId": "a3a44aa7-a7f1-4c11-8187-f2ee6a6f2dea"
      },
      "source": [
        "print(confusion_matrix(y_train, y_pred_train_ab))\n",
        "\n",
        "print(classification_report(y_train, y_pred_train_ab))"
      ],
      "execution_count": 136,
      "outputs": [
        {
          "output_type": "stream",
          "name": "stdout",
          "text": [
            "[[43195 24626]\n",
            " [ 1466 31803]]\n",
            "              precision    recall  f1-score   support\n",
            "\n",
            "           0       0.97      0.64      0.77     67821\n",
            "           1       0.56      0.96      0.71     33269\n",
            "\n",
            "    accuracy                           0.74    101090\n",
            "   macro avg       0.77      0.80      0.74    101090\n",
            "weighted avg       0.83      0.74      0.75    101090\n",
            "\n"
          ]
        }
      ]
    },
    {
      "cell_type": "code",
      "metadata": {
        "id": "ZXFQnPpY3BUF"
      },
      "source": [
        "y_pred_val_ab = ab.predict(X_val)"
      ],
      "execution_count": 137,
      "outputs": []
    },
    {
      "cell_type": "code",
      "metadata": {
        "colab": {
          "base_uri": "https://localhost:8080/"
        },
        "id": "QSD5NkeA48oO",
        "outputId": "52991391-b541-4379-c1bb-bfa68baa7b44"
      },
      "source": [
        "print(f1_score(y_val, y_pred_val_ab))"
      ],
      "execution_count": 138,
      "outputs": [
        {
          "output_type": "stream",
          "name": "stdout",
          "text": [
            "0.7002833880617156\n"
          ]
        }
      ]
    },
    {
      "cell_type": "code",
      "metadata": {
        "colab": {
          "base_uri": "https://localhost:8080/"
        },
        "id": "LqsJ8mXL4MNT",
        "outputId": "cb443768-b29e-4f9a-eedf-d37b507985cb"
      },
      "source": [
        "print(confusion_matrix(y_val, y_pred_val_ab))\n",
        "\n",
        "print(classification_report(y_val, y_pred_val_ab))"
      ],
      "execution_count": 139,
      "outputs": [
        {
          "output_type": "stream",
          "name": "stdout",
          "text": [
            "[[10826  6265]\n",
            " [  398  7784]]\n",
            "              precision    recall  f1-score   support\n",
            "\n",
            "           0       0.96      0.63      0.76     17091\n",
            "           1       0.55      0.95      0.70      8182\n",
            "\n",
            "    accuracy                           0.74     25273\n",
            "   macro avg       0.76      0.79      0.73     25273\n",
            "weighted avg       0.83      0.74      0.74     25273\n",
            "\n"
          ]
        }
      ]
    },
    {
      "cell_type": "code",
      "metadata": {
        "id": "wtchiPSl4Mpz"
      },
      "source": [
        "import lightgbm\n",
        "from lightgbm import LGBMClassifier"
      ],
      "execution_count": 140,
      "outputs": []
    },
    {
      "cell_type": "code",
      "metadata": {
        "id": "-kf5qZVhsEKt"
      },
      "source": [
        "lgbm = LGBMClassifier(max_depth=7, n_estimators=87, class_weight='balanced', random_state=42, n_jobs=-1)"
      ],
      "execution_count": 141,
      "outputs": []
    },
    {
      "cell_type": "code",
      "metadata": {
        "colab": {
          "base_uri": "https://localhost:8080/"
        },
        "id": "DmMHcuJGso5w",
        "outputId": "a2d4debe-63d0-4f96-b6bf-72b7057c9089"
      },
      "source": [
        "lgbm.fit(X_train, y_train)"
      ],
      "execution_count": 142,
      "outputs": [
        {
          "output_type": "execute_result",
          "data": {
            "text/plain": [
              "LGBMClassifier(boosting_type='gbdt', class_weight='balanced',\n",
              "               colsample_bytree=1.0, importance_type='split', learning_rate=0.1,\n",
              "               max_depth=7, min_child_samples=20, min_child_weight=0.001,\n",
              "               min_split_gain=0.0, n_estimators=87, n_jobs=-1, num_leaves=31,\n",
              "               objective=None, random_state=42, reg_alpha=0.0, reg_lambda=0.0,\n",
              "               silent=True, subsample=1.0, subsample_for_bin=200000,\n",
              "               subsample_freq=0)"
            ]
          },
          "metadata": {},
          "execution_count": 142
        }
      ]
    },
    {
      "cell_type": "code",
      "metadata": {
        "id": "3L0R11bVtkZ_"
      },
      "source": [
        "y_pred_train_lgbm = lgbm.predict(X_train)"
      ],
      "execution_count": 143,
      "outputs": []
    },
    {
      "cell_type": "code",
      "metadata": {
        "colab": {
          "base_uri": "https://localhost:8080/"
        },
        "id": "NVhLeV4dtkos",
        "outputId": "56723a70-1275-4d02-9fc5-f6d82930c655"
      },
      "source": [
        "print(confusion_matrix(y_train, y_pred_train_lgbm))\n",
        "\n",
        "print(classification_report(y_train, y_pred_train_lgbm))"
      ],
      "execution_count": 144,
      "outputs": [
        {
          "output_type": "stream",
          "name": "stdout",
          "text": [
            "[[42789 25032]\n",
            " [ 1473 31796]]\n",
            "              precision    recall  f1-score   support\n",
            "\n",
            "           0       0.97      0.63      0.76     67821\n",
            "           1       0.56      0.96      0.71     33269\n",
            "\n",
            "    accuracy                           0.74    101090\n",
            "   macro avg       0.76      0.79      0.73    101090\n",
            "weighted avg       0.83      0.74      0.74    101090\n",
            "\n"
          ]
        }
      ]
    },
    {
      "cell_type": "code",
      "metadata": {
        "id": "33-_S4I2Cxoo"
      },
      "source": [
        "y_pred_val_lgbm = lgbm.predict(X_val)"
      ],
      "execution_count": 145,
      "outputs": []
    },
    {
      "cell_type": "code",
      "metadata": {
        "colab": {
          "base_uri": "https://localhost:8080/"
        },
        "id": "VFWCAP6_C1Ig",
        "outputId": "120f4a70-4415-4bed-c3e0-6c824db6c0be"
      },
      "source": [
        "print(f1_score(y_val, y_pred_val_lgbm))"
      ],
      "execution_count": 146,
      "outputs": [
        {
          "output_type": "stream",
          "name": "stdout",
          "text": [
            "0.7004181466660672\n"
          ]
        }
      ]
    },
    {
      "cell_type": "code",
      "metadata": {
        "id": "ZGCj6_IdCX_U"
      },
      "source": [
        "#install catboost"
      ],
      "execution_count": null,
      "outputs": []
    },
    {
      "cell_type": "code",
      "metadata": {
        "colab": {
          "base_uri": "https://localhost:8080/"
        },
        "id": "fYS4yV35tk2d",
        "outputId": "a79043a1-f876-43ff-879e-b3e75ce566db"
      },
      "source": [
        "pip install catboost"
      ],
      "execution_count": 148,
      "outputs": [
        {
          "output_type": "stream",
          "name": "stdout",
          "text": [
            "Collecting catboost\n",
            "  Downloading catboost-1.0.0-cp37-none-manylinux1_x86_64.whl (76.4 MB)\n",
            "\u001b[K     |████████████████████████████████| 76.4 MB 25 kB/s \n",
            "\u001b[?25hRequirement already satisfied: scipy in /usr/local/lib/python3.7/dist-packages (from catboost) (1.4.1)\n",
            "Requirement already satisfied: plotly in /usr/local/lib/python3.7/dist-packages (from catboost) (4.4.1)\n",
            "Requirement already satisfied: six in /usr/local/lib/python3.7/dist-packages (from catboost) (1.15.0)\n",
            "Requirement already satisfied: pandas>=0.24.0 in /usr/local/lib/python3.7/dist-packages (from catboost) (1.1.5)\n",
            "Requirement already satisfied: matplotlib in /usr/local/lib/python3.7/dist-packages (from catboost) (3.2.2)\n",
            "Requirement already satisfied: numpy>=1.16.0 in /usr/local/lib/python3.7/dist-packages (from catboost) (1.19.5)\n",
            "Requirement already satisfied: graphviz in /usr/local/lib/python3.7/dist-packages (from catboost) (0.10.1)\n",
            "Requirement already satisfied: python-dateutil>=2.7.3 in /usr/local/lib/python3.7/dist-packages (from pandas>=0.24.0->catboost) (2.8.2)\n",
            "Requirement already satisfied: pytz>=2017.2 in /usr/local/lib/python3.7/dist-packages (from pandas>=0.24.0->catboost) (2018.9)\n",
            "Requirement already satisfied: kiwisolver>=1.0.1 in /usr/local/lib/python3.7/dist-packages (from matplotlib->catboost) (1.3.2)\n",
            "Requirement already satisfied: pyparsing!=2.0.4,!=2.1.2,!=2.1.6,>=2.0.1 in /usr/local/lib/python3.7/dist-packages (from matplotlib->catboost) (2.4.7)\n",
            "Requirement already satisfied: cycler>=0.10 in /usr/local/lib/python3.7/dist-packages (from matplotlib->catboost) (0.10.0)\n",
            "Requirement already satisfied: retrying>=1.3.3 in /usr/local/lib/python3.7/dist-packages (from plotly->catboost) (1.3.3)\n",
            "Installing collected packages: catboost\n",
            "Successfully installed catboost-1.0.0\n"
          ]
        }
      ]
    },
    {
      "cell_type": "code",
      "metadata": {
        "id": "uEc29IbKtlE1"
      },
      "source": [
        "from catboost import CatBoostClassifier"
      ],
      "execution_count": 149,
      "outputs": []
    },
    {
      "cell_type": "code",
      "metadata": {
        "id": "YmONShkqtlan"
      },
      "source": [
        "catboost = CatBoostClassifier(iterations=7, learning_rate=0.1, depth=8)"
      ],
      "execution_count": 150,
      "outputs": []
    },
    {
      "cell_type": "code",
      "metadata": {
        "colab": {
          "base_uri": "https://localhost:8080/"
        },
        "id": "oG4drqNSx6SJ",
        "outputId": "fbc33fda-488d-4367-8ba9-8c27725b3e14"
      },
      "source": [
        "catboost.fit(X_train, y_train)"
      ],
      "execution_count": 152,
      "outputs": [
        {
          "output_type": "stream",
          "name": "stdout",
          "text": [
            "0:\tlearn: 0.6558554\ttotal: 73.8ms\tremaining: 443ms\n",
            "1:\tlearn: 0.6254060\ttotal: 89.6ms\tremaining: 224ms\n",
            "2:\tlearn: 0.6000703\ttotal: 103ms\tremaining: 138ms\n",
            "3:\tlearn: 0.5787411\ttotal: 124ms\tremaining: 92.7ms\n",
            "4:\tlearn: 0.5607834\ttotal: 145ms\tremaining: 58ms\n",
            "5:\tlearn: 0.5452361\ttotal: 167ms\tremaining: 27.8ms\n",
            "6:\tlearn: 0.5320000\ttotal: 191ms\tremaining: 0us\n"
          ]
        },
        {
          "output_type": "execute_result",
          "data": {
            "text/plain": [
              "<catboost.core.CatBoostClassifier at 0x7f7e2d323390>"
            ]
          },
          "metadata": {},
          "execution_count": 152
        }
      ]
    },
    {
      "cell_type": "code",
      "metadata": {
        "id": "4dzFn9xNx9JJ"
      },
      "source": [
        "y_pred_train_cat = catboost.predict(X_train)"
      ],
      "execution_count": 153,
      "outputs": []
    },
    {
      "cell_type": "code",
      "metadata": {
        "colab": {
          "base_uri": "https://localhost:8080/"
        },
        "id": "SuLHkm1ayDWS",
        "outputId": "b26e80f8-473e-47a4-b6d4-4691961b90f0"
      },
      "source": [
        "print(confusion_matrix(y_train, y_pred_train_cat))\n",
        "\n",
        "print(classification_report(y_train, y_pred_train_cat))"
      ],
      "execution_count": 154,
      "outputs": [
        {
          "output_type": "stream",
          "name": "stdout",
          "text": [
            "[[46908 20913]\n",
            " [ 5297 27972]]\n",
            "              precision    recall  f1-score   support\n",
            "\n",
            "           0       0.90      0.69      0.78     67821\n",
            "           1       0.57      0.84      0.68     33269\n",
            "\n",
            "    accuracy                           0.74    101090\n",
            "   macro avg       0.74      0.77      0.73    101090\n",
            "weighted avg       0.79      0.74      0.75    101090\n",
            "\n"
          ]
        }
      ]
    },
    {
      "cell_type": "code",
      "metadata": {
        "id": "uTrTM8SMn7pD"
      },
      "source": [
        "#get predictions on the test set\n",
        "final_predictions_ab = rfc.predict(df_test_copy)"
      ],
      "execution_count": null,
      "outputs": []
    },
    {
      "cell_type": "code",
      "metadata": {
        "colab": {
          "base_uri": "https://localhost:8080/"
        },
        "id": "5x6QAm1zbTJ9",
        "outputId": "a8310046-3f95-4683-a56e-23805f18942b"
      },
      "source": [
        "#get order_id for test data\n",
        "test_file_ids = df_test['OrderId']\n",
        "test_file_ids"
      ],
      "execution_count": null,
      "outputs": [
        {
          "output_type": "execute_result",
          "data": {
            "text/plain": [
              "0        2372881\n",
              "1        2445349\n",
              "2        2441537\n",
              "3        2461867\n",
              "4        2461659\n",
              "          ...   \n",
              "54151    2514090\n",
              "54152    2495221\n",
              "54153    2431788\n",
              "54154    2385761\n",
              "54155    2363843\n",
              "Name: OrderId, Length: 54156, dtype: int64"
            ]
          },
          "metadata": {},
          "execution_count": 460
        }
      ]
    },
    {
      "cell_type": "code",
      "metadata": {
        "colab": {
          "base_uri": "https://localhost:8080/",
          "height": 204
        },
        "id": "GRjE9kkLbzmr",
        "outputId": "863d1323-0e1e-457c-eee1-7b14167af197"
      },
      "source": [
        "#create submission df\n",
        "submission_rfc=pd.DataFrame([test_file_ids,final_predictions_ab]).T\n",
        "submission_rfc.head()"
      ],
      "execution_count": null,
      "outputs": [
        {
          "output_type": "execute_result",
          "data": {
            "text/html": [
              "<div>\n",
              "<style scoped>\n",
              "    .dataframe tbody tr th:only-of-type {\n",
              "        vertical-align: middle;\n",
              "    }\n",
              "\n",
              "    .dataframe tbody tr th {\n",
              "        vertical-align: top;\n",
              "    }\n",
              "\n",
              "    .dataframe thead th {\n",
              "        text-align: right;\n",
              "    }\n",
              "</style>\n",
              "<table border=\"1\" class=\"dataframe\">\n",
              "  <thead>\n",
              "    <tr style=\"text-align: right;\">\n",
              "      <th></th>\n",
              "      <th>OrderId</th>\n",
              "      <th>Unnamed 0</th>\n",
              "    </tr>\n",
              "  </thead>\n",
              "  <tbody>\n",
              "    <tr>\n",
              "      <th>0</th>\n",
              "      <td>2372881</td>\n",
              "      <td>1</td>\n",
              "    </tr>\n",
              "    <tr>\n",
              "      <th>1</th>\n",
              "      <td>2445349</td>\n",
              "      <td>0</td>\n",
              "    </tr>\n",
              "    <tr>\n",
              "      <th>2</th>\n",
              "      <td>2441537</td>\n",
              "      <td>1</td>\n",
              "    </tr>\n",
              "    <tr>\n",
              "      <th>3</th>\n",
              "      <td>2461867</td>\n",
              "      <td>1</td>\n",
              "    </tr>\n",
              "    <tr>\n",
              "      <th>4</th>\n",
              "      <td>2461659</td>\n",
              "      <td>0</td>\n",
              "    </tr>\n",
              "  </tbody>\n",
              "</table>\n",
              "</div>"
            ],
            "text/plain": [
              "   OrderId  Unnamed 0\n",
              "0  2372881          1\n",
              "1  2445349          0\n",
              "2  2441537          1\n",
              "3  2461867          1\n",
              "4  2461659          0"
            ]
          },
          "metadata": {},
          "execution_count": 461
        }
      ]
    },
    {
      "cell_type": "code",
      "metadata": {
        "colab": {
          "base_uri": "https://localhost:8080/",
          "height": 204
        },
        "id": "jKFNCqHIcI1i",
        "outputId": "e7c9dd5f-e305-4b62-fa3a-f714582818fb"
      },
      "source": [
        "submission_rfc.rename(columns={\"Unnamed 0\": \"Delivery_Status\"}, inplace=True)\n",
        "submission_rfc.head()"
      ],
      "execution_count": null,
      "outputs": [
        {
          "output_type": "execute_result",
          "data": {
            "text/html": [
              "<div>\n",
              "<style scoped>\n",
              "    .dataframe tbody tr th:only-of-type {\n",
              "        vertical-align: middle;\n",
              "    }\n",
              "\n",
              "    .dataframe tbody tr th {\n",
              "        vertical-align: top;\n",
              "    }\n",
              "\n",
              "    .dataframe thead th {\n",
              "        text-align: right;\n",
              "    }\n",
              "</style>\n",
              "<table border=\"1\" class=\"dataframe\">\n",
              "  <thead>\n",
              "    <tr style=\"text-align: right;\">\n",
              "      <th></th>\n",
              "      <th>OrderId</th>\n",
              "      <th>Delivery_Status</th>\n",
              "    </tr>\n",
              "  </thead>\n",
              "  <tbody>\n",
              "    <tr>\n",
              "      <th>0</th>\n",
              "      <td>2372881</td>\n",
              "      <td>1</td>\n",
              "    </tr>\n",
              "    <tr>\n",
              "      <th>1</th>\n",
              "      <td>2445349</td>\n",
              "      <td>0</td>\n",
              "    </tr>\n",
              "    <tr>\n",
              "      <th>2</th>\n",
              "      <td>2441537</td>\n",
              "      <td>1</td>\n",
              "    </tr>\n",
              "    <tr>\n",
              "      <th>3</th>\n",
              "      <td>2461867</td>\n",
              "      <td>1</td>\n",
              "    </tr>\n",
              "    <tr>\n",
              "      <th>4</th>\n",
              "      <td>2461659</td>\n",
              "      <td>0</td>\n",
              "    </tr>\n",
              "  </tbody>\n",
              "</table>\n",
              "</div>"
            ],
            "text/plain": [
              "   OrderId  Delivery_Status\n",
              "0  2372881                1\n",
              "1  2445349                0\n",
              "2  2441537                1\n",
              "3  2461867                1\n",
              "4  2461659                0"
            ]
          },
          "metadata": {},
          "execution_count": 462
        }
      ]
    },
    {
      "cell_type": "code",
      "metadata": {
        "colab": {
          "base_uri": "https://localhost:8080/"
        },
        "id": "czR2gQedcvYT",
        "outputId": "61dc911f-1b90-413d-a54c-d2c544f05671"
      },
      "source": [
        "submission_rfc.shape"
      ],
      "execution_count": null,
      "outputs": [
        {
          "output_type": "execute_result",
          "data": {
            "text/plain": [
              "(54156, 2)"
            ]
          },
          "metadata": {},
          "execution_count": 463
        }
      ]
    },
    {
      "cell_type": "code",
      "metadata": {
        "colab": {
          "base_uri": "https://localhost:8080/"
        },
        "id": "9bu6xbkee6a0",
        "outputId": "507f400e-483f-4f76-aa92-76f749499be5"
      },
      "source": [
        "#from google.colab import files\n",
        "#drive.mount('/drive')"
      ],
      "execution_count": null,
      "outputs": [
        {
          "output_type": "stream",
          "name": "stdout",
          "text": [
            "Drive already mounted at /drive; to attempt to forcibly remount, call drive.mount(\"/drive\", force_remount=True).\n"
          ]
        }
      ]
    },
    {
      "cell_type": "code",
      "metadata": {
        "id": "_-VIf9h3c5TT"
      },
      "source": [
        "submission_rfc.to_csv('submission_rfc.csv',index = False)"
      ],
      "execution_count": null,
      "outputs": []
    },
    {
      "cell_type": "code",
      "metadata": {
        "id": "EPUCMI7Rg9pZ",
        "colab": {
          "base_uri": "https://localhost:8080/",
          "height": 17
        },
        "outputId": "a02062a0-0254-4521-84c3-87d14cdd80ae"
      },
      "source": [
        "from google.colab import files\n",
        "files.download(\"submission_rfc.csv\")"
      ],
      "execution_count": null,
      "outputs": [
        {
          "output_type": "display_data",
          "data": {
            "application/javascript": [
              "\n",
              "    async function download(id, filename, size) {\n",
              "      if (!google.colab.kernel.accessAllowed) {\n",
              "        return;\n",
              "      }\n",
              "      const div = document.createElement('div');\n",
              "      const label = document.createElement('label');\n",
              "      label.textContent = `Downloading \"${filename}\": `;\n",
              "      div.appendChild(label);\n",
              "      const progress = document.createElement('progress');\n",
              "      progress.max = size;\n",
              "      div.appendChild(progress);\n",
              "      document.body.appendChild(div);\n",
              "\n",
              "      const buffers = [];\n",
              "      let downloaded = 0;\n",
              "\n",
              "      const channel = await google.colab.kernel.comms.open(id);\n",
              "      // Send a message to notify the kernel that we're ready.\n",
              "      channel.send({})\n",
              "\n",
              "      for await (const message of channel.messages) {\n",
              "        // Send a message to notify the kernel that we're ready.\n",
              "        channel.send({})\n",
              "        if (message.buffers) {\n",
              "          for (const buffer of message.buffers) {\n",
              "            buffers.push(buffer);\n",
              "            downloaded += buffer.byteLength;\n",
              "            progress.value = downloaded;\n",
              "          }\n",
              "        }\n",
              "      }\n",
              "      const blob = new Blob(buffers, {type: 'application/binary'});\n",
              "      const a = document.createElement('a');\n",
              "      a.href = window.URL.createObjectURL(blob);\n",
              "      a.download = filename;\n",
              "      div.appendChild(a);\n",
              "      a.click();\n",
              "      div.remove();\n",
              "    }\n",
              "  "
            ],
            "text/plain": [
              "<IPython.core.display.Javascript object>"
            ]
          },
          "metadata": {}
        },
        {
          "output_type": "display_data",
          "data": {
            "application/javascript": [
              "download(\"download_eded16f5-b297-437a-8131-26664a181b95\", \"submission_ab.csv\", 541584)"
            ],
            "text/plain": [
              "<IPython.core.display.Javascript object>"
            ]
          },
          "metadata": {}
        }
      ]
    },
    {
      "cell_type": "code",
      "metadata": {
        "id": "yXPYVMIfg902"
      },
      "source": [
        ""
      ],
      "execution_count": null,
      "outputs": []
    },
    {
      "cell_type": "code",
      "metadata": {
        "id": "EO6gM7Y3g-bG"
      },
      "source": [
        ""
      ],
      "execution_count": null,
      "outputs": []
    },
    {
      "cell_type": "code",
      "metadata": {
        "id": "_sBrqTOsYP-x"
      },
      "source": [
        ""
      ],
      "execution_count": null,
      "outputs": []
    },
    {
      "cell_type": "code",
      "metadata": {
        "id": "rJvmLPVRYQNW"
      },
      "source": [
        ""
      ],
      "execution_count": null,
      "outputs": []
    },
    {
      "cell_type": "code",
      "metadata": {
        "id": "hp74lYkHYQtr"
      },
      "source": [
        ""
      ],
      "execution_count": null,
      "outputs": []
    },
    {
      "cell_type": "code",
      "metadata": {
        "id": "msn6UuORLXkz"
      },
      "source": [
        ""
      ],
      "execution_count": null,
      "outputs": []
    },
    {
      "cell_type": "code",
      "metadata": {
        "id": "QyCf1WcCLXoF"
      },
      "source": [
        ""
      ],
      "execution_count": null,
      "outputs": []
    },
    {
      "cell_type": "code",
      "metadata": {
        "id": "BOM9mMm4LXzb"
      },
      "source": [
        ""
      ],
      "execution_count": null,
      "outputs": []
    },
    {
      "cell_type": "code",
      "metadata": {
        "id": "-Osd0_0cJups"
      },
      "source": [
        ""
      ],
      "execution_count": null,
      "outputs": []
    }
  ]
}